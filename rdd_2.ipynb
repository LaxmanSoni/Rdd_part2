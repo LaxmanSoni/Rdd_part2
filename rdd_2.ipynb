{
 "cells": [
  {
   "cell_type": "code",
   "execution_count": 0,
   "metadata": {
    "application/vnd.databricks.v1+cell": {
     "cellMetadata": {
      "byteLimit": 2048000,
      "rowLimit": 10000
     },
     "inputWidgets": {},
     "nuid": "bbae3d49-4088-48ce-af49-b469e5ed8a68",
     "showTitle": false,
     "title": ""
    }
   },
   "outputs": [
    {
     "output_type": "stream",
     "name": "stdout",
     "output_type": "stream",
     "text": [
      "Hello\n"
     ]
    }
   ],
   "source": [
    "print(\"Hello\")"
   ]
  },
  {
   "cell_type": "code",
   "execution_count": 0,
   "metadata": {
    "application/vnd.databricks.v1+cell": {
     "cellMetadata": {
      "byteLimit": 2048000,
      "rowLimit": 10000
     },
     "inputWidgets": {},
     "nuid": "f6f7df31-e6f1-4147-81e2-779afcea3be5",
     "showTitle": false,
     "title": ""
    }
   },
   "outputs": [],
   "source": [
    "#Rdd: reilient distributed dataset\n",
    "# fault tolerance\n",
    "# distribute = > logical partition\n",
    "# dataset => XML , CSV , TSV, HADOOP, MYSQL\n"
   ]
  },
  {
   "cell_type": "code",
   "execution_count": 0,
   "metadata": {
    "application/vnd.databricks.v1+cell": {
     "cellMetadata": {
      "byteLimit": 2048000,
      "rowLimit": 10000
     },
     "inputWidgets": {},
     "nuid": "92a03cc6-dabe-4864-9535-b17d098f08de",
     "showTitle": false,
     "title": ""
    }
   },
   "outputs": [],
   "source": [
    "#spark context \n",
    " # dbfs:/FileStore/shared_uploads/sonilaxman580@gmail.com/airports-1.text\n",
    "\n",
    "rdd1 = sc.textFile(\"dbfs:/FileStore/shared_uploads/sonilaxman580@gmail.com/airports-1.text\")"
   ]
  },
  {
   "cell_type": "code",
   "execution_count": 0,
   "metadata": {
    "application/vnd.databricks.v1+cell": {
     "cellMetadata": {
      "byteLimit": 2048000,
      "rowLimit": 10000
     },
     "inputWidgets": {},
     "nuid": "13eade59-40ee-4e28-81fd-e136908fcf66",
     "showTitle": false,
     "title": ""
    }
   },
   "outputs": [
    {
     "output_type": "stream",
     "name": "stdout",
     "output_type": "stream",
     "text": [
      "Out[7]: ['1,\"Goroka\",\"Goroka\",\"Papua New Guinea\",\"GKA\",\"AYGA\",-6.081689,145.391881,5282,10,\"U\",\"Pacific/Port_Moresby\"',\n '2,\"Madang\",\"Madang\",\"Papua New Guinea\",\"MAG\",\"AYMD\",-5.207083,145.7887,20,10,\"U\",\"Pacific/Port_Moresby\"',\n '3,\"Mount Hagen\",\"Mount Hagen\",\"Papua New Guinea\",\"HGU\",\"AYMH\",-5.826789,144.295861,5388,10,\"U\",\"Pacific/Port_Moresby\"',\n '4,\"Nadzab\",\"Nadzab\",\"Papua New Guinea\",\"LAE\",\"AYNZ\",-6.569828,146.726242,239,10,\"U\",\"Pacific/Port_Moresby\"',\n '5,\"Port Moresby Jacksons Intl\",\"Port Moresby\",\"Papua New Guinea\",\"POM\",\"AYPY\",-9.443383,147.22005,146,10,\"U\",\"Pacific/Port_Moresby\"',\n '6,\"Wewak Intl\",\"Wewak\",\"Papua New Guinea\",\"WWK\",\"AYWK\",-3.583828,143.669186,19,10,\"U\",\"Pacific/Port_Moresby\"',\n '7,\"Narsarsuaq\",\"Narssarssuaq\",\"Greenland\",\"UAK\",\"BGBW\",61.160517,-45.425978,112,-3,\"E\",\"America/Godthab\"',\n '8,\"Nuuk\",\"Godthaab\",\"Greenland\",\"GOH\",\"BGGH\",64.190922,-51.678064,283,-3,\"E\",\"America/Godthab\"',\n '9,\"Sondre Stromfjord\",\"Sondrestrom\",\"Greenland\",\"SFJ\",\"BGSF\",67.016969,-50.689325,165,-3,\"E\",\"America/Godthab\"',\n '10,\"Thule Air Base\",\"Thule\",\"Greenland\",\"THU\",\"BGTL\",76.531203,-68.703161,251,-4,\"E\",\"America/Thule\"',\n '11,\"Akureyri\",\"Akureyri\",\"Iceland\",\"AEY\",\"BIAR\",65.659994,-18.072703,6,0,\"N\",\"Atlantic/Reykjavik\"',\n '12,\"Egilsstadir\",\"Egilsstadir\",\"Iceland\",\"EGS\",\"BIEG\",65.283333,-14.401389,76,0,\"N\",\"Atlantic/Reykjavik\"',\n '13,\"Hornafjordur\",\"Hofn\",\"Iceland\",\"HFN\",\"BIHN\",64.295556,-15.227222,24,0,\"N\",\"Atlantic/Reykjavik\"',\n '14,\"Husavik\",\"Husavik\",\"Iceland\",\"HZK\",\"BIHU\",65.952328,-17.425978,48,0,\"N\",\"Atlantic/Reykjavik\"',\n '15,\"Isafjordur\",\"Isafjordur\",\"Iceland\",\"IFJ\",\"BIIS\",66.058056,-23.135278,8,0,\"N\",\"Atlantic/Reykjavik\"',\n '16,\"Keflavik International Airport\",\"Keflavik\",\"Iceland\",\"KEF\",\"BIKF\",63.985,-22.605556,171,0,\"N\",\"Atlantic/Reykjavik\"',\n '17,\"Patreksfjordur\",\"Patreksfjordur\",\"Iceland\",\"PFJ\",\"BIPA\",65.555833,-23.965,11,0,\"N\",\"Atlantic/Reykjavik\"',\n '18,\"Reykjavik\",\"Reykjavik\",\"Iceland\",\"RKV\",\"BIRK\",64.13,-21.940556,48,0,\"N\",\"Atlantic/Reykjavik\"',\n '19,\"Siglufjordur\",\"Siglufjordur\",\"Iceland\",\"SIJ\",\"BISI\",66.133333,-18.916667,10,0,\"N\",\"Atlantic/Reykjavik\"',\n '20,\"Vestmannaeyjar\",\"Vestmannaeyjar\",\"Iceland\",\"VEY\",\"BIVM\",63.424303,-20.278875,326,0,\"N\",\"Atlantic/Reykjavik\"',\n '21,\"Sault Ste Marie\",\"Sault Sainte Marie\",\"Canada\",\"YAM\",\"CYAM\",46.485001,-84.509445,630,-5,\"A\",\"America/Toronto\"',\n '22,\"Winnipeg St Andrews\",\"Winnipeg\",\"Canada\",\"YAV\",\"CYAV\",50.056389,-97.0325,760,-6,\"A\",\"America/Winnipeg\"',\n '23,\"Shearwater\",\"Halifax\",\"Canada\",\"YAW\",\"CYAW\",44.639721,-63.499444,167,-4,\"A\",\"America/Halifax\"',\n '24,\"St Anthony\",\"St. Anthony\",\"Canada\",\"YAY\",\"CYAY\",51.391944,-56.083056,108,-3.5,\"A\",\"America/St_Johns\"',\n '25,\"Tofino\",\"Tofino\",\"Canada\",\"YAZ\",\"CYAZ\",49.082222,-125.7725,80,-8,\"A\",\"America/Vancouver\"',\n '26,\"Kugaaruk\",\"Pelly Bay\",\"Canada\",\"YBB\",\"CYBB\",68.534444,-89.808056,56,-7,\"A\",\"America/Edmonton\"',\n '27,\"Baie Comeau\",\"Baie Comeau\",\"Canada\",\"YBC\",\"CYBC\",49.1325,-68.204444,71,-5,\"A\",\"America/Toronto\"',\n '28,\"Bagotville\",\"Bagotville\",\"Canada\",\"YBG\",\"CYBG\",48.330555,-70.996391,522,-5,\"A\",\"America/Toronto\"',\n '29,\"Baker Lake\",\"Baker Lake\",\"Canada\",\"YBK\",\"CYBK\",64.298889,-96.077778,59,-6,\"A\",\"America/Winnipeg\"',\n '30,\"Campbell River\",\"Campbell River\",\"Canada\",\"YBL\",\"CYBL\",49.950832,-125.270833,346,-8,\"A\",\"America/Vancouver\"',\n '31,\"Brandon Muni\",\"Brandon\",\"Canada\",\"YBR\",\"CYBR\",49.91,-99.951944,1343,-6,\"A\",\"America/Winnipeg\"',\n '32,\"Cambridge Bay\",\"Cambridge Bay\",\"Canada\",\"YCB\",\"CYCB\",69.108055,-105.138333,90,-7,\"A\",\"America/Edmonton\"',\n '33,\"Nanaimo\",\"Nanaimo\",\"Canada\",\"YCD\",\"CYCD\",49.052333,-123.870167,93,-8,\"A\",\"America/Vancouver\"',\n '34,\"Castlegar\",\"Castlegar\",\"Canada\",\"YCG\",\"CYCG\",49.296389,-117.6325,1624,-8,\"A\",\"America/Vancouver\"',\n '35,\"Miramichi\",\"Chatham\",\"Canada\",\"YCH\",\"CYCH\",47.007778,-65.449167,108,-4,\"A\",\"America/Halifax\"',\n '36,\"Charlo\",\"Charlo\",\"Canada\",\"YCL\",\"CYCL\",47.990833,-66.330278,132,-4,\"A\",\"America/Halifax\"',\n '37,\"Kugluktuk\",\"Coppermine\",\"Canada\",\"YCO\",\"CYCO\",67.816667,-115.143889,74,-7,\"A\",\"America/Edmonton\"',\n '38,\"Coronation\",\"Coronation\",\"Canada\",\"YCT\",\"CYCT\",52.075001,-111.445278,2595,-7,\"A\",\"America/Edmonton\"',\n '39,\"Chilliwack\",\"Chilliwack\",\"Canada\",\"YCW\",\"CYCW\",49.152779,-121.93889,32,-8,\"A\",\"America/Vancouver\"',\n '40,\"Clyde River\",\"Clyde River\",\"Canada\",\"YCY\",\"CYCY\",70.486111,-68.516667,87,-5,\"A\",\"America/Toronto\"',\n '41,\"Fairmont Hot Springs\",\"Coral Harbour\",\"Canada\",\"YZS\",\"CYCZ\",64.193333,-83.359444,2661,-5,\"A\",\"America/Coral_Harbour\"',\n '42,\"Dawson City\",\"Dawson\",\"Canada\",\"YDA\",\"CYDA\",64.043056,-139.127778,1215,-8,\"A\",\"America/Vancouver\"',\n '43,\"Burwash\",\"Burwash\",\"Canada\",\"YDB\",\"CYDB\",61.371111,-139.040556,2647,-8,\"A\",\"America/Vancouver\"',\n '44,\"Princeton\",\"Princeton\",\"Canada\",\"YDC\",\"CYDC\",49.468056,-120.511389,2298,-8,\"A\",\"America/Vancouver\"',\n '45,\"Deer Lake\",\"Deer Lake\",\"Canada\",\"YDF\",\"CYDF\",49.210833,-57.391388,72,-3.5,\"A\",\"America/St_Johns\"',\n '46,\"Dease Lake\",\"Dease Lake\",\"Canada\",\"YDL\",\"CYDL\",58.422222,-130.032222,2600,-8,\"A\",\"America/Vancouver\"',\n '47,\"Dauphin Barker\",\"Dauphin\",\"Canada\",\"YDN\",\"CYDN\",51.100834,-100.0525,999,-6,\"A\",\"America/Winnipeg\"',\n '48,\"Dawson Creek\",\"Dawson Creek\",\"Canada\",\"YDQ\",\"CYDQ\",55.742333,-120.183,2148,-7,\"A\",\"America/Dawson_Creek\"',\n '49,\"Edmonton Intl\",\"Edmonton\",\"Canada\",\"YEG\",\"CYEG\",53.309723,-113.579722,2373,-7,\"A\",\"America/Edmonton\"',\n '50,\"Arviat\",\"Eskimo Point\",\"Canada\",\"YEK\",\"CYEK\",61.094166,-94.070833,32,-6,\"A\",\"America/Winnipeg\"',\n '51,\"Estevan\",\"Estevan\",\"Canada\",\"YEN\",\"CYEN\",49.210278,-102.965833,1905,-6,\"N\",\"America/Regina\"',\n '52,\"Edson\",\"Edson\",\"Canada\",\"YET\",\"CYET\",53.578888,-116.465,3041,-7,\"A\",\"America/Edmonton\"',\n '53,\"Eureka\",\"Eureka\",\"Canada\",\"YEU\",\"CYEU\",79.994722,-85.814167,256,-6,\"A\",\"America/Winnipeg\"',\n '54,\"Inuvik Mike Zubko\",\"Inuvik\",\"Canada\",\"YEV\",\"CYEV\",68.304167,-133.482778,224,-7,\"A\",\"America/Edmonton\"',\n '55,\"Iqaluit\",\"Iqaluit\",\"Canada\",\"YFB\",\"CYFB\",63.75639,-68.555832,110,-5,\"A\",\"America/Toronto\"',\n '56,\"Fredericton\",\"Fredericton\",\"Canada\",\"YFC\",\"CYFC\",45.868889,-66.537222,68,-4,\"A\",\"America/Halifax\"',\n '57,\"Forestville\",\"Forestville\",\"Canada\",\"\",\"CYFE\",48.746111,-69.097222,293,-5,\"A\",\"America/Toronto\"',\n '58,\"Flin Flon\",\"Flin Flon\",\"Canada\",\"YFO\",\"CYFO\",54.678055,-101.681667,997,-6,\"A\",\"America/Winnipeg\"',\n '59,\"Fort Resolution\",\"Fort Resolution\",\"Canada\",\"YFR\",\"CYFR\",61.180832,-113.689722,526,-7,\"A\",\"America/Edmonton\"',\n '60,\"Fort Simpson\",\"Fort Simpson\",\"Canada\",\"YFS\",\"CYFS\",61.760153,-121.236525,555,-7,\"A\",\"America/Edmonton\"',\n '61,\"Kingston\",\"Kingston\",\"Canada\",\"YGK\",\"CYGK\",44.225277,-76.596944,305,-5,\"A\",\"America/Toronto\"',\n '62,\"La Grande Riviere\",\"La Grande Riviere\",\"Canada\",\"YGL\",\"CYGL\",53.625278,-77.704167,639,-5,\"A\",\"America/Toronto\"',\n '63,\"Gaspe\",\"Gaspe\",\"Canada\",\"YGP\",\"CYGP\",48.775278,-64.478611,108,-5,\"A\",\"America/Toronto\"',\n '64,\"Geraldton Greenstone Regional\",\"Geraldton\",\"Canada\",\"YGQ\",\"CYGQ\",49.778332,-86.939445,1144,-5,\"A\",\"America/Toronto\"',\n '65,\"Iles De La Madeleine\",\"Iles De La Madeleine\",\"Canada\",\"YGR\",\"CYGR\",47.424721,-61.778056,35,-5,\"A\",\"America/Toronto\"',\n '66,\"Hudson Bay\",\"Hudson Bay\",\"Canada\",\"YHB\",\"CYHB\",52.816666,-102.31139,1175,-6,\"N\",\"America/Regina\"',\n '67,\"Dryden Rgnl\",\"Dryden\",\"Canada\",\"YHD\",\"CYHD\",49.831667,-92.744167,1354,-6,\"A\",\"America/Winnipeg\"',\n '68,\"Ulukhaktok Holman\",\"Holman Island\",\"Canada\",\"YHI\",\"CYHI\",70.762778,-117.806111,117,-7,\"A\",\"America/Edmonton\"',\n '69,\"Gjoa Haven\",\"Gjoa Haven\",\"Canada\",\"YHK\",\"CYHK\",68.635556,-95.849722,152,-7,\"A\",\"America/Edmonton\"',\n '70,\"Hamilton\",\"Hamilton\",\"Canada\",\"YHM\",\"CYHM\",43.173611,-79.935,780,-5,\"A\",\"America/Toronto\"',\n '71,\"St Hubert\",\"Montreal\",\"Canada\",\"YHU\",\"CYHU\",45.5175,-73.416944,90,-5,\"A\",\"America/Toronto\"',\n '72,\"Hay River\",\"Hay River\",\"Canada\",\"YHY\",\"CYHY\",60.839722,-115.782778,543,-7,\"A\",\"America/Edmonton\"',\n '73,\"Halifax Intl\",\"Halifax\",\"Canada\",\"YHZ\",\"CYHZ\",44.880833,-63.50861,477,-4,\"A\",\"America/Halifax\"',\n '74,\"Atikokan Muni\",\"Atikokan\",\"Canada\",\"YIB\",\"CYIB\",48.773888,-91.638611,1408,-5,\"A\",\"America/Coral_Harbour\"',\n '75,\"Pond Inlet\",\"Pond Inlet\",\"Canada\",\"YIO\",\"CYIO\",72.683334,-77.966667,181,-5,\"A\",\"America/Toronto\"',\n '76,\"St Jean\",\"St. Jean\",\"Canada\",\"YJN\",\"CYJN\",45.294445,-73.281111,136,-5,\"A\",\"America/Toronto\"',\n '77,\"Stephenville\",\"Stephenville\",\"Canada\",\"YJT\",\"CYJT\",48.544167,-58.549999,80,-3.5,\"A\",\"America/St_Johns\"',\n '78,\"Kamloops\",\"Kamloops\",\"Canada\",\"YKA\",\"CYKA\",50.702222,-120.444444,1133,-8,\"A\",\"America/Vancouver\"',\n '79,\"Waterloo\",\"Waterloo\",\"Canada\",\"YKF\",\"CYKF\",43.460833,-80.378611,1054,-5,\"A\",\"America/Toronto\"',\n '80,\"Schefferville\",\"Schefferville\",\"Canada\",\"YKL\",\"CYKL\",54.805278,-66.805278,1709,-5,\"A\",\"America/Toronto\"',\n '81,\"Kindersley\",\"Kindersley\",\"Canada\",\"YKY\",\"CYKY\",51.5175,-109.180833,2277,-6,\"N\",\"America/Regina\"',\n '82,\"Buttonville Muni\",\"Toronto\",\"Canada\",\"YKZ\",\"CYKZ\",43.862221,-79.37,650,-5,\"A\",\"America/Toronto\"',\n '83,\"Chapleau\",\"Chapleau\",\"Canada\",\"YLD\",\"CYLD\",47.82,-83.346667,1470,-5,\"A\",\"America/Toronto\"',\n '84,\"Meadow Lake\",\"Meadow Lake\",\"Canada\",\"YLJ\",\"CYLJ\",54.125278,-108.522778,1576,-6,\"N\",\"America/Regina\"',\n '85,\"Lloydminster\",\"Lloydminster\",\"Canada\",\"YLL\",\"CYLL\",53.309166,-110.0725,2193,-7,\"A\",\"America/Edmonton\"',\n '86,\"Alert\",\"Alert\",\"Canada\",\"YLT\",\"CYLT\",82.517778,-62.280556,100,-5,\"A\",\"America/Toronto\"',\n '87,\"Kelowna\",\"Kelowna\",\"Canada\",\"YLW\",\"CYLW\",49.956112,-119.377778,1409,-8,\"A\",\"America/Vancouver\"',\n '88,\"Mayo\",\"Mayo\",\"Canada\",\"YMA\",\"CYMA\",63.616389,-135.868333,1653,-8,\"A\",\"America/Vancouver\"',\n '89,\"Moose Jaw Air Vice Marshal C M Mcewen\",\"Moose Jaw\",\"Canada\",\"YMJ\",\"CYMJ\",50.330278,-105.559167,1892,-6,\"N\",\"America/Regina\"',\n '90,\"Fort Mcmurray\",\"Fort Mcmurray\",\"Canada\",\"YMM\",\"CYMM\",56.653333,-111.221944,1211,-7,\"A\",\"America/Edmonton\"',\n '91,\"Moosonee\",\"Moosonee\",\"Canada\",\"YMO\",\"CYMO\",51.291111,-80.607778,30,-5,\"A\",\"America/Toronto\"',\n '92,\"Maniwaki\",\"Maniwaki\",\"Canada\",\"YMW\",\"CYMW\",46.272778,-75.990556,656,-5,\"A\",\"America/Toronto\"',\n '93,\"Montreal Intl Mirabel\",\"Montreal\",\"Canada\",\"YMX\",\"CYMX\",45.681944,-74.005278,270,-5,\"A\",\"America/Toronto\"',\n '94,\"Natashquan\",\"Natashquan\",\"Canada\",\"YNA\",\"CYNA\",50.19,-61.789167,39,-5,\"A\",\"America/Toronto\"',\n '95,\"Gatineau\",\"Gatineau\",\"Canada\",\"YND\",\"CYND\",45.521694,-75.563589,211,-5,\"A\",\"America/Toronto\"',\n '96,\"Matagami\",\"Matagami\",\"Canada\",\"YNM\",\"CYNM\",49.761667,-77.802778,918,-5,\"A\",\"America/Toronto\"',\n '97,\"Old Crow\",\"Old Crow\",\"Canada\",\"YOC\",\"CYOC\",67.570556,-139.839167,824,-8,\"A\",\"America/Vancouver\"',\n '98,\"Cold Lake\",\"Cold Lake\",\"Canada\",\"YOD\",\"CYOD\",54.404999,-110.279444,1775,-7,\"A\",\"America/Edmonton\"',\n '99,\"High Level\",\"High Level\",\"Canada\",\"YOJ\",\"CYOJ\",58.621389,-117.164722,1110,-7,\"A\",\"America/Edmonton\"',\n '100,\"Ottawa Macdonald Cartier Intl\",\"Ottawa\",\"Canada\",\"YOW\",\"CYOW\",45.3225,-75.669167,374,-5,\"A\",\"America/Toronto\"',\n '101,\"Prince Albert Glass Field\",\"Prince Albert\",\"Canada\",\"YPA\",\"CYPA\",53.214167,-105.672778,1405,-6,\"N\",\"America/Regina\"',\n '102,\"Peace River\",\"Peace River\",\"Canada\",\"YPE\",\"CYPE\",56.226944,-117.447222,1873,-7,\"A\",\"America/Edmonton\"',\n '103,\"Southport\",\"Portage-la-prairie\",\"Canada\",\"YPG\",\"CYPG\",49.903056,-98.273889,885,-6,\"A\",\"America/Winnipeg\"',\n '104,\"Pitt Meadows\",\"Pitt Meadows\",\"Canada\",\"\",\"CYPK\",49.21611,-122.71,11,-8,\"A\",\"America/Vancouver\"',\n '105,\"Pickle Lake\",\"Pickle Lake\",\"Canada\",\"YPL\",\"CYPL\",51.446388,-90.214167,1267,-5,\"A\",\"America/Coral_Harbour\"',\n '106,\"Port Menier\",\"Port Menier\",\"Canada\",\"YPN\",\"CYPN\",49.836389,-64.288611,167,-5,\"A\",\"America/Toronto\"',\n '107,\"Peterborough\",\"Peterborough\",\"Canada\",\"YPQ\",\"CYPQ\",44.23,-78.363333,628,-5,\"A\",\"America/Toronto\"',\n '108,\"Prince Rupert\",\"Prince Pupert\",\"Canada\",\"YPR\",\"CYPR\",54.28611,-130.444722,116,-8,\"A\",\"America/Vancouver\"',\n '109,\"Fort Chipewyan\",\"Fort Chipewyan\",\"Canada\",\"YPY\",\"CYPY\",58.767223,-111.117222,761,-7,\"A\",\"America/Edmonton\"',\n '110,\"Muskoka\",\"Muskoka\",\"Canada\",\"YQA\",\"CYQA\",44.974722,-79.303333,925,-5,\"A\",\"America/Toronto\"',\n '111,\"Quebec Jean Lesage Intl\",\"Quebec\",\"Canada\",\"YQB\",\"CYQB\",46.791111,-71.393333,244,-5,\"A\",\"America/Toronto\"',\n '112,\"Red Deer Regional\",\"Red Deer Industrial\",\"Canada\",\"YQF\",\"CYQF\",52.182222,-113.894444,2968,-7,\"A\",\"America/Edmonton\"',\n '113,\"Windsor\",\"Windsor\",\"Canada\",\"YQG\",\"CYQG\",42.275556,-82.955556,622,-5,\"A\",\"America/Toronto\"',\n '114,\"Watson Lake\",\"Watson Lake\",\"Canada\",\"YQH\",\"CYQH\",60.116389,-128.8225,2255,-8,\"A\",\"America/Vancouver\"',\n '115,\"Kenora\",\"Kenora\",\"Canada\",\"YQK\",\"CYQK\",49.788334,-94.363056,1332,-6,\"A\",\"America/Winnipeg\"',\n '116,\"Lethbridge\",\"Lethbridge\",\"Canada\",\"YQL\",\"CYQL\",49.630278,-112.799722,3047,-7,\"A\",\"America/Edmonton\"',\n '117,\"Greater Moncton Intl\",\"Moncton\",\"Canada\",\"YQM\",\"CYQM\",46.112221,-64.678611,232,-4,\"A\",\"America/Halifax\"',\n '119,\"Comox\",\"Comox\",\"Canada\",\"YQQ\",\"CYQQ\",49.710833,-124.886667,84,-8,\"A\",\"America/Vancouver\"',\n '120,\"Regina Intl\",\"Regina\",\"Canada\",\"YQR\",\"CYQR\",50.431944,-104.665833,1894,-6,\"N\",\"America/Regina\"',\n '121,\"Thunder Bay\",\"Thunder Bay\",\"Canada\",\"YQT\",\"CYQT\",48.371944,-89.323889,653,-5,\"A\",\"America/Toronto\"',\n '122,\"Grande Prairie\",\"Grande Prairie\",\"Canada\",\"YQU\",\"CYQU\",55.179722,-118.885,2195,-7,\"A\",\"America/Edmonton\"',\n '123,\"Yorkton Muni\",\"Yorkton\",\"Canada\",\"YQV\",\"CYQV\",51.264721,-102.461667,1635,-6,\"N\",\"America/Regina\"',\n '124,\"North Battleford\",\"North Battleford\",\"Canada\",\"YQW\",\"CYQW\",52.769167,-108.24361,1799,-6,\"N\",\"America/Regina\"',\n '125,\"Gander Intl\",\"Gander\",\"Canada\",\"YQX\",\"CYQX\",48.936944,-54.568056,496,-3.5,\"A\",\"America/St_Johns\"',\n '126,\"Sydney\",\"Sydney\",\"Canada\",\"YQY\",\"CYQY\",46.161388,-60.047779,203,-4,\"A\",\"America/Halifax\"',\n '127,\"Quesnel\",\"Quesnel\",\"Canada\",\"YQZ\",\"CYQZ\",53.026112,-122.510278,1789,-8,\"A\",\"America/Vancouver\"',\n '128,\"Resolute Bay\",\"Resolute\",\"Canada\",\"YRB\",\"CYRB\",74.716944,-94.969444,215,-6,\"A\",\"America/Winnipeg\"',\n '129,\"Riviere Du Loup\",\"Riviere Du Loup\",\"Canada\",\"YRI\",\"CYRI\",47.764444,-69.584722,427,-5,\"A\",\"America/Toronto\"',\n '130,\"Roberval\",\"Roberval\",\"Canada\",\"YRJ\",\"CYRJ\",48.52,-72.265556,586,-5,\"A\",\"America/Toronto\"',\n '131,\"Rocky Mountain House\",\"Rocky Mountain House\",\"Canada\",\"YRM\",\"CYRM\",52.429722,-114.904167,3244,-7,\"A\",\"America/Edmonton\"',\n '132,\"Rankin Inlet\",\"Rankin Inlet\",\"Canada\",\"YRT\",\"CYRT\",62.81139,-92.115833,94,-6,\"A\",\"America/Winnipeg\"',\n '133,\"Sudbury\",\"Sudbury\",\"Canada\",\"YSB\",\"CYSB\",46.625,-80.798889,1141,-5,\"A\",\"America/Toronto\"',\n '134,\"Sherbrooke\",\"Sherbrooke\",\"Canada\",\"YSC\",\"CYSC\",45.438611,-71.691389,792,-5,\"A\",\"America/Toronto\"',\n '135,\"Saint John\",\"St. John\",\"Canada\",\"YSJ\",\"CYSJ\",45.316111,-65.890278,357,-4,\"A\",\"America/Halifax\"',\n '136,\"Fort Smith\",\"Fort Smith\",\"Canada\",\"YSM\",\"CYSM\",60.020278,-111.961944,671,-7,\"A\",\"America/Edmonton\"',\n '137,\"Nanisivik\",\"Nanisivik\",\"Canada\",\"YSR\",\"CYSR\",72.982222,-84.613611,2106,-5,\"A\",\"America/Toronto\"',\n '138,\"Summerside\",\"Summerside\",\"Canada\",\"YSU\",\"CYSU\",46.440556,-63.833611,56,-4,\"A\",\"America/Halifax\"',\n '139,\"Sachs Harbour\",\"Sachs Harbour\",\"Canada\",\"YSY\",\"CYSY\",71.993889,-125.2425,282,-7,\"A\",\"America/Edmonton\"',\n '140,\"Cape Dorset\",\"Cape Dorset\",\"Canada\",\"YTE\",\"CYTE\",64.23,-76.526667,164,-5,\"A\",\"America/Toronto\"',\n '141,\"Thompson\",\"Thompson\",\"Canada\",\"YTH\",\"CYTH\",55.801111,-97.864166,729,-6,\"A\",\"America/Winnipeg\"',\n '142,\"Trenton\",\"Trenton\",\"Canada\",\"YTR\",\"CYTR\",44.118889,-77.528056,283,-5,\"A\",\"America/Toronto\"',\n '143,\"Timmins\",\"Timmins\",\"Canada\",\"YTS\",\"CYTS\",48.569721,-81.376667,967,-5,\"A\",\"America/Toronto\"',\n '144,\"City Centre\",\"Toronto\",\"Canada\",\"YTZ\",\"CYTZ\",43.627499,-79.396167,251,-5,\"A\",\"America/Toronto\"',\n '145,\"Tuktoyaktuk\",\"Tuktoyaktuk\",\"Canada\",\"YUB\",\"CYUB\",69.433334,-133.026389,15,-7,\"A\",\"America/Edmonton\"',\n '146,\"Pierre Elliott Trudeau Intl\",\"Montreal\",\"Canada\",\"YUL\",\"CYUL\",45.470556,-73.740833,118,-5,\"A\",\"America/Toronto\"',\n '147,\"Repulse Bay\",\"Repulse Bay\",\"Canada\",\"YUT\",\"CYUT\",66.521389,-86.224722,80,-6,\"A\",\"America/Winnipeg\"',\n '148,\"Hall Beach\",\"Hall Beach\",\"Canada\",\"YUX\",\"CYUX\",68.776111,-81.243611,27,-5,\"A\",\"America/Toronto\"',\n '149,\"Rouyn Noranda\",\"Rouyn\",\"Canada\",\"YUY\",\"CYUY\",48.206111,-78.835556,988,-5,\"A\",\"America/Toronto\"',\n '150,\"La Ronge\",\"La Ronge\",\"Canada\",\"YVC\",\"CYVC\",55.15139,-105.261944,1242,-6,\"N\",\"America/Regina\"',\n '151,\"Vermilion\",\"Vermillion\",\"Canada\",\"YVG\",\"CYVG\",53.355833,-110.82389,2025,-7,\"A\",\"America/Edmonton\"',\n '152,\"Qikiqtarjuaq\",\"Broughton Island\",\"Canada\",\"YVM\",\"CYVM\",67.545833,-64.031389,21,-5,\"A\",\"America/Toronto\"',\n '153,\"Val D Or\",\"Val D\\'or\",\"Canada\",\"YVO\",\"CYVO\",48.053333,-77.782778,1107,-5,\"A\",\"America/Toronto\"',\n '154,\"Kuujjuaq\",\"Quujjuaq\",\"Canada\",\"YVP\",\"CYVP\",58.096111,-68.426944,129,-5,\"A\",\"America/Toronto\"',\n '155,\"Norman Wells\",\"Norman Wells\",\"Canada\",\"YVQ\",\"CYVQ\",65.281617,-126.798219,238,-7,\"A\",\"America/Edmonton\"',\n '156,\"Vancouver Intl\",\"Vancouver\",\"Canada\",\"YVR\",\"CYVR\",49.193889,-123.184444,14,-8,\"A\",\"America/Vancouver\"',\n '157,\"Buffalo Narrows\",\"Buffalo Narrows\",\"Canada\",\"YVT\",\"CYVT\",55.841944,-108.4175,1444,-6,\"N\",\"America/Regina\"',\n '158,\"Wiarton\",\"Wiarton\",\"Canada\",\"YVV\",\"CYVV\",44.745834,-81.107222,729,-5,\"A\",\"America/Toronto\"',\n '159,\"Petawawa\",\"Petawawa\",\"Canada\",\"YWA\",\"CYWA\",45.952221,-77.319168,427,-5,\"A\",\"America/Toronto\"',\n '160,\"Winnipeg Intl\",\"Winnipeg\",\"Canada\",\"YWG\",\"CYWG\",49.910036,-97.239886,783,-6,\"A\",\"America/Winnipeg\"',\n '161,\"Wabush\",\"Wabush\",\"Canada\",\"YWK\",\"CYWK\",52.921944,-66.864444,1808,-4,\"A\",\"America/Halifax\"',\n '162,\"Williams Lake\",\"Williams Lake\",\"Canada\",\"YWL\",\"CYWL\",52.183056,-122.054167,3085,-8,\"A\",\"America/Vancouver\"',\n '163,\"Wrigley\",\"Wrigley\",\"Canada\",\"YWY\",\"CYWY\",63.209444,-123.436667,489,-7,\"A\",\"America/Edmonton\"',\n '164,\"Canadian Rockies Intl\",\"Cranbrook\",\"Canada\",\"YXC\",\"CYXC\",49.612222,-115.781944,3084,-7,\"A\",\"America/Edmonton\"',\n '165,\"Edmonton City Centre\",\"Edmonton\",\"Canada\",\"YXD\",\"CYXD\",53.5725,-113.520556,2200,-7,\"A\",\"America/Edmonton\"',\n '166,\"Saskatoon J G Diefenbaker Intl\",\"Saskatoon\",\"Canada\",\"YXE\",\"CYXE\",52.170834,-106.699722,1653,-6,\"N\",\"America/Regina\"',\n '167,\"Medicine Hat\",\"Medicine Hat\",\"Canada\",\"YXH\",\"CYXH\",50.01889,-110.720833,2352,-7,\"A\",\"America/Edmonton\"',\n '168,\"Fort St John\",\"Fort Saint John\",\"Canada\",\"YXJ\",\"CYXJ\",56.238056,-120.740278,2280,-7,\"A\",\"America/Dawson_Creek\"',\n '169,\"Sioux Lookout\",\"Sioux Lookout\",\"Canada\",\"YXL\",\"CYXL\",50.113889,-91.905278,1258,-6,\"A\",\"America/Winnipeg\"',\n '170,\"Pangnirtung\",\"Pangnirtung\",\"Canada\",\"YXP\",\"CYXP\",66.145,-65.713611,75,-5,\"A\",\"America/Toronto\"',\n '171,\"Timiskaming Rgnl\",\"Earlton\",\"Canada\",\"YXR\",\"CYXR\",47.695,-79.848889,798,-5,\"A\",\"America/Toronto\"',\n '172,\"Prince George\",\"Prince George\",\"Canada\",\"YXS\",\"CYXS\",53.889444,-122.678889,2267,-8,\"A\",\"America/Vancouver\"',\n '173,\"Terrace\",\"Terrace\",\"Canada\",\"YXT\",\"CYXT\",54.468508,-128.576219,713,-8,\"A\",\"America/Vancouver\"',\n '174,\"London\",\"London\",\"Canada\",\"YXU\",\"CYXU\",43.033056,-81.151111,912,-5,\"A\",\"America/Toronto\"',\n '175,\"Abbotsford\",\"Abbotsford\",\"Canada\",\"YXX\",\"CYXX\",49.025278,-122.360556,195,-8,\"A\",\"America/Vancouver\"',\n '176,\"Whitehorse Intl\",\"Whitehorse\",\"Canada\",\"YXY\",\"CYXY\",60.709553,-135.067269,2317,-8,\"A\",\"America/Vancouver\"',\n '177,\"North Bay\",\"North Bay\",\"Canada\",\"YYB\",\"CYYB\",46.363611,-79.422778,1215,-5,\"A\",\"America/Toronto\"',\n '178,\"Calgary Intl\",\"Calgary\",\"Canada\",\"YYC\",\"CYYC\",51.113888,-114.020278,3557,-7,\"A\",\"America/Edmonton\"',\n '179,\"Smithers\",\"Smithers\",\"Canada\",\"YYD\",\"CYYD\",54.824722,-127.182778,1712,-8,\"A\",\"America/Vancouver\"',\n '180,\"Fort Nelson\",\"Fort Nelson\",\"Canada\",\"YYE\",\"CYYE\",58.836389,-122.596944,1253,-8,\"A\",\"America/Vancouver\"',\n '181,\"Penticton\",\"Penticton\",\"Canada\",\"YYF\",\"CYYF\",49.463056,-119.602222,1129,-8,\"A\",\"America/Vancouver\"',\n '182,\"Charlottetown\",\"Charlottetown\",\"Canada\",\"YYG\",\"CYYG\",46.290001,-63.121111,160,-4,\"A\",\"America/Halifax\"',\n '183,\"Taloyoak\",\"Spence Bay\",\"Canada\",\"YYH\",\"CYYH\",69.546667,-93.576667,92,-7,\"A\",\"America/Edmonton\"',\n '184,\"Victoria Intl\",\"Victoria\",\"Canada\",\"YYJ\",\"CYYJ\",48.646944,-123.425833,63,-8,\"A\",\"America/Vancouver\"',\n '185,\"Lynn Lake\",\"Lynn Lake\",\"Canada\",\"YYL\",\"CYYL\",56.863888,-101.07611,1170,-6,\"A\",\"America/Winnipeg\"',\n '186,\"Swift Current\",\"Swift Current\",\"Canada\",\"YYN\",\"CYYN\",50.291944,-107.690556,2680,-6,\"N\",\"America/Regina\"',\n '187,\"Churchill\",\"Churchill\",\"Canada\",\"YYQ\",\"CYYQ\",58.739167,-94.065,94,-6,\"A\",\"America/Winnipeg\"',\n '188,\"Goose Bay\",\"Goose Bay\",\"Canada\",\"YYR\",\"CYYR\",53.319168,-60.425833,160,-4,\"A\",\"America/Halifax\"',\n '189,\"St Johns Intl\",\"St. John\\'s\",\"Canada\",\"YYT\",\"CYYT\",47.61861,-52.751945,461,-3.5,\"A\",\"America/St_Johns\"',\n '190,\"Kapuskasing\",\"Kapuskasing\",\"Canada\",\"YYU\",\"CYYU\",49.413889,-82.4675,743,-5,\"A\",\"America/Toronto\"',\n '191,\"Armstrong\",\"Armstrong\",\"Canada\",\"YYW\",\"CYYW\",50.290279,-88.909721,1058,-5,\"A\",\"America/Toronto\"',\n '192,\"Mont Joli\",\"Mont Joli\",\"Canada\",\"YYY\",\"CYYY\",48.608612,-68.208056,172,-5,\"A\",\"America/Toronto\"',\n '193,\"Lester B Pearson Intl\",\"Toronto\",\"Canada\",\"YYZ\",\"CYYZ\",43.677223,-79.630556,569,-5,\"A\",\"America/Toronto\"',\n '194,\"Downsview\",\"Toronto\",\"Canada\",\"YZD\",\"CYZD\",43.7425,-79.465556,652,-5,\"A\",\"America/Toronto\"',\n '195,\"Gore Bay Manitoulin\",\"Gore Bay\",\"Canada\",\"YZE\",\"CYZE\",45.885277,-82.567778,635,-5,\"A\",\"America/Toronto\"',\n '196,\"Yellowknife\",\"Yellowknife\",\"Canada\",\"YZF\",\"CYZF\",62.462778,-114.440278,675,-7,\"A\",\"America/Edmonton\"',\n '197,\"Slave Lake\",\"Slave Lake\",\"Canada\",\"YZH\",\"CYZH\",55.293056,-114.777222,1912,-7,\"A\",\"America/Edmonton\"',\n '198,\"Sandspit\",\"Sandspit\",\"Canada\",\"YZP\",\"CYZP\",53.254333,-131.813833,21,-8,\"A\",\"America/Vancouver\"',\n '199,\"Chris Hadfield\",\"Sarnia\",\"Canada\",\"YZR\",\"CYZR\",42.999444,-82.308889,594,-5,\"A\",\"America/Toronto\"',\n '200,\"Port Hardy\",\"Port Hardy\",\"Canada\",\"YZT\",\"CYZT\",50.680556,-127.366667,71,-8,\"A\",\"America/Vancouver\"',\n '201,\"Whitecourt\",\"Whitecourt\",\"Canada\",\"YZU\",\"CYZU\",54.14389,-115.786667,2567,-7,\"A\",\"America/Edmonton\"',\n '202,\"Sept Iles\",\"Sept-iles\",\"Canada\",\"YZV\",\"CYZV\",50.223333,-66.265556,180,-5,\"A\",\"America/Toronto\"',\n '203,\"Teslin\",\"Teslin\",\"Canada\",\"YZW\",\"CYZW\",60.172779,-132.742778,2313,-8,\"A\",\"America/Vancouver\"',\n '204,\"Greenwood\",\"Greenwood\",\"Canada\",\"YZX\",\"CYZX\",44.984444,-64.916944,92,-4,\"A\",\"America/Halifax\"',\n '205,\"Faro\",\"Faro\",\"Canada\",\"ZFA\",\"CZFA\",62.2075,-133.375833,2351,-8,\"A\",\"America/Vancouver\"',\n '206,\"Fort Mcpherson\",\"Fort Mcpherson\",\"Canada\",\"ZFM\",\"CZFM\",67.4075,-134.860556,116,-7,\"A\",\"America/Edmonton\"',\n '207,\"Blida\",\"Blida\",\"Algeria\",\"\",\"DAAB\",36.503613,2.814167,535,1,\"N\",\"Africa/Algiers\"',\n '208,\"Bou Saada\",\"Bou Saada\",\"Algeria\",\"\",\"DAAD\",35.3325,4.206389,1506,1,\"N\",\"Africa/Algiers\"',\n '209,\"Soummam\",\"Bejaja\",\"Algeria\",\"BJA\",\"DAAE\",36.711997,5.069922,20,1,\"N\",\"Africa/Algiers\"',\n '210,\"Houari Boumediene\",\"Algier\",\"Algeria\",\"ALG\",\"DAAG\",36.691014,3.215408,82,1,\"N\",\"Africa/Algiers\"',\n '211,\"Tiska\",\"Djanet\",\"Algeria\",\"DJG\",\"DAAJ\",24.292767,9.452444,3176,1,\"N\",\"Africa/Algiers\"',\n '212,\"Boufarik\",\"Boufarik\",\"Algeria\",\"QFD\",\"DAAK\",36.545834,2.876111,335,1,\"N\",\"Africa/Algiers\"',\n '213,\"Reggane\",\"Reggan\",\"Algeria\",\"\",\"DAAN\",26.710103,0.285647,955,1,\"N\",\"Africa/Algiers\"',\n '214,\"Illizi Takhamalt\",\"Illizi\",\"Algeria\",\"VVZ\",\"DAAP\",26.723536,8.622653,1778,1,\"N\",\"Africa/Algiers\"',\n '215,\"Ain Oussera\",\"Ain Oussera\",\"Algeria\",\"\",\"DAAQ\",35.525414,2.878714,2132,1,\"N\",\"Africa/Algiers\"',\n '216,\"Tamanrasset\",\"Tamanrasset\",\"Algeria\",\"TMR\",\"DAAT\",22.811461,5.451075,4518,1,\"N\",\"Africa/Algiers\"',\n '217,\"Jijel\",\"Jijel\",\"Algeria\",\"GJL\",\"DAAV\",36.795136,5.873608,36,1,\"N\",\"Africa/Algiers\"',\n '218,\"Mecheria\",\"Mecheria\",\"Algeria\",\"\",\"DAAY\",33.535853,-0.242353,3855,1,\"N\",\"Africa/Algiers\"',\n '219,\"Relizane\",\"Relizane\",\"Algeria\",\"\",\"DAAZ\",35.752239,0.626272,282,1,\"N\",\"Africa/Algiers\"',\n '220,\"Annaba\",\"Annaba\",\"Algeria\",\"AAE\",\"DABB\",36.822225,7.809167,16,1,\"N\",\"Africa/Algiers\"',\n '221,\"Mohamed Boudiaf Intl\",\"Constantine\",\"Algeria\",\"CZL\",\"DABC\",36.276028,6.620386,2265,1,\"N\",\"Africa/Algiers\"',\n '222,\"Cheikh Larbi Tebessi\",\"Tebessa\",\"Algeria\",\"TEE\",\"DABS\",35.431611,8.120717,2661,1,\"N\",\"Africa/Algiers\"',\n '224,\"Hassi R Mel\",\"Tilrempt\",\"Algeria\",\"HRM\",\"DAFH\",32.930431,3.311542,2540,1,\"N\",\"Africa/Algiers\"',\n '225,\"Bou Chekif\",\"Tiaret\",\"Algeria\",\"TID\",\"DAOB\",35.341136,1.463147,3245,1,\"N\",\"Africa/Algiers\"',\n '226,\"Bou Sfer\",\"Bou Sfer\",\"Algeria\",\"\",\"DAOE\",35.735389,-0.805389,187,1,\"N\",\"Africa/Algiers\"',\n '227,\"Tindouf\",\"Tindouf\",\"Algeria\",\"TIN\",\"DAOF\",27.700372,-8.167103,1453,1,\"N\",\"Africa/Algiers\"',\n '228,\"Ech Cheliff\",\"Ech-cheliff\",\"Algeria\",\"QAS\",\"DAOI\",36.212658,1.331775,463,1,\"N\",\"Africa/Algiers\"',\n '229,\"Tafaraoui\",\"Oran\",\"Algeria\",\"TAF\",\"DAOL\",35.542444,-0.532278,367,1,\"N\",\"Africa/Algiers\"',\n '230,\"Zenata\",\"Tlemcen\",\"Algeria\",\"TLM\",\"DAON\",35.016667,-1.45,814,1,\"N\",\"Africa/Algiers\"',\n '231,\"Es Senia\",\"Oran\",\"Algeria\",\"ORN\",\"DAOO\",35.623858,-0.621183,295,1,\"N\",\"Africa/Algiers\"',\n '232,\"Sidi Bel Abbes\",\"Sidi Bel Abbes\",\"Algeria\",\"\",\"DAOS\",35.171775,-0.593275,1614,1,\"N\",\"Africa/Algiers\"',\n '233,\"Ghriss\",\"Ghriss\",\"Algeria\",\"MUW\",\"DAOV\",35.207725,0.147142,1686,1,\"N\",\"Africa/Algiers\"',\n '234,\"Touat Cheikh Sidi Mohamed Belkebir\",\"Adrar\",\"Algeria\",\"AZR\",\"DAUA\",27.837589,-0.186414,919,1,\"N\",\"Africa/Algiers\"',\n '235,\"Biskra\",\"Biskra\",\"Algeria\",\"BSK\",\"DAUB\",34.793289,5.738231,289,1,\"N\",\"Africa/Algiers\"',\n '236,\"El Golea\",\"El Golea\",\"Algeria\",\"ELG\",\"DAUE\",30.571294,2.859586,1306,1,\"N\",\"Africa/Algiers\"',\n '237,\"N\n\n*** WARNING: max output size exceeded, skipping output. ***\n\n\"',\n '782,\"Buchel\",\"Buechel\",\"Germany\",\"\",\"ETSB\",50.173833,7.063333,1568,1,\"E\",\"Europe/Berlin\"',\n '783,\"Erding\",\"Erding\",\"Germany\",\"\",\"ETSE\",48.322333,11.948667,1515,1,\"E\",\"Europe/Berlin\"',\n '784,\"Furstenfeldbruck\",\"Fuerstenfeldbruck\",\"Germany\",\"FEL\",\"ETSF\",48.205667,11.267,1703,1,\"E\",\"Europe/Berlin\"',\n '785,\"Holzdorf\",\"Holzdorf\",\"Germany\",\"\",\"ETSH\",51.767833,13.167667,265,1,\"E\",\"Europe/Berlin\"',\n '786,\"Ingolstadt Manching\",\"Ingolstadt\",\"Germany\",\"\",\"ETSI\",48.715667,11.534,1202,1,\"E\",\"Europe/Berlin\"',\n '787,\"Lechfeld\",\"Lechfeld\",\"Germany\",\"\",\"ETSL\",48.1855,10.861167,1822,1,\"E\",\"Europe/Berlin\"',\n '788,\"Neuburg\",\"Neuburg\",\"Germany\",\"\",\"ETSN\",48.711,11.2115,1249,1,\"E\",\"Europe/Berlin\"',\n '789,\"Gutersloh\",\"Guetersloh\",\"Germany\",\"GUT\",\"ETUO\",51.922833,8.306333,236,1,\"E\",\"Europe/Berlin\"',\n '790,\"Alexander Bay\",\"Alexander Bay\",\"South Africa\",\"ALJ\",\"FAAB\",-28.575001,16.533333,98,2,\"U\",\"Africa/Johannesburg\"',\n '791,\"Aggeneys\",\"Aggeneys\",\"South Africa\",\"AGZ\",\"FAAG\",-29.281767,18.813869,2648,2,\"U\",\"Africa/Johannesburg\"',\n '792,\"Brakpan\",\"Brakpan\",\"South Africa\",\"\",\"FABB\",-26.23865,28.301769,5300,2,\"U\",\"Africa/Johannesburg\"',\n '793,\"Bhisho\",\"Bisho\",\"South Africa\",\"BIY\",\"FABE\",-32.89715,27.279111,1950,2,\"U\",\"Africa/Johannesburg\"',\n '794,\"Bloemfontein Intl\",\"Bloemfontein\",\"South Africa\",\"BFN\",\"FABL\",-29.092722,26.302444,4458,2,\"U\",\"Africa/Johannesburg\"',\n '795,\"Bethlehem\",\"Bethlehem\",\"South Africa\",\"\",\"FABM\",-28.248392,28.336125,5561,2,\"U\",\"Africa/Johannesburg\"',\n '796,\"Bothaville\",\"Bothaville\",\"South Africa\",\"\",\"FABO\",-27.366769,26.629194,4236,2,\"U\",\"Africa/Johannesburg\"',\n '797,\"Cape Town Intl\",\"Cape Town\",\"South Africa\",\"CPT\",\"FACT\",-33.964806,18.601667,151,2,\"U\",\"Africa/Johannesburg\"',\n '798,\"Calvinia\",\"Calvinia\",\"South Africa\",\"\",\"FACV\",-31.500278,19.725897,3250,2,\"U\",\"Africa/Johannesburg\"',\n '799,\"Durban Intl\",\"Durban\",\"South Africa\",\"DUR\",\"FADN\",-29.970089,30.950519,33,2,\"U\",\"Africa/Johannesburg\"',\n '800,\"East London\",\"East London\",\"South Africa\",\"ELS\",\"FAEL\",-33.035569,27.825939,435,2,\"U\",\"Africa/Johannesburg\"',\n '801,\"Ermelo\",\"Ermelo\",\"South Africa\",\"\",\"FAEO\",-26.495644,29.979764,5700,2,\"U\",\"Africa/Johannesburg\"',\n '802,\"Ficksburg Sentraoes\",\"Ficksburg\",\"South Africa\",\"\",\"FAFB\",-28.823119,27.9089,5315,2,\"U\",\"Africa/Johannesburg\"',\n '803,\"Grand Central\",\"Johannesburg\",\"South Africa\",\"GCJ\",\"FAGC\",-25.986267,28.140061,5325,2,\"U\",\"Africa/Johannesburg\"',\n '804,\"George\",\"George\",\"South Africa\",\"GRJ\",\"FAGG\",-34.005553,22.378889,648,2,\"U\",\"Africa/Johannesburg\"',\n '806,\"Graaff Reinet\",\"Graaff Reinet\",\"South Africa\",\"\",\"FAGR\",-32.193611,24.541389,2604,2,\"U\",\"Africa/Johannesburg\"',\n '807,\"Grahamstown\",\"Grahamstown\",\"South Africa\",\"\",\"FAGT\",-33.284721,26.498083,2135,2,\"U\",\"Africa/Johannesburg\"',\n '808,\"Greytown\",\"Greytown\",\"South Africa\",\"\",\"FAGY\",-29.122011,30.586706,3531,2,\"U\",\"Africa/Johannesburg\"',\n '809,\"Harmony\",\"Harmony\",\"South Africa\",\"\",\"FAHA\",-28.078694,26.861178,4399,2,\"U\",\"Africa/Johannesburg\"',\n '810,\"Harrismith\",\"Harrismith\",\"South Africa\",\"\",\"FAHR\",-28.235072,29.106206,5585,2,\"U\",\"Africa/Johannesburg\"',\n '811,\"Hoedspruit Afb\",\"Hoedspruit\",\"South Africa\",\"HDS\",\"FAHS\",-24.368642,31.048744,1743,2,\"U\",\"Africa/Johannesburg\"',\n '812,\"Gariep Dam\",\"Hendrik Verwoerddam\",\"South Africa\",\"\",\"FAHV\",-30.562164,25.528286,4176,2,\"U\",\"Africa/Johannesburg\"',\n '813,\"Johannesburg Intl\",\"Johannesburg\",\"South Africa\",\"JNB\",\"FAJS\",-26.139166,28.246,5558,2,\"U\",\"Africa/Johannesburg\"',\n '814,\"P C Pelser\",\"Klerksdorp\",\"South Africa\",\"\",\"FAKD\",-26.871064,26.718003,4444,2,\"U\",\"Africa/Johannesburg\"',\n '815,\"Kimberley\",\"Kimberley\",\"South Africa\",\"KIM\",\"FAKM\",-28.802834,24.765167,3950,2,\"U\",\"Africa/Johannesburg\"',\n '816,\"Krugersdorp\",\"Krugersdorp\",\"South Africa\",\"\",\"FAKR\",-26.080978,27.725667,5499,2,\"U\",\"Africa/Johannesburg\"',\n '817,\"Kroonstad\",\"Kroonstad\",\"South Africa\",\"\",\"FAKS\",-27.660617,27.315761,4700,2,\"U\",\"Africa/Johannesburg\"',\n '818,\"Johan Pienaar\",\"Kuruman\",\"South Africa\",\"\",\"FAKU\",-27.456667,23.411388,4382,2,\"U\",\"Africa/Johannesburg\"',\n '819,\"Kleinsee\",\"Kleinsee\",\"South Africa\",\"KLZ\",\"FAKZ\",-29.688403,17.094006,270,2,\"U\",\"Africa/Johannesburg\"',\n '820,\"Lanseria\",\"Johannesburg\",\"South Africa\",\"HLA\",\"FALA\",-25.938514,27.926133,4517,2,\"U\",\"Africa/Johannesburg\"',\n '821,\"Lichtenburg\",\"Lichtenburg\",\"South Africa\",\"\",\"FALI\",-26.175672,26.184575,4875,2,\"U\",\"Africa/Johannesburg\"',\n '822,\"Makhado Afb\",\"Lambertsbaai\",\"South Africa\",\"\",\"FALM\",-23.159911,29.696544,3069,2,\"U\",\"Africa/Johannesburg\"',\n '823,\"Langebaanweg\",\"Langebaanweg\",\"South Africa\",\"\",\"FALW\",-32.968889,18.160278,108,2,\"U\",\"Africa/Johannesburg\"',\n '824,\"Ladysmith\",\"Ladysmith\",\"South Africa\",\"LAY\",\"FALY\",-28.581667,29.749722,3548,2,\"U\",\"Africa/Johannesburg\"',\n '825,\"Middelburg\",\"Middelburg\",\"South Africa\",\"\",\"FAMB\",-25.684775,29.440158,4886,2,\"U\",\"Africa/Johannesburg\"',\n '827,\"Margate\",\"Margate\",\"South Africa\",\"MGH\",\"FAMG\",-30.857408,30.343019,495,2,\"U\",\"Africa/Johannesburg\"',\n '828,\"Marble Hall\",\"Marble Hall\",\"South Africa\",\"\",\"FAMI\",-24.989114,29.283122,2980,2,\"U\",\"Africa/Johannesburg\"',\n '829,\"Majuba Power Station\",\"Majuba Power Station\",\"South Africa\",\"\",\"FAMJ\",-27.079253,29.778528,5600,2,\"U\",\"Africa/Johannesburg\"',\n '6813,\"Susse\",\"Kangia\",\"Greenland\",\"\",\\\\N,69.2225,-49.9383,100,-3,\"U\",\"America/Godthab\"',\n '831,\"Malelane\",\"Malalane\",\"South Africa\",\"\",\"FAMN\",-25.473603,31.565828,1153,2,\"U\",\"Africa/Johannesburg\"',\n '832,\"Messina\",\"Musina\",\"South Africa\",\"MEZ\",\"FAMS\",-25.704458,26.908978,4251,2,\"U\",\"Africa/Johannesburg\"',\n '833,\"Mkuzi\",\"Mkuze\",\"South Africa\",\"\",\"FAMU\",-27.626086,32.044275,400,2,\"U\",\"Africa/Johannesburg\"',\n '834,\"Newcastle\",\"Newcastle\",\"South Africa\",\"NCS\",\"FANC\",-27.770586,29.976894,4074,2,\"U\",\"Africa/Johannesburg\"',\n '835,\"Nylstroom\",\"Nylstroom\",\"South Africa\",\"\",\"FANY\",-24.686056,28.434944,3900,2,\"U\",\"Africa/Johannesburg\"',\n '836,\"Overberg\",\"Overberg\",\"South Africa\",\"\",\"FAOB\",-34.554861,20.250681,52,2,\"U\",\"Africa/Johannesburg\"',\n '837,\"Oudtshoorn\",\"Oudtshoorn\",\"South Africa\",\"DUH\",\"FAOH\",-33.606967,22.188978,1063,2,\"U\",\"Africa/Johannesburg\"',\n '838,\"Port Elizabeth Intl\",\"Port Elizabeth\",\"South Africa\",\"PLZ\",\"FAPE\",-33.984919,25.617275,226,2,\"U\",\"Africa/Johannesburg\"',\n '839,\"Plettenberg Bay\",\"Plettenberg Bay\",\"South Africa\",\"\",\"FAPG\",-34.090279,23.327778,465,2,\"U\",\"Africa/Johannesburg\"',\n '840,\"Phalaborwa\",\"Phalaborwa\",\"South Africa\",\"PHW\",\"FAPH\",-23.937166,31.15539,1432,2,\"U\",\"Africa/Johannesburg\"',\n '841,\"Polokwane International\",\"Polokwane\",\"South Africa\",\"PTG\",\"FAPI\",-23.926089,29.484422,4354,2,\"U\",\"Africa/Johannesburg\"',\n '842,\"Port St Johns\",\"Port Saint Johns\",\"South Africa\",\"\",\"FAPJ\",-31.605886,29.519786,1227,2,\"U\",\"Africa/Johannesburg\"',\n '843,\"Pietermaritzburg\",\"Pietermaritzburg\",\"South Africa\",\"PZB\",\"FAPM\",-29.648975,30.398667,2423,2,\"U\",\"Africa/Johannesburg\"',\n '844,\"Pilanesberg Intl\",\"Pilanesberg\",\"South Africa\",\"NTY\",\"FAPN\",-25.333822,27.173358,3412,2,\"U\",\"Africa/Johannesburg\"',\n '845,\"Polokwane Intl\",\"Potgietersrus\",\"South Africa\",\"\",\"FAPP\",-23.845306,29.458611,4076,2,\"U\",\"Africa/Johannesburg\"',\n '846,\"Potchefstroom\",\"Potchefstroom\",\"South Africa\",\"\",\"FAPS\",-26.670994,27.0819,4520,2,\"U\",\"Africa/Johannesburg\"',\n '847,\"Parys\",\"Parys\",\"South Africa\",\"\",\"FAPY\",-26.889344,27.503417,4740,2,\"U\",\"Africa/Johannesburg\"',\n '848,\"Queenstown\",\"Queenstown\",\"South Africa\",\"UTW\",\"FAQT\",-31.920197,26.882206,3637,2,\"U\",\"Africa/Johannesburg\"',\n '849,\"Richards Bay\",\"Richard\\'s Bay\",\"South Africa\",\"RCB\",\"FARB\",-28.741039,32.092111,109,2,\"U\",\"Africa/Johannesburg\"',\n '850,\"Rustenburg\",\"Rustenburg\",\"South Africa\",\"\",\"FARG\",-25.6443,27.271119,3700,2,\"U\",\"Africa/Johannesburg\"',\n '851,\"Robertson\",\"Robertson\",\"South Africa\",\"\",\"FARS\",-33.812181,19.902828,640,2,\"U\",\"Africa/Johannesburg\"',\n '852,\"Springbok\",\"Springbok\",\"South Africa\",\"SBU\",\"FASB\",-29.689333,17.939611,2690,2,\"U\",\"Africa/Johannesburg\"',\n '853,\"Secunda\",\"Secunda\",\"South Africa\",\"\",\"FASC\",-26.524083,29.170144,5250,2,\"U\",\"Africa/Johannesburg\"',\n '854,\"Saldanha Vredenburg\",\"Saldanha\",\"South Africa\",\"\",\"FASD\",-32.964067,17.969331,50,2,\"U\",\"Africa/Johannesburg\"',\n '855,\"Springs\",\"Springs\",\"South Africa\",\"\",\"FASI\",-26.248411,28.397508,5340,2,\"U\",\"Africa/Johannesburg\"',\n '856,\"Swartkop\",\"Swartkop\",\"South Africa\",\"\",\"FASK\",-25.809717,28.164631,4780,2,\"U\",\"Africa/Johannesburg\"',\n '857,\"Sishen\",\"Sishen\",\"South Africa\",\"SIS\",\"FASS\",-27.648606,22.999278,3848,2,\"U\",\"Africa/Johannesburg\"',\n '858,\"Hendrik Swellengrebel\",\"Swellendam\",\"South Africa\",\"\",\"FASX\",-34.048222,20.474611,407,2,\"U\",\"Africa/Johannesburg\"',\n '859,\"Skukuza\",\"Skukuza\",\"South Africa\",\"SZK\",\"FASZ\",-24.960944,31.588731,1020,2,\"U\",\"Africa/Johannesburg\"',\n '860,\"Tommys Fld\",\"Tommy\\'s Field\",\"South Africa\",\"\",\"FATF\",-28.260028,22.993178,4360,2,\"U\",\"Africa/Johannesburg\"',\n '861,\"New Tempe\",\"Bloemfontein\",\"South Africa\",\"\",\"FATP\",-29.032928,26.157564,4547,2,\"U\",\"Africa/Johannesburg\"',\n '862,\"Tutuka Power Station\",\"Tutuka\",\"South Africa\",\"\",\"FATT\",-26.776556,29.338778,5313,2,\"U\",\"Africa/Johannesburg\"',\n '863,\"Tzaneen\",\"Tzaneen\",\"South Africa\",\"LTA\",\"FATZ\",-23.824417,30.329306,1914,2,\"U\",\"Africa/Johannesburg\"',\n '864,\"Prince Mangosuthu Buthelezi\",\"Ulundi\",\"South Africa\",\"ULD\",\"FAUL\",-28.320586,31.416519,1720,2,\"U\",\"Africa/Johannesburg\"',\n '865,\"Upington\",\"Upington\",\"South Africa\",\"UTN\",\"FAUP\",-28.399097,21.260239,2782,2,\"U\",\"Africa/Johannesburg\"',\n '866,\"Mthatha\",\"Umtata\",\"South Africa\",\"UTT\",\"FAUT\",-31.547903,28.674289,2400,2,\"U\",\"Africa/Johannesburg\"',\n '867,\"Vryburg\",\"Vryburg\",\"South Africa\",\"VRU\",\"FAVB\",-26.982408,24.728756,3920,2,\"U\",\"Africa/Johannesburg\"',\n '868,\"Virginia\",\"Durban\",\"South Africa\",\"VIR\",\"FAVG\",-29.770606,31.058406,20,2,\"U\",\"Africa/Johannesburg\"',\n '869,\"Vredendal\",\"Vredendal\",\"South Africa\",\"\",\"FAVR\",-31.640961,18.544789,330,2,\"U\",\"Africa/Johannesburg\"',\n '870,\"Vereeniging\",\"Vereeniging\",\"South Africa\",\"\",\"FAVV\",-26.566372,27.960756,4846,2,\"U\",\"Africa/Johannesburg\"',\n '871,\"Wonderboom\",\"Pretoria\",\"South Africa\",\"PRY\",\"FAWB\",-25.653858,28.224231,4095,2,\"U\",\"Africa/Johannesburg\"',\n '872,\"Witbank\",\"Witbank\",\"South Africa\",\"\",\"FAWI\",-25.832294,29.192019,5078,2,\"U\",\"Africa/Johannesburg\"',\n '873,\"Waterkloof Afb\",\"Waterkloof\",\"South Africa\",\"\",\"FAWK\",-25.83,28.2225,4940,2,\"U\",\"Africa/Johannesburg\"',\n '874,\"Welkom\",\"Welkom\",\"South Africa\",\"WEL\",\"FAWM\",-27.998,26.669586,4399,2,\"U\",\"Africa/Johannesburg\"',\n '875,\"Ysterplaat\",\"Ysterplaat\",\"South Africa\",\"\",\"FAYP\",-33.900244,18.498297,52,2,\"U\",\"Africa/Johannesburg\"',\n '876,\"Zeerust\",\"Zeerust\",\"South Africa\",\"\",\"FAZR\",-25.598972,26.042333,4258,2,\"U\",\"Africa/Johannesburg\"',\n '877,\"Francistown\",\"Francistown\",\"Botswana\",\"FRW\",\"FBFT\",-21.159597,27.474525,3283,2,\"U\",\"Africa/Gaborone\"',\n '878,\"Jwaneng\",\"Jwaneng\",\"Botswana\",\"JWA\",\"FBJW\",-24.602333,24.690971,3900,2,\"U\",\"Africa/Gaborone\"',\n '879,\"Kasane\",\"Kasane\",\"Botswana\",\"BBK\",\"FBKE\",-17.832875,25.1624,3289,2,\"U\",\"Africa/Gaborone\"',\n '880,\"Maun\",\"Maun\",\"Botswana\",\"MUB\",\"FBMN\",-19.972564,23.431086,3093,2,\"U\",\"Africa/Gaborone\"',\n '881,\"Sir Seretse Khama Intl\",\"Gaberone\",\"Botswana\",\"GBE\",\"FBSK\",-24.555225,25.918208,3299,2,\"U\",\"Africa/Gaborone\"',\n '882,\"Selebi Phikwe\",\"Selebi-phikwe\",\"Botswana\",\"PKW\",\"FBSP\",-22.05835,27.828767,2925,2,\"U\",\"Africa/Gaborone\"',\n '883,\"Maya Maya\",\"Brazzaville\",\"Congo (Brazzaville)\",\"BZV\",\"FCBB\",-4.2517,15.253031,1048,1,\"N\",\"Africa/Brazzaville\"',\n '884,\"Owando\",\"Owando\",\"Congo (Kinshasa)\",\"FTX\",\"FCOO\",-0.53135,15.950094,1214,1,\"N\",\"Africa/Brazzaville\"',\n '885,\"Ouesso\",\"Ouesso\",\"Congo (Kinshasa)\",\"OUE\",\"FCOU\",1.615994,16.037917,1158,1,\"N\",\"Africa/Brazzaville\"',\n '886,\"Pointe Noire\",\"Pointe-noire\",\"Congo (Brazzaville)\",\"PNR\",\"FCPP\",-4.816028,11.886597,55,1,\"N\",\"Africa/Brazzaville\"',\n '887,\"Matsapha\",\"Manzini\",\"Swaziland\",\"MTS\",\"FDMS\",-26.529022,31.307519,2075,2,\"U\",\"Africa/Mbabane\"',\n '888,\"Bangui M Poko\",\"Bangui\",\"Central African Republic\",\"BGF\",\"FEFF\",4.398475,18.518786,1208,1,\"N\",\"Africa/Bangui\"',\n '889,\"Berberati\",\"Berberati\",\"Central African Republic\",\"BBT\",\"FEFT\",4.221583,15.786369,1929,1,\"N\",\"Africa/Bangui\"',\n '890,\"Bata\",\"Bata\",\"Equatorial Guinea\",\"BSG\",\"FGBT\",1.905469,9.805681,13,1,\"N\",\"Africa/Malabo\"',\n '891,\"Malabo\",\"Malabo\",\"Equatorial Guinea\",\"SSG\",\"FGSL\",3.755267,8.708717,76,1,\"N\",\"Africa/Malabo\"',\n '892,\"Ascension Aux Af\",\"Wide Awake\",\"Saint Helena\",\"\",\"FHAW\",-7.969597,-14.393664,278,0,\"N\",\"Atlantic/St_Helena\"',\n '893,\"Sir Seewoosagur Ramgoolam Intl\",\"Plaisance\",\"Mauritius\",\"MRU\",\"FIMP\",-20.430235,57.6836,186,4,\"N\",\"Indian/Mauritius\"',\n '894,\"Plaine Corail\",\"Rodriguez Island\",\"Mauritius\",\"RRG\",\"FIMR\",-19.757658,63.360983,95,4,\"N\",\"Indian/Mauritius\"',\n '895,\"Diego Garcia Nsf\",\"Diego Garcia Island\",\"British Indian Ocean Territory\",\"\",\"FJDG\",-7.313267,72.411089,9,6,\"U\",\"Indian/Chagos\"',\n '896,\"Tiko\",\"Tiko\",\"Cameroon\",\"TKC\",\"FKKC\",4.089192,9.360528,151,1,\"N\",\"Africa/Douala\"',\n '897,\"Douala\",\"Douala\",\"Cameroon\",\"DLA\",\"FKKD\",4.006081,9.719481,33,1,\"N\",\"Africa/Douala\"',\n '898,\"Salak\",\"Maroua\",\"Cameroon\",\"MVR\",\"FKKL\",10.451392,14.257361,1390,1,\"N\",\"Africa/Douala\"',\n '899,\"Foumban Nkounja\",\"Foumban\",\"Cameroon\",\"FOM\",\"FKKM\",5.636919,10.750817,3963,1,\"N\",\"Africa/Douala\"',\n '900,\"Ngaoundere\",\"N\\'gaoundere\",\"Cameroon\",\"NGE\",\"FKKN\",7.357011,13.559242,3655,1,\"N\",\"Africa/Douala\"',\n '901,\"Garoua\",\"Garoua\",\"Cameroon\",\"GOU\",\"FKKR\",9.335892,13.370103,794,1,\"N\",\"Africa/Douala\"',\n '902,\"Bafoussam\",\"Bafoussam\",\"Cameroon\",\"BFX\",\"FKKU\",5.536919,10.354583,4347,1,\"N\",\"Africa/Douala\"',\n '903,\"Bamenda\",\"Bamenda\",\"Cameroon\",\"BPC\",\"FKKV\",6.039239,10.122639,4065,1,\"N\",\"Africa/Douala\"',\n '904,\"Yaounde Ville\",\"Yaounde\",\"Cameroon\",\"YAO\",\"FKKY\",3.836039,11.523461,2464,1,\"N\",\"Africa/Douala\"',\n '905,\"Kasompe\",\"Kasompe\",\"Zambia\",\"\",\"FLKE\",-12.572778,27.89395,4636,2,\"U\",\"Africa/Lusaka\"',\n '906,\"Livingstone\",\"Livingstone\",\"Zambia\",\"LVI\",\"FLLI\",-17.821756,25.822692,3302,2,\"U\",\"Africa/Lusaka\"',\n '907,\"Lusaka Intl\",\"Lusaka\",\"Zambia\",\"LUN\",\"FLLS\",-15.330817,28.452628,3779,2,\"U\",\"Africa/Lusaka\"',\n '908,\"Mfuwe\",\"Mfuwe\",\"Zambia\",\"MFU\",\"FLMF\",-13.258878,31.936581,1853,2,\"U\",\"Africa/Lusaka\"',\n '909,\"Mongu\",\"Mongu\",\"Zambia\",\"\",\"FLMG\",-15.254542,23.162306,3488,2,\"U\",\"Africa/Lusaka\"',\n '910,\"Ndola\",\"Ndola\",\"Zambia\",\"NLA\",\"FLND\",-12.998139,28.664944,4167,2,\"U\",\"Africa/Lusaka\"',\n '911,\"Southdowns\",\"Southdowns\",\"Zambia\",\"KIW\",\"FLSO\",-12.900469,28.149858,4145,2,\"U\",\"Africa/Lusaka\"',\n '912,\"Prince Said Ibrahim\",\"Moroni\",\"Comoros\",\"HAH\",\"FMCH\",-11.533661,43.27185,93,3,\"U\",\"Indian/Comoro\"',\n '913,\"Bandaressalam\",\"Moheli\",\"Comoros\",\"NWA\",\"FMCI\",-12.298108,43.7664,46,3,\"U\",\"Indian/Comoro\"',\n '914,\"Ouani\",\"Anjouan\",\"Comoros\",\"AJN\",\"FMCV\",-12.131667,44.430279,62,3,\"U\",\"Indian/Comoro\"',\n '915,\"Dzaoudzi Pamandzi\",\"Dzaoudzi\",\"Mayotte\",\"DZA\",\"FMCZ\",-12.804722,45.281113,23,3,\"U\",\"Indian/Mayotte\"',\n '916,\"St Denis Gillot\",\"St.-denis\",\"Reunion\",\"RUN\",\"FMEE\",-20.8871,55.510308,66,4,\"U\",\"Indian/Reunion\"',\n '917,\"St Pierre Pierrefonds\",\"St.-pierre\",\"Reunion\",\"ZSE\",\"FMEP\",-21.320039,55.423581,56,4,\"U\",\"Indian/Reunion\"',\n '918,\"Ivato\",\"Antananarivo\",\"Madagascar\",\"TNR\",\"FMMI\",-18.79695,47.478806,4198,3,\"U\",\"Indian/Antananarivo\"',\n '919,\"Miandrivazo\",\"Miandrivazo\",\"Madagascar\",\"ZVA\",\"FMMN\",-19.562778,45.450832,203,3,\"U\",\"Indian/Antananarivo\"',\n '920,\"Sainte Marie\",\"Sainte Marie\",\"Madagascar\",\"SMS\",\"FMMS\",-17.093889,49.815834,7,3,\"U\",\"Indian/Antananarivo\"',\n '921,\"Toamasina\",\"Toamasina\",\"Madagascar\",\"TMM\",\"FMMT\",-18.109517,49.392536,22,3,\"U\",\"Indian/Antananarivo\"',\n '922,\"Morondava\",\"Morondava\",\"Madagascar\",\"MOQ\",\"FMMV\",-20.28475,44.317614,30,3,\"U\",\"Indian/Antananarivo\"',\n '923,\"Arrachart\",\"Antsiranana\",\"Madagascar\",\"DIE\",\"FMNA\",-12.3494,49.291747,374,3,\"U\",\"Indian/Antananarivo\"',\n '924,\"Avaratra\",\"Mananara\",\"Madagascar\",\"WMR\",\"FMNC\",-16.1639,49.773753,9,3,\"U\",\"Indian/Antananarivo\"',\n '925,\"Andapa\",\"Andapa\",\"Madagascar\",\"ZWA\",\"FMND\",-14.651667,49.620556,1552,3,\"U\",\"Indian/Antananarivo\"',\n '926,\"Ambilobe\",\"Ambilobe\",\"Madagascar\",\"AMB\",\"FMNE\",-13.188431,48.987978,72,3,\"U\",\"Indian/Antananarivo\"',\n '927,\"Antsirabato\",\"Antalaha\",\"Madagascar\",\"ANM\",\"FMNH\",-14.999411,50.320233,20,3,\"U\",\"Indian/Antananarivo\"',\n '928,\"Analalava\",\"Analalava\",\"Madagascar\",\"HVA\",\"FMNL\",-14.629694,47.763783,345,3,\"U\",\"Indian/Antananarivo\"',\n '929,\"Philibert Tsiranana\",\"Mahajanga\",\"Madagascar\",\"MJN\",\"FMNM\",-15.667144,46.351828,87,3,\"U\",\"Indian/Antananarivo\"',\n '930,\"Fascene\",\"Nosy-be\",\"Madagascar\",\"NOS\",\"FMNN\",-13.312067,48.314822,36,3,\"U\",\"Indian/Antananarivo\"',\n '931,\"Besalampy\",\"Besalampy\",\"Madagascar\",\"BPY\",\"FMNQ\",-16.741945,44.481388,125,3,\"U\",\"Indian/Antananarivo\"',\n '932,\"Maroantsetra\",\"Maroantsetra\",\"Madagascar\",\"WMN\",\"FMNR\",-15.436666,49.688332,13,3,\"U\",\"Indian/Antananarivo\"',\n '933,\"Sambava\",\"Sambava\",\"Madagascar\",\"SVB\",\"FMNS\",-14.278611,50.174721,20,3,\"U\",\"Indian/Antananarivo\"',\n '934,\"Vohimarina\",\"Vohemar\",\"Madagascar\",\"VOH\",\"FMNV\",-13.375834,50.002777,19,3,\"U\",\"Indian/Antananarivo\"',\n '935,\"Ambalabe\",\"Antsohihy\",\"Madagascar\",\"WAI\",\"FMNW\",-14.89875,47.993894,92,3,\"U\",\"Indian/Antananarivo\"',\n '936,\"Ampampamena\",\"Ampampamena\",\"Madagascar\",\"\",\"FMNZ\",-13.484814,48.632739,49,3,\"U\",\"Indian/Antananarivo\"',\n '937,\"Tolagnaro\",\"Tolagnaro\",\"Madagascar\",\"FTU\",\"FMSD\",-25.038056,46.956111,29,3,\"U\",\"Indian/Antananarivo\"',\n '938,\"Fianarantsoa\",\"Fianarantsoa\",\"Madagascar\",\"WFI\",\"FMSF\",-21.441558,47.111736,3658,3,\"U\",\"Indian/Antananarivo\"',\n '939,\"Farafangana\",\"Farafangana\",\"Madagascar\",\"RVA\",\"FMSG\",-22.805286,47.820614,26,3,\"U\",\"Indian/Antananarivo\"',\n '940,\"Manakara\",\"Manakara\",\"Madagascar\",\"WVK\",\"FMSK\",-22.119722,48.021667,33,3,\"U\",\"Indian/Antananarivo\"',\n '941,\"Mananjary\",\"Mananjary\",\"Madagascar\",\"MNJ\",\"FMSM\",-21.201772,48.358317,20,3,\"U\",\"Indian/Antananarivo\"',\n '942,\"Morombe\",\"Morombe\",\"Madagascar\",\"MXM\",\"FMSR\",-21.753867,43.375533,16,3,\"U\",\"Indian/Antananarivo\"',\n '943,\"Toliara\",\"Toliara\",\"Madagascar\",\"TLE\",\"FMST\",-23.383369,43.728453,29,3,\"U\",\"Indian/Antananarivo\"',\n '944,\"Mbanza Congo\",\"M\\'banza-congo\",\"Angola\",\"SSY\",\"FNBC\",-6.269897,14.247025,1860,1,\"N\",\"Africa/Luanda\"',\n '945,\"Benguela\",\"Benguela\",\"Angola\",\"BUG\",\"FNBG\",-12.609025,13.403711,118,1,\"N\",\"Africa/Luanda\"',\n '946,\"Cabinda\",\"Cabinda\",\"Angola\",\"CAB\",\"FNCA\",-5.596992,12.188353,66,1,\"N\",\"Africa/Luanda\"',\n '6814,\"Culebra Airport\",\"Culebra Island\",\"Puerto Rico\",\"CPX\",\"TJCP\",18.3127,-65.3034,12,-4,\"U\",\"America/Puerto_Rico\"',\n '948,\"Huambo\",\"Huambo\",\"Angola\",\"NOV\",\"FNHU\",-12.808878,15.760547,5587,1,\"N\",\"Africa/Luanda\"',\n '949,\"Kuito\",\"Kuito\",\"Angola\",\"SVP\",\"FNKU\",-12.404633,16.947414,5618,1,\"N\",\"Africa/Luanda\"',\n '950,\"Lobito\",\"Lobito\",\"Angola\",\"\",\"FNLB\",-12.371233,13.536625,10,1,\"N\",\"Africa/Luanda\"',\n '951,\"Luanda 4 De Fevereiro\",\"Luanda\",\"Angola\",\"LAD\",\"FNLU\",-8.858375,13.231178,243,1,\"N\",\"Africa/Luanda\"',\n '952,\"Malanje\",\"Malanje\",\"Angola\",\"MEG\",\"FNMA\",-9.525086,16.312406,3868,1,\"N\",\"Africa/Luanda\"',\n '953,\"Menongue\",\"Menongue\",\"Angola\",\"SPP\",\"FNME\",-14.657583,17.719833,4469,1,\"N\",\"Africa/Luanda\"',\n '955,\"Negage\",\"Negage\",\"Angola\",\"GXG\",\"FNNG\",-7.754506,15.287728,4105,1,\"N\",\"Africa/Luanda\"',\n '956,\"Porto Amboim\",\"Porto Amboim\",\"Angola\",\"PBN\",\"FNPA\",-10.721956,13.765528,16,1,\"N\",\"Africa/Luanda\"',\n '957,\"Saurimo\",\"Saurimo\",\"Angola\",\"VHC\",\"FNSA\",-9.689067,20.431875,3584,1,\"N\",\"Africa/Luanda\"',\n '958,\"Soyo\",\"Soyo\",\"Angola\",\"SZA\",\"FNSO\",-6.141086,12.371764,15,1,\"N\",\"Africa/Luanda\"',\n '959,\"Lubango\",\"Lubango\",\"Angola\",\"SDD\",\"FNUB\",-14.924733,13.575022,5778,1,\"N\",\"Africa/Luanda\"',\n '960,\"Luena\",\"Luena\",\"Angola\",\"LUO\",\"FNUE\",-11.768086,19.897672,4360,1,\"N\",\"Africa/Luanda\"',\n '961,\"Uige\",\"Uige\",\"Angola\",\"UGO\",\"FNUG\",-7.603067,15.027822,2720,1,\"N\",\"Africa/Luanda\"',\n '962,\"Xangongo\",\"Xangongo\",\"Angola\",\"XGN\",\"FNXA\",-16.755417,14.965344,3635,1,\"N\",\"Africa/Luanda\"',\n '963,\"Oyem\",\"Oyem\",\"Gabon\",\"OYE\",\"FOGO\",1.543108,11.581361,2158,1,\"N\",\"Africa/Libreville\"',\n '964,\"Okondja\",\"Okondja\",\"Gabon\",\"OKN\",\"FOGQ\",-0.665214,13.673133,1325,1,\"N\",\"Africa/Libreville\"',\n '965,\"Lambarene\",\"Lambarene\",\"Gabon\",\"LBQ\",\"FOGR\",-0.704389,10.245722,82,1,\"N\",\"Africa/Libreville\"',\n '966,\"Bitam\",\"Bitam\",\"Gabon\",\"BMM\",\"FOOB\",2.075639,11.493195,1969,1,\"N\",\"Africa/Libreville\"',\n '967,\"Port Gentil\",\"Port Gentil\",\"Gabon\",\"POG\",\"FOOG\",-0.711739,8.754383,13,1,\"N\",\"Africa/Libreville\"',\n '968,\"Omboue Hopital\",\"Omboue Hospial\",\"Gabon\",\"OMB\",\"FOOH\",-1.574733,9.262694,33,1,\"N\",\"Africa/Libreville\"',\n '969,\"Makokou\",\"Makokou\",\"Gabon\",\"MKU\",\"FOOK\",0.579211,12.890908,1726,1,\"N\",\"Africa/Libreville\"',\n '970,\"Leon M Ba\",\"Libreville\",\"Gabon\",\"LBV\",\"FOOL\",0.4586,9.412283,39,1,\"N\",\"Africa/Libreville\"',\n '971,\"Mvengue\",\"Franceville\",\"Gabon\",\"MVB\",\"FOON\",-1.656156,13.438036,1450,1,\"N\",\"Africa/Libreville\"',\n '972,\"Principe\",\"Principe\",\"Sao Tome and Principe\",\"PCP\",\"FPPR\",1.662936,7.411742,591,0,\"N\",\"Africa/Sao_Tome\"',\n '973,\"Sao Tome Intl\",\"Sao Tome\",\"Sao Tome and Principe\",\"TMS\",\"FPST\",0.378175,6.712153,33,0,\"N\",\"Africa/Sao_Tome\"',\n '974,\"Beira\",\"Beira\",\"Mozambique\",\"BEW\",\"FQBR\",-19.796419,34.907556,33,2,\"U\",\"Africa/Maputo\"',\n '976,\"Inhambane\",\"Inhambane\",\"Mozambique\",\"INH\",\"FQIN\",-23.876431,35.408544,30,2,\"U\",\"Africa/Maputo\"',\n '977,\"Lichinga\",\"Lichinga\",\"Mozambique\",\"VXC\",\"FQLC\",-13.273986,35.266262,4505,2,\"U\",\"Africa/Maputo\"',\n '978,\"Lumbo\",\"Lumbo\",\"Mozambique\",\"\",\"FQLU\",-15.033058,40.671728,33,2,\"U\",\"Africa/Maputo\"',\n '979,\"Maputo\",\"Maputo\",\"Mozambique\",\"MPM\",\"FQMA\",-25.920836,32.572606,145,2,\"U\",\"Africa/Maputo\"',\n '980,\"Mueda\",\"Mueda\",\"Mozambique\",\"\",\"FQMD\",-11.672922,39.563142,2789,2,\"U\",\"Africa/Maputo\"',\n '981,\"Mocimboa Da Praia\",\"Mocimboa Da Praia\",\"Mozambique\",\"MZB\",\"FQMP\",-11.361789,40.354875,89,2,\"U\",\"Africa/Maputo\"',\n '982,\"Marrupa\",\"Marrupa\",\"Mozambique\",\"\",\"FQMR\",-13.225053,37.552067,2480,2,\"U\",\"Africa/Maputo\"',\n '983,\"Nacala\",\"Nacala\",\"Mozambique\",\"MNC\",\"FQNC\",-14.488233,40.71225,410,2,\"U\",\"Africa/Maputo\"',\n '984,\"Nampula\",\"Nampula\",\"Mozambique\",\"APL\",\"FQNP\",-15.105611,39.2818,1444,2,\"U\",\"Africa/Maputo\"',\n '985,\"Pemba\",\"Pemba\",\"Mozambique\",\"POL\",\"FQPB\",-12.986753,40.522492,331,2,\"U\",\"Africa/Maputo\"',\n '986,\"Quelimane\",\"Quelimane\",\"Mozambique\",\"UEL\",\"FQQL\",-17.8555,36.869106,36,2,\"U\",\"Africa/Maputo\"',\n '987,\"Songo\",\"Songo\",\"Mozambique\",\"\",\"FQSG\",-15.602694,32.773189,2904,2,\"U\",\"Africa/Maputo\"',\n '988,\"Tete Chingodzi\",\"Tete\",\"Mozambique\",\"TET\",\"FQTT\",-16.104817,33.640181,525,2,\"U\",\"Africa/Maputo\"',\n '989,\"Ulongwe\",\"Ulongwe\",\"Mozambique\",\"\",\"FQUG\",-14.704617,34.352369,4265,2,\"U\",\"Africa/Maputo\"',\n '990,\"Vilankulo\",\"Vilankulu\",\"Mozambique\",\"VNX\",\"FQVL\",-22.018431,35.313297,46,2,\"U\",\"Africa/Maputo\"',\n '991,\"Alphonse\",\"Alphonse\",\"Seychelles\",\"\",\"FSAL\",-7.004783,52.726247,10,4,\"U\",\"Indian/Mahe\"',\n '992,\"Desroches\",\"Desroches\",\"Seychelles\",\"DES\",\"FSDR\",-5.696697,53.655844,10,4,\"U\",\"Indian/Mahe\"',\n '993,\"Farquhar\",\"Farquhar\",\"Seychelles\",\"\",\"FSFA\",-10.109611,51.176119,10,4,\"U\",\"Indian/Mahe\"',\n '994,\"Seychelles Intl\",\"Mahe\",\"Seychelles\",\"SEZ\",\"FSIA\",-4.674342,55.521839,10,4,\"U\",\"Indian/Mahe\"',\n '995,\"Praslin\",\"Praslin\",\"Seychelles\",\"PRI\",\"FSPP\",-4.319292,55.691417,10,4,\"U\",\"Indian/Mahe\"',\n '996,\"Coetivy\",\"Coetivy\",\"Seychelles\",\"\",\"FSSC\",-7.134567,56.278239,10,4,\"U\",\"Indian/Mahe\"',\n '997,\"Abeche\",\"Abeche\",\"Chad\",\"AEH\",\"FTTC\",13.847,20.844333,1788,1,\"N\",\"Africa/Ndjamena\"',\n '998,\"Moundou\",\"Moundou\",\"Chad\",\"MQQ\",\"FTTD\",8.624406,16.071419,1407,1,\"N\",\"Africa/Ndjamena\"',\n '999,\"Ndjamena Hassan Djamous\",\"N\\'djamena\",\"Chad\",\"NDJ\",\"FTTJ\",12.133689,15.034019,968,1,\"N\",\"Africa/Ndjamena\"',\n '1000,\"Faya Largeau\",\"Faya-largeau\",\"Chad\",\"FYT\",\"FTTY\",17.917053,19.111078,771,1,\"N\",\"Africa/Ndjamena\"',\n '1001,\"J M Nkomo Intl\",\"Bulawayo\",\"Zimbabwe\",\"BUQ\",\"FVBU\",-20.017431,28.617869,4359,2,\"U\",\"Africa/Harare\"',\n '1002,\"Charles Prince\",\"Harare\",\"Zimbabwe\",\"\",\"FVCP\",-17.751561,30.924706,4845,2,\"U\",\"Africa/Harare\"',\n '1003,\"Buffalo Range\",\"Chiredzi\",\"Zimbabwe\",\"BFO\",\"FVCZ\",-21.008083,31.57855,1421,2,\"U\",\"Africa/Harare\"',\n '1004,\"Victoria Falls Intl\",\"Victoria Falls\",\"Zimbabwe\",\"VFA\",\"FVFA\",-18.095881,25.839006,3490,2,\"U\",\"Africa/Harare\"',\n '1005,\"Harare Intl\",\"Harare\",\"Zimbabwe\",\"HRE\",\"FVHA\",-17.931806,31.092847,4887,2,\"U\",\"Africa/Harare\"',\n '1006,\"Kariba Intl\",\"Kariba\",\"Zimbabwe\",\"KAB\",\"FVKB\",-16.519761,28.884981,1706,2,\"U\",\"Africa/Harare\"',\n '1007,\"Mutoko\",\"Mutoko\",\"Zimbabwe\",\"\",\"FVMT\",-17.431917,32.184502,3950,2,\"U\",\"Africa/Harare\"',\n '1008,\"Mutare\",\"Mutare\",\"Zimbabwe\",\"\",\"FVMU\",-18.997499,32.627224,3410,2,\"U\",\"Africa/Harare\"',\n '1009,\"Masvingo Intl\",\"Masvingo\",\"Zimbabwe\",\"MVZ\",\"FVMV\",-20.055333,30.859111,3595,2,\"U\",\"Africa/Harare\"',\n '1010,\"Zvishavane\",\"Zvishavane\",\"Zimbabwe\",\"\",\"FVSH\",-20.289497,30.088228,3012,2,\"U\",\"Africa/Harare\"',\n '1011,\"Gweru Thornhill\",\"Gwert\",\"Zimbabwe\",\"GWE\",\"FVTL\",-19.436394,29.861911,4680,2,\"U\",\"Africa/Harare\"',\n '1012,\"Hwange National Park\",\"Hwange National Park\",\"Zimbabwe\",\"WKM\",\"FVWN\",-18.629872,27.021042,3543,2,\"U\",\"Africa/Harare\"',\n '1013,\"Chileka Intl\",\"Blantyre\",\"Malawi\",\"BLZ\",\"FWCL\",-15.679053,34.974014,2555,2,\"U\",\"Africa/Blantyre\"',\n '1014,\"Karonga\",\"Karonga\",\"Malawi\",\"KGJ\",\"FWKA\",-9.953569,33.893022,1765,2,\"U\",\"Africa/Blantyre\"',\n '1015,\"Kasungu\",\"Kasungu\",\"Malawi\",\"\",\"FWKG\",-13.014631,33.468597,3470,2,\"U\",\"Africa/Blantyre\"',\n '1016,\"Kamuzu Intl\",\"Lilongwe\",\"Malawi\",\"LLW\",\"FWKI\",-13.789378,33.781,4035,2,\"U\",\"Africa/Blantyre\"',\n '1017,\"Mzuzu\",\"Mzuzu\",\"Malawi\",\"ZZU\",\"FWUU\",-11.44475,34.011776,4115,2,\"U\",\"Africa/Blantyre\"',\n ...]"
     ]
    }
   ],
   "source": [
    "rdd1.collect()"
   ]
  },
  {
   "cell_type": "code",
   "execution_count": 0,
   "metadata": {
    "application/vnd.databricks.v1+cell": {
     "cellMetadata": {
      "byteLimit": 2048000,
      "rowLimit": 10000
     },
     "inputWidgets": {},
     "nuid": "c6a34a6f-d869-4586-874d-f1b19bf9a573",
     "showTitle": false,
     "title": ""
    }
   },
   "outputs": [
    {
     "output_type": "stream",
     "name": "stdout",
     "output_type": "stream",
     "text": [
      "Out[9]: ['1,\"Goroka\",\"Goroka\",\"Papua New Guinea\",\"GKA\",\"AYGA\",-6.081689,145.391881,5282,10,\"U\",\"Pacific/Port_Moresby\"']"
     ]
    }
   ],
   "source": [
    "rdd1.take(1)"
   ]
  },
  {
   "cell_type": "code",
   "execution_count": 0,
   "metadata": {
    "application/vnd.databricks.v1+cell": {
     "cellMetadata": {
      "byteLimit": 2048000,
      "rowLimit": 10000
     },
     "inputWidgets": {},
     "nuid": "4d3ded2e-71d3-4a3f-bd7f-4aae4dcce8b7",
     "showTitle": false,
     "title": ""
    }
   },
   "outputs": [
    {
     "output_type": "stream",
     "name": "stdout",
     "output_type": "stream",
     "text": [
      "Out[11]: ['1,\"Goroka\",\"Goroka\",\"Papua New Guinea\",\"GKA\",\"AYGA\",-6.081689,145.391881,5282,10,\"U\",\"Pacific/Port_Moresby\"',\n '2,\"Madang\",\"Madang\",\"Papua New Guinea\",\"MAG\",\"AYMD\",-5.207083,145.7887,20,10,\"U\",\"Pacific/Port_Moresby\"']"
     ]
    }
   ],
   "source": [
    "rdd1.take(2)"
   ]
  },
  {
   "cell_type": "code",
   "execution_count": 0,
   "metadata": {
    "application/vnd.databricks.v1+cell": {
     "cellMetadata": {
      "byteLimit": 2048000,
      "rowLimit": 10000
     },
     "inputWidgets": {},
     "nuid": "40409ef3-88ef-47e3-b4ad-2d66108a1184",
     "showTitle": false,
     "title": ""
    }
   },
   "outputs": [
    {
     "output_type": "stream",
     "name": "stdout",
     "output_type": "stream",
     "text": [
      "Out[22]: []"
     ]
    }
   ],
   "source": [
    "# rdd1.map(lambda x: x.split(\",\")).collect() \n",
    "\n",
    "# rdd1.filter(lambda x: x.split(\",\")).collect() \n",
    "\n",
    "rdd1.filter(lambda x: x.split(\",\")[2]==\"21\").take(4)"
   ]
  },
  {
   "cell_type": "code",
   "execution_count": 0,
   "metadata": {
    "application/vnd.databricks.v1+cell": {
     "cellMetadata": {
      "byteLimit": 2048000,
      "rowLimit": 10000
     },
     "inputWidgets": {},
     "nuid": "3e9514e6-0bfc-4418-8866-7d3283042216",
     "showTitle": false,
     "title": ""
    }
   },
   "outputs": [
    {
     "output_type": "stream",
     "name": "stdout",
     "output_type": "stream",
     "text": [
      "Out[23]: []"
     ]
    }
   ],
   "source": [
    "rdd1.filter(lambda x: x.split(\",\")[2]==\"\\\"Canada\\\"\").take(4)"
   ]
  },
  {
   "cell_type": "code",
   "execution_count": 0,
   "metadata": {
    "application/vnd.databricks.v1+cell": {
     "cellMetadata": {
      "byteLimit": 2048000,
      "rowLimit": 10000
     },
     "inputWidgets": {},
     "nuid": "5b20f238-b5ff-4246-94a2-51b87b3b93d5",
     "showTitle": false,
     "title": ""
    }
   },
   "outputs": [],
   "source": [
    "\n",
    "#dbfs:/FileStore/shared_uploads/sonilaxman580@gmail.com/temperatureRDD.csv\n",
    "\n",
    "rdd2 = sc.textFile(\"dbfs:/FileStore/shared_uploads/sonilaxman580@gmail.com/temperatureRDD.csv\")"
   ]
  },
  {
   "cell_type": "code",
   "execution_count": 0,
   "metadata": {
    "application/vnd.databricks.v1+cell": {
     "cellMetadata": {
      "byteLimit": 2048000,
      "rowLimit": 10000
     },
     "inputWidgets": {},
     "nuid": "ae8770e5-f37d-4eb3-9103-a3e7055a7a39",
     "showTitle": false,
     "title": ""
    }
   },
   "outputs": [
    {
     "output_type": "stream",
     "name": "stdout",
     "output_type": "stream",
     "text": [
      "Out[28]: ['Jaipur,Max,43',\n 'Jaipur,Min,23',\n 'Pune,Blank,10',\n 'jammu,Max,63',\n 'jammu,Min,6',\n 'Jaipur,Max,3',\n 'Jaipur,Min,-125',\n 'Pune,Blank,3',\n 'jammu,Max,-44',\n 'jammu,Min,3',\n 'Jaipur,Max,-23',\n 'Jaipur,Min,2',\n 'Pune,Blank,2',\n 'jammu,Max,6',\n 'jammu,Min,2632',\n 'Jaipur,Max,5',\n 'Jaipur,Min,-13',\n 'Pune,Blank,3',\n 'jammu,Max,-55',\n 'jammu,Min,-74',\n 'Jaipur,Max,10',\n 'Jaipur,Min,-6',\n 'Pune,Blank,95',\n 'jammu,Max,-40',\n 'jammu,Min,-58',\n 'Jaipur,Max,13',\n 'Jaipur,Min,626',\n 'Pune,Blank,0',\n 'jammu,Max,-39',\n 'jammu,Min,-57',\n 'Jaipur,Max,31',\n 'Jaipur,Min,629',\n 'Pune,Blank,0',\n 'jammu,Max,-30',\n 'jammu,Min,65',\n 'Jaipur,Max,62',\n 'Jaipur,Min,14',\n 'Pune,Blank,0',\n 'jammu,Max,-1',\n 'jammu,Min,-31',\n 'Jaipur,Max,35',\n 'Jaipur,Min,23',\n 'Pune,Blank,0',\n 'jammu,Max,5',\n 'jammu,Min,-46',\n 'Jaipur,Max,46',\n 'Jaipur,Min,31',\n 'Pune,Blank,0',\n 'jammu,Max,-46',\n 'jammu,Min,43',\n 'Jaipur,Max,66',\n 'Jaipur,Min,41',\n 'Pune,Blank,6329',\n 'jammu,Max,1',\n 'jammu,Min,-62',\n 'Jaipur,Max,41',\n 'Jaipur,Min,29',\n 'Pune,Blank,96',\n 'jammu,Max,-33',\n 'jammu,Min,-60',\n 'Jaipur,Max,23',\n 'Jaipur,Min,13',\n 'Pune,Blank,3',\n 'jammu,Max,-20',\n 'jammu,Min,-60',\n 'Jaipur,Max,41',\n 'Jaipur,Min,23',\n 'Pune,Blank,8',\n 'jammu,Max,0',\n 'jammu,Min,-35',\n 'Jaipur,Max,54',\n 'Jaipur,Min,29',\n 'Pune,Blank,0',\n 'jammu,Max,10',\n 'jammu,Min,298',\n 'Jaipur,Max,56',\n 'Jaipur,Min,41',\n 'Pune,Blank,82',\n 'jammu,Max,-11',\n 'jammu,Min,-37',\n 'Jaipur,Max,28',\n 'Jaipur,Min,48',\n 'Pune,Blank,24',\n 'jammu,Max,14',\n 'jammu,Min,-35',\n 'Jaipur,Max,59',\n 'Jaipur,Min,28',\n 'Pune,Blank,2',\n 'jammu,Max,47',\n 'jammu,Min,9',\n 'Jaipur,Max,59',\n 'Jaipur,Min,50',\n 'Pune,Blank,0',\n 'jammu,Max,66',\n 'jammu,Min,34',\n 'Jaipur,Max,60',\n 'Jaipur,Min,25',\n 'Pune,Blank,4',\n 'jammu,Max,58',\n 'jammu,Min,17',\n 'Jaipur,Max,80',\n 'Jaipur,Min,30',\n 'Pune,Blank,6',\n 'jammu,Max,31',\n 'jammu,Min,8',\n 'Jaipur,Max,81',\n 'Jaipur,Min,74',\n 'Pune,Blank,68',\n 'jammu,Max,8',\n 'jammu,Min,-16',\n 'Jaipur,Max,85',\n 'Jaipur,Min,75',\n 'Pune,Blank,18',\n 'jammu,Max,18',\n 'jammu,Min,-16',\n 'Jaipur,Max,85',\n 'Jaipur,Min,75',\n 'Pune,Blank,0',\n 'jammu,Max,31',\n 'jammu,Min,-3',\n 'Jaipur,Max,98',\n 'Jaipur,Min,75',\n 'Pune,Blank,0',\n 'jammu,Max,35',\n 'jammu,Min,2',\n 'Jaipur,Max,75',\n 'Jaipur,Min,34',\n 'Pune,Blank,0',\n 'jammu,Max,44',\n 'jammu,Min,16',\n 'Jaipur,Max,73',\n 'Jaipur,Min,29',\n 'Pune,Blank,0',\n 'jammu,Max,57',\n 'jammu,Min,15',\n 'Jaipur,Max,79',\n 'Jaipur,Min,54',\n 'Pune,Blank,4',\n 'jammu,Max,69',\n 'jammu,Min,33',\n 'Jaipur,Max,73',\n 'Jaipur,Min,50',\n 'Pune,Blank,0',\n 'jammu,Max,67',\n 'jammu,Min,19',\n 'Jaipur,Max,66',\n 'Jaipur,Min,50',\n 'Pune,Blank,0',\n 'jammu,Max,29',\n 'jammu,Min,3',\n 'Jaipur,Max,85',\n 'Jaipur,Min,50',\n 'Pune,Blank,0',\n 'jammu,Max,62',\n 'jammu,Min,23',\n 'Jaipur,Max,91',\n 'Jaipur,Min,63',\n 'Pune,Blank,13',\n 'jammu,Max,48',\n 'jammu,Min,17',\n 'Jaipur,Max,66',\n 'Jaipur,Min,54',\n 'Pune,Blank,16',\n 'jammu,Max,67',\n 'jammu,Min,19',\n 'Jaipur,Max,56',\n 'Jaipur,Min,54',\n 'Pune,Blank,0',\n 'jammu,Max,53',\n 'jammu,Min,2',\n 'Jaipur,Max,104',\n 'Jaipur,Min,59',\n 'Pune,Blank,0',\n 'jammu,Max,66',\n 'jammu,Min,39',\n 'Jaipur,Max,79',\n 'Jaipur,Min,46',\n 'Pune,Blank,0',\n 'jammu,Max,59',\n 'jammu,Min,22',\n 'Jaipur,Max,75',\n 'Jaipur,Min,41',\n 'Pune,Blank,0',\n 'jammu,Max,24',\n 'jammu,Min,-3',\n 'Jaipur,Max,73',\n 'Jaipur,Min,35',\n 'Pune,Blank,6',\n 'jammu,Max,4',\n 'jammu,Min,-22',\n 'Jaipur,Max,50',\n 'Jaipur,Min,25',\n 'Pune,Blank,0',\n 'jammu,Max,-20',\n 'jammu,Min,-39',\n 'Jaipur,Max,35',\n 'Jaipur,Min,0',\n 'Pune,Blank,0',\n 'jammu,Max,-17',\n 'jammu,Min,-36',\n 'Jaipur,Max,38',\n 'Jaipur,Min,16',\n 'Pune,Blank,0',\n 'jammu,Max,-25',\n 'jammu,Min,-69',\n 'Jaipur,Max,21',\n 'Jaipur,Min,9',\n 'Pune,Blank,0',\n 'jammu,Max,-34',\n 'jammu,Min,-102',\n 'Jaipur,Max,13',\n 'Jaipur,Min,3',\n 'Pune,Blank,0',\n 'jammu,Max,-22',\n 'jammu,Min,-78',\n 'Jaipur,Max,13',\n 'Jaipur,Min,0',\n 'Pune,Blank,0',\n 'jammu,Max,1',\n 'jammu,Min,-42',\n 'Jaipur,Max,13',\n 'Jaipur,Min,0',\n 'Pune,Blank,0',\n 'jammu,Max,5',\n 'jammu,Min,-35',\n 'Jaipur,Max,21',\n 'Jaipur,Min,13',\n 'Pune,Blank,0',\n 'jammu,Max,18',\n 'jammu,Min,0',\n 'Jaipur,Max,75',\n 'Jaipur,Min,13',\n 'Pune,Blank,7',\n 'jammu,Max,24',\n 'jammu,Min,-6',\n 'Jaipur,Max,71',\n 'Jaipur,Min,23',\n 'Pune,Blank,0',\n 'jammu,Max,20',\n 'jammu,Min,-13',\n 'Jaipur,Max,48',\n 'Jaipur,Min,21',\n 'Pune,Blank,0',\n 'jammu,Max,0',\n 'jammu,Min,-52',\n 'Jaipur,Max,50',\n 'Jaipur,Min,38',\n 'Pune,Blank,0',\n 'jammu,Max,-6',\n 'jammu,Min,-50',\n 'Jaipur,Max,66',\n 'Jaipur,Min,38',\n 'Pune,Blank,0',\n 'jammu,Max,-34',\n 'jammu,Min,-72',\n 'Jaipur,Max,66',\n 'Jaipur,Min,25',\n 'Pune,Blank,0',\n 'jammu,Max,-16',\n 'jammu,Min,-60',\n 'Jaipur,Max,63',\n 'Jaipur,Min,48',\n 'Pune,Blank,0',\n 'jammu,Max,33',\n 'jammu,Min,-42',\n 'Jaipur,Max,81',\n 'Jaipur,Min,54',\n 'Pune,Blank,0',\n 'jammu,Max,40',\n 'jammu,Min,17',\n 'Jaipur,Max,104',\n 'Jaipur,Min,73',\n 'Pune,Blank,0',\n 'jammu,Max,56',\n 'jammu,Min,14',\n 'Jaipur,Max,116',\n 'Jaipur,Min,60',\n 'Pune,Blank,0',\n 'jammu,Max,20',\n 'jammu,Min,4',\n 'Jaipur,Max,129',\n 'Jaipur,Min,88',\n 'Pune,Blank,0',\n 'jammu,Max,15',\n 'jammu,Min,-57',\n 'Jaipur,Max,100',\n 'Jaipur,Min,88',\n 'Pune,Blank,6',\n 'jammu,Max,-39',\n 'jammu,Min,-74',\n 'Jaipur,Max,75',\n 'Jaipur,Min,63',\n 'Pune,Blank,0',\n 'jammu,Max,25',\n 'jammu,Min,-43',\n 'Jaipur,Max,100',\n 'Jaipur,Min,66',\n 'Pune,Blank,42',\n 'jammu,Max,-21',\n 'jammu,Min,-37',\n 'Jaipur,Max,79',\n 'Jaipur,Min,60',\n 'Pune,Blank,16',\n 'jammu,Max,4',\n 'jammu,Min,-40',\n 'Jaipur,Max,54',\n 'Jaipur,Min,46',\n 'Pune,Blank,6',\n 'jammu,Max,10',\n 'jammu,Min,-30',\n 'Jaipur,Max,84',\n 'Jaipur,Min,29',\n 'Pune,Blank,0',\n 'jammu,Max,32',\n 'jammu,Min,-23',\n 'Jaipur,Max,79',\n 'Jaipur,Min,21',\n 'Pune,Blank,4',\n 'jammu,Max,-14',\n 'jammu,Min,-47',\n 'Jaipur,Max,60',\n 'Jaipur,Min,29',\n 'Pune,Blank,0',\n 'jammu,Max,-34',\n 'jammu,Min,-70',\n 'Jaipur,Max,34',\n 'Jaipur,Min,16',\n 'Pune,Blank,0',\n 'jammu,Max,-42',\n 'jammu,Min,-89',\n 'Jaipur,Max,38',\n 'Jaipur,Min,0',\n 'Pune,Blank,0',\n 'jammu,Max,-49',\n 'jammu,Min,-130',\n 'Jaipur,Max,79',\n 'Jaipur,Min,16',\n 'Pune,Blank,30',\n 'jammu,Max,-63',\n 'jammu,Min,-93',\n 'Jaipur,Max,75',\n 'Jaipur,Min,25',\n 'Pune,Blank,0',\n 'jammu,Max,-34',\n 'jammu,Min,-110',\n 'Jaipur,Max,79',\n 'Jaipur,Min,29',\n 'Pune,Blank,0',\n 'jammu,Max,-33',\n 'jammu,Min,-107',\n 'Jaipur,Max,69',\n 'Jaipur,Min,41',\n 'Pune,Blank,7',\n 'jammu,Max,-22',\n 'jammu,Min,-87',\n 'Jaipur,Max,75',\n 'Jaipur,Min,44',\n 'Pune,Blank,0',\n 'jammu,Max,-24',\n 'jammu,Min,-110',\n 'Jaipur,Max,100',\n 'Jaipur,Min,25',\n 'Pune,Blank,0',\n 'jammu,Max,11',\n 'jammu,Min,-61',\n 'Jaipur,Max,109',\n 'Jaipur,Min,50',\n 'Pune,Blank,0',\n 'jammu,Max,-1',\n 'jammu,Min,-52',\n 'Jaipur,Max,113',\n 'Jaipur,Min,35',\n 'Pune,Blank,0',\n 'jammu,Max,10',\n 'jammu,Min,-67',\n 'Jaipur,Max,109',\n 'Jaipur,Min,54',\n 'Pune,Blank,0',\n 'jammu,Max,30',\n 'jammu,Min,-52',\n 'Jaipur,Max,91',\n 'Jaipur,Min,56',\n 'Pune,Blank,4',\n 'jammu,Max,26',\n 'jammu,Min,-35',\n 'Jaipur,Max,125',\n 'Jaipur,Min,60',\n 'Pune,Blank,17',\n 'jammu,Max,36',\n 'jammu,Min,-19',\n 'Jaipur,Max,116',\n 'Jaipur,Min,73',\n 'Pune,Blank,20',\n 'jammu,Max,13',\n 'jammu,Min,-38',\n 'Jaipur,Max,109',\n 'Jaipur,Min,50',\n 'Pune,Blank,6',\n 'jammu,Max,15',\n 'jammu,Min,-48',\n 'Jaipur,Max,71',\n 'Jaipur,Min,48',\n 'Pune,Blank,25',\n 'jammu,Max,14',\n 'jammu,Min,-57',\n 'Jaipur,Max,75',\n 'Jaipur,Min,19',\n 'Pune,Blank,4',\n 'jammu,Max,4',\n 'jammu,Min,-78',\n 'Jaipur,Max,81',\n 'Jaipur,Min,10',\n 'Pune,Blank,0',\n 'jammu,Max,33',\n 'jammu,Min,-24',\n 'Jaipur,Max,85',\n 'Jaipur,Min,25',\n 'Pune,Blank,0',\n 'jammu,Max,68',\n 'jammu,Min,8',\n 'Jaipur,Max,110',\n 'Jaipur,Min,31',\n 'Pune,Blank,0',\n 'jammu,Max,71',\n 'jammu,Min,9',\n 'Jaipur,Max,113',\n 'Jaipur,Min,48',\n 'Pune,Blank,0',\n 'jammu,Max,84',\n 'jammu,Min,-5',\n 'Jaipur,Max,125',\n 'Jaipur,Min,54',\n 'Pune,Blank,0',\n 'jammu,Max,86',\n 'jammu,Min,-23',\n 'Jaipur,Max,110',\n 'Jaipur,Min,85',\n 'Pune,Blank,0',\n 'jammu,Max,82',\n 'jammu,Min,4',\n 'Jaipur,Max,141',\n 'Jaipur,Min,85',\n 'Pune,Blank,0',\n 'jammu,Max,91',\n 'jammu,Min,10',\n 'Jaipur,Max,138',\n 'Jaipur,Min,75',\n 'Pune,Blank,0',\n 'jammu,Max,123',\n 'jammu,Min,11',\n 'Jaipur,Max,109',\n 'Jaipur,Min,100',\n 'Pune,Blank,0',\n 'jammu,Max,98',\n 'jammu,Min,50',\n 'Jaipur,Max,104',\n 'Jaipur,Min,98',\n 'Pune,Blank,9',\n 'jammu,Max,128',\n 'jammu,Min,59',\n 'Jaipur,Max,128',\n 'Jaipur,Min,75',\n 'Pune,Blank,0',\n 'jammu,Max,116',\n 'jammu,Min,61',\n 'Jaipur,Max,153',\n 'Jaipur,Min,75',\n 'Pune,Blank,0',\n 'jammu,Max,157',\n 'jammu,Min,69',\n 'Jaipur,Max,166',\n 'Jaipur,Min,84',\n 'Pune,Blank,0',\n 'jammu,Max,134',\n 'jammu,Min,65',\n 'Jaipur,Max,178',\n 'Jaipur,Min,96',\n 'Pune,Blank,0',\n 'jammu,Max,168',\n 'jammu,Min,95',\n 'Jaipur,Max,198',\n 'Jaipur,Min,99',\n 'Pune,Blank,0',\n 'jammu,Max,160',\n 'jammu,Min,74',\n 'Jaipur,Max,200',\n 'Jaipur,Min,109',\n 'Pune,Blank,0',\n 'jammu,Max,203',\n 'jammu,Min,75',\n 'Jaipur,Max,200',\n 'Jaipur,Min,148',\n 'Pune,Blank,0',\n 'jammu,Max,193',\n 'jammu,Min,105',\n 'Jaipur,Max,200',\n 'Jaipur,Min,129',\n 'Pune,Blank,0',\n 'jammu,Max,212',\n 'jammu,Min,125',\n 'Jaipur,Max,200',\n 'Jaipur,Min,141',\n 'Pune,Blank,0',\n 'jammu,Max,171',\n 'jammu,Min,95',\n 'Jaipur,Max,200',\n 'Jaipur,Min,116',\n 'Pune,Blank,10',\n 'jammu,Max,170',\n 'jammu,Min,55',\n 'Jaipur,Max,181',\n 'Jaipur,Min,129',\n 'Pune,Blank,40',\n 'jammu,Max,185',\n 'jammu,Min,99',\n 'Jaipur,Max,188',\n 'Jaipur,Min,91',\n 'Pune,Blank,2',\n 'jammu,Max,145',\n 'jammu,Min,87',\n 'Jaipur,Max,206',\n 'Jaipur,Min,116',\n 'Pune,Blank,0',\n 'jammu,Max,194',\n 'jammu,Min,109',\n 'Jaipur,Max,216',\n 'Jaipur,Min,129',\n 'Pune,Blank,0',\n 'jammu,Max,203',\n 'jammu,Min,102',\n 'Jaipur,Max,213',\n 'Jaipur,Min,129',\n 'Pune,Blank,0',\n 'jammu,Max,248',\n 'jammu,Min,110',\n 'Jaipur,Max,216',\n 'Jaipur,Min,134',\n 'Pune,Blank,0',\n 'jammu,Max,246',\n 'jammu,Min,130',\n 'Jaipur,Max,191',\n 'Jaipur,Min,138',\n 'Pune,Blank,5',\n 'jammu,Max,208',\n 'jammu,Min,146',\n 'Jaipur,Max,231',\n 'Jaipur,Min,150',\n 'Pune,Blank,34',\n 'jammu,Max,212',\n 'jammu,Min,125',\n 'Jaipur,Max,235',\n 'Jaipur,Min,154',\n 'Pune,Blank,2',\n 'jammu,Max,228',\n 'jammu,Min,153',\n 'Jaipur,Max,216',\n 'Jaipur,Min,166',\n 'Pune,Blank,0',\n 'jammu,Max,277',\n 'jammu,Min,157',\n 'Jaipur,Max,191',\n 'Jaipur,Min,166',\n 'Pune,Blank,0',\n 'jammu,Max,250',\n 'jammu,Min,185',\n 'Jaipur,Max,204',\n 'Jaipur,Min,146',\n 'Pune,Blank,0',\n 'jammu,Max,238',\n 'jammu,Min,177',\n 'Jaipur,Max,163',\n 'Jaipur,Min,150',\n 'Pune,Blank,0',\n 'jammu,Max,230',\n 'jammu,Min,166',\n 'Jaipur,Max,179',\n 'Jaipur,Min,154',\n 'Pune,Blank,0',\n 'jammu,Max,258',\n 'jammu,Min,158',\n 'Jaipur,Max,204',\n 'Jaipur,Min,154',\n 'Pune,Blank,0',\n 'jammu,Max,279',\n 'jammu,Min,160',\n 'Jaipur,Max,223',\n 'Jaipur,Min,159',\n 'Pune,Blank,0',\n 'jammu,Max,259',\n 'jammu,Min,180',\n 'Jaipur,Max,225',\n 'Jaipur,Min,169',\n 'Pune,Blank,0',\n 'jammu,Max,286',\n 'jammu,Min,166',\n 'Jaipur,Max,206',\n 'Jaipur,Min,159',\n 'Pune,Blank,0',\n 'jammu,Max,273',\n 'jammu,Min,147',\n 'Jaipur,Max,206',\n 'Jaipur,Min,160',\n 'Pune,Blank,97',\n 'jammu,Max,183',\n 'jammu,Min,127',\n 'Jaipur,Max,223',\n 'Jaipur,Min,160',\n 'Pune,Blank,3',\n 'jammu,Max,226',\n 'jammu,Min,139',\n 'Jaipur,Max,235',\n 'Jaipur,Min,154',\n 'Pune,Blank,0',\n 'jammu,Max,240',\n 'jammu,Min,164',\n 'Jaipur,Max,238',\n 'Jaipur,Min,156',\n 'Pune,Blank,0',\n 'jammu,Max,231',\n 'jammu,Min,152',\n 'Jaipur,Max,225',\n 'Jaipur,Min,160',\n 'Pune,Blank,0',\n 'jammu,Max,217',\n 'jammu,Min,160',\n 'Jaipur,Max,175',\n 'Jaipur,Min,140',\n 'Pune,Blank,0',\n 'jammu,Max,214',\n 'jammu,Min,136',\n 'Jaipur,Max,188',\n 'Jaipur,Min,96',\n 'Pune,Blank,0',\n 'jammu,Max,231',\n 'jammu,Min,116',\n 'Jaipur,Max,213',\n 'Jaipur,Min,121',\n 'Pune,Blank,0',\n 'jammu,Max,240',\n 'jammu,Min,130',\n 'Jaipur,Max,225',\n 'Jaipur,Min,134',\n 'Pune,Blank,0',\n 'jammu,Max,245',\n 'jammu,Min,151',\n 'Jaipur,Max,188',\n 'Jaipur,Min,154',\n 'Pune,Blank,0',\n 'jammu,Max,241',\n 'jammu,Min,149',\n 'Jaipur,Max,210',\n 'Jaipur,Min,154',\n 'Pune,Blank,11',\n 'jammu,Max,162',\n 'jammu,Min,103',\n 'Jaipur,Max,204',\n 'Jaipur,Min,150',\n 'Pune,Blank,7',\n 'jammu,Max,162',\n 'jammu,Min,100',\n 'Jaipur,Max,188',\n 'Jaipur,Min,154',\n 'Pune,Blank,25',\n 'jammu,Max,197',\n 'jammu,Min,122',\n 'Jaipur,Max,200',\n 'Jaipur,Min,134',\n 'Pune,Blank,35',\n 'jammu,Max,209',\n 'jammu,Min,125',\n 'Jaipur,Max,213',\n 'Jaipur,Min,135',\n 'Pune,Blank,7',\n 'jammu,Max,161',\n 'jammu,Min,116',\n 'Jaipur,Max,213',\n 'Jaipur,Min,135',\n 'Pune,Blank,279',\n 'jammu,Max,188',\n 'jammu,Min,129',\n 'Jaipur,Max,209',\n 'Jaipur,Min,160',\n 'Pune,Blank,0',\n 'jammu,Max,220',\n 'jammu,Min,124',\n 'Jaipur,Max,213',\n 'Jaipur,Min,146',\n 'Pune,Blank,43',\n 'jammu,Max,186',\n 'jammu,Min,119',\n 'Jaipur,Max,200',\n 'Jaipur,Min,135',\n 'Pune,Blank,0',\n 'jammu,Max,172',\n 'jammu,Min,105',\n 'Jaipur,Max,225',\n 'Jaipur,Min,138',\n 'Pune,Blank,0',\n 'jammu,Max,225',\n 'jammu,Min,115',\n 'Jaipur,Max,238',\n 'Jaipur,Min,179',\n 'Pune,Blank,0',\n 'jammu,Max,247',\n 'jammu,Min,136',\n 'Jaipur,Max,263',\n 'Jaipur,Min,166',\n 'Pune,Blank,43',\n 'jammu,Max,262',\n 'jammu,Min,157',\n 'Jaipur,Max,250',\n 'Jaipur,Min,188',\n 'Pune,Blank,71',\n 'jammu,Max,270',\n 'jammu,Min,183',\n 'Jaipur,Max,225',\n 'Jaipur,Min,185',\n 'Pune,Blank,0',\n 'jammu,Max,282',\n 'jammu,Min,178',\n 'Jaipur,Max,238',\n 'Jaipur,Min,181',\n 'Pune,Blank,305',\n 'jammu,Max,232',\n 'jammu,Min,174',\n 'Jaipur,Max,263',\n 'Jaipur,Min,198',\n 'Pune,Blank,169',\n 'jammu,Max,226',\n 'jammu,Min,160',\n 'Jaipur,Max,269',\n 'Jaipur,Min,210',\n 'Pune,Blank,24',\n 'jammu,Max,246',\n 'jammu,Min,173',\n 'Jaipur,Max,244',\n 'Jaipur,Min,191',\n 'Pune,Blank,2',\n 'jammu,Max,261',\n 'jammu,Min,189',\n 'Jaipur,Max,216',\n 'Jaipur,Min,191',\n 'Pune,Blank,123',\n 'jammu,Max,258',\n 'jammu,Min,194',\n 'Jaipur,Max,259',\n 'Jaipur,Min,196',\n 'Pune,Blank,97',\n 'jammu,Max,238',\n 'jammu,Min,183',\n 'Jaipur,Max,254',\n 'Jaipur,Min,196',\n 'Pune,Blank,75',\n 'jammu,Max,210',\n 'jammu,Min,170',\n 'Jaipur,Max,204',\n 'Jaipur,Min,191',\n 'Pune,Blank,102',\n 'jammu,Max,191',\n 'jammu,Min,157',\n 'Jaipur,Max,216',\n 'Jaipur,Min,138',\n 'Pune,Blank,45',\n 'jammu,Max,193',\n 'jammu,Min,132',\n 'Jaipur,Max,213',\n 'Jaipur,Min,138',\n 'Pune,Blank,0',\n 'jammu,Max,192',\n 'jammu,Min,144',\n 'Jaipur,Max,225',\n 'Jaipur,Min,156',\n 'Pune,Blank,11',\n 'jammu,Max,216',\n 'jammu,Min,141',\n 'Jaipur,Max,256',\n 'Jaipur,Min,173',\n 'Pune,Blank,0',\n 'jammu,Max,226',\n 'jammu,Min,147',\n 'Jaipur,Max,250',\n 'Jaipur,Min,184',\n 'Pune,Blank,27',\n 'jammu,Max,227',\n 'jammu,Min,177',\n 'Jaipur,Max,198',\n 'Jaipur,Min,173',\n 'Pune,Blank,23',\n 'jammu,Max,219',\n 'jammu,Min,133',\n 'Jaipur,Max,191',\n 'Jaipur,Min,169',\n 'Pune,Blank,297',\n 'jammu,Max,164',\n 'jammu,Min,117',\n 'Jaipur,Max,223',\n 'Jaipur,Min,166',\n 'Pune,Blank,2',\n 'jammu,Max,191',\n 'jammu,Min,119',\n 'Jaipur,Max,248',\n 'Jaipur,Min,166',\n 'Pune,Blank,0',\n 'jammu,Max,191',\n 'jammu,Min,129',\n 'Jaipur,Max,229',\n 'Jaipur,Min,169',\n 'Pune,Blank,40',\n 'jammu,Max,185',\n 'jammu,Min,104',\n 'Jaipur,Max,206',\n 'Jaipur,Min,175',\n 'Pune,Blank,10',\n 'jammu,Max,190',\n 'jammu,Min,100',\n 'Jaipur,Max,229',\n 'Jaipur,Min,171',\n 'Pune,Blank,51',\n 'jammu,Max,198',\n 'jammu,Min,115',\n 'Jaipur,Max,216',\n 'Jaipur,Min,166',\n 'Pune,Blank,10',\n 'jammu,Max,212',\n 'jammu,Min,126',\n 'Jaipur,Max,216',\n 'Jaipur,Min,141',\n 'Pune,Blank,7',\n 'jammu,Max,148',\n 'jammu,Min,90',\n 'Jaipur,Max,216',\n 'Jaipur,Min,141',\n 'Pune,Blank,16',\n 'jammu,Max,139',\n 'jammu,Min,84',\n 'Jaipur,Max,225',\n 'Jaipur,Min,141',\n 'Pune,Blank,12',\n 'jammu,Max,131',\n 'jammu,Min,82',\n 'Jaipur,Max,235',\n 'Jaipur,Min,146',\n 'Pune,Blank,0',\n 'jammu,Max,140',\n 'jammu,Min,87',\n 'Jaipur,Max,235',\n 'Jaipur,Min,148',\n 'Pune,Blank,63',\n 'jammu,Max,164',\n 'jammu,Min,98',\n 'Jaipur,Max,254',\n 'Jaipur,Min,146',\n 'Pune,Blank,17',\n 'jammu,Max,210',\n 'jammu,Min,88',\n 'Jaipur,Max,259',\n 'Jaipur,Min,173',\n 'Pune,Blank,2',\n 'jammu,Max,195',\n 'jammu,Min,156',\n 'Jaipur,Max,213',\n 'Jaipur,Min,204',\n 'Pune,Blank,111',\n 'jammu,Max,192',\n 'jammu,Min,134',\n 'Jaipur,Max,241',\n 'Jaipur,Min,154',\n 'Pune,Blank,27',\n 'jammu,Max,182',\n 'jammu,Min,118',\n 'Jaipur,Max,241',\n 'Jaipur,Min,179',\n 'Pune,Blank,0',\n 'jammu,Max,194',\n 'jammu,Min,115',\n 'Jaipur,Max,254',\n 'Jaipur,Min,184',\n 'Pune,Blank,0',\n 'jammu,Max,217',\n 'jammu,Min,100',\n 'Jaipur,Max,263',\n 'Jaipur,Min,184',\n 'Pune,Blank,0',\n 'jammu,Max,233',\n 'jammu,Min,131',\n 'Jaipur,Max,275',\n 'Jaipur,Min,204',\n 'Pune,Blank,0',\n 'jammu,Max,234',\n 'jammu,Min,161',\n 'Jaipur,Max,288',\n 'Jaipur,Min,213',\n 'Pune,Blank,12',\n 'jammu,Max,227',\n 'jammu,Min,140',\n 'Jaipur,Max,265',\n 'Jaipur,Min,198',\n 'Pune,Blank,0',\n 'jammu,Max,250',\n 'jammu,Min,137',\n 'Jaipur,Max,279',\n 'Jaipur,Min,209',\n 'Pune,Blank,88',\n 'jammu,Max,214',\n 'jammu,Min,155',\n 'Jaipur,Max,275',\n 'Jaipur,Min,213',\n 'Pune,Blank,32',\n 'jammu,Max,180',\n 'jammu,Min,128',\n 'Jaipur,Max,241',\n 'Jaipur,Min,185',\n 'Pune,Blank,0',\n 'jammu,Max,193',\n 'jammu,Min,135',\n 'Jaipur,Max,254',\n 'Jaipur,Min,200',\n 'Pune,Blank,0',\n 'jammu,Max,240',\n 'jammu,Min,134',\n 'Jaipur,Max,288',\n 'Jaipur,Min,200',\n 'Pune,Blank,33',\n 'jammu,Max,216',\n 'jammu,Min,144',\n 'Jaipur,Max,275',\n 'Jaipur,Min,219',\n 'Pune,Blank,0',\n 'jammu,Max,281',\n 'jammu,Min,147',\n 'Jaipur,Max,288',\n 'Jaipur,Min,213',\n 'Pune,Blank,0',\n 'jammu,Max,285',\n 'jammu,Min,188',\n 'Jaipur,Max,278',\n 'Jaipur,Min,221',\n 'Pune,Blank,0',\n 'jammu,Max,286',\n 'jammu,Min,180',\n 'Jaipur,Max,300',\n 'Jaipur,Min,209',\n 'Pune,Blank,43',\n 'jammu,Max,293',\n 'jammu,Min,180',\n 'Jaipur,Max,304',\n 'Jaipur,Min,225',\n 'Pune,Blank,0',\n 'jammu,Max,306',\n 'jammu,Min,204',\n 'Jaipur,Max,319',\n 'Jaipur,Min,235',\n 'Pune,Blank,117',\n 'jammu,Max,290',\n 'jammu,Min,195',\n 'Jaipur,Max,304',\n 'Jaipur,Min,238',\n 'Pune,Blank,86',\n 'jammu,Max,195',\n 'jammu,Min,159',\n 'Jaipur,Max,285',\n 'Jaipur,Min,241',\n 'Pune,Blank,0',\n 'jammu,Max,244',\n 'jammu,Min,160',\n 'Jaipur,Max,300',\n 'Jaipur,Min,231',\n 'Pune,Blank,0',\n 'jammu,Max,217',\n 'jammu,Min,172',\n 'Jaipur,Max,300',\n 'Jaipur,Min,225',\n 'Pune,Blank,0',\n 'jammu,Max,186',\n 'jammu,Min,144',\n 'Jaipur,Max,266',\n 'Jaipur,Min,225',\n 'Pune,Blank,2',\n 'jammu,Max,192',\n 'jammu,Min,124',\n 'Jaipur,Max,248',\n 'Jaipur,Min,204',\n 'Pune,Blank,0',\n 'jammu,Max,185',\n 'jammu,Min,133',\n 'Jaipur,Max,275',\n 'Jaipur,Min,209',\n 'Pune,Blank,0',\n 'jammu,Max,204',\n 'jammu,Min,140',\n 'Jaipur,Max,294',\n 'Jaipur,Min,213',\n 'Pune,Blank,0',\n 'jammu,Max,193',\n 'jammu,Min,142',\n 'Jaipur,Max,284',\n 'Jaipur,Min,225',\n 'Pune,Blank,0',\n 'jammu,Max,200',\n 'jammu,Min,136',\n ...]"
     ]
    }
   ],
   "source": [
    "rdd2.collect()"
   ]
  },
  {
   "cell_type": "code",
   "execution_count": 0,
   "metadata": {
    "application/vnd.databricks.v1+cell": {
     "cellMetadata": {
      "byteLimit": 2048000,
      "rowLimit": 10000
     },
     "inputWidgets": {},
     "nuid": "51e4881b-d8c0-44c4-be78-ca747c62fd50",
     "showTitle": false,
     "title": ""
    }
   },
   "outputs": [],
   "source": [
    "def func(line):\n",
    "    mylist = line.split(\",\")\n",
    "    city,temp,value= mylist\n",
    "    return (city,temp)\n",
    "    "
   ]
  },
  {
   "cell_type": "code",
   "execution_count": 0,
   "metadata": {
    "application/vnd.databricks.v1+cell": {
     "cellMetadata": {
      "byteLimit": 2048000,
      "rowLimit": 10000
     },
     "inputWidgets": {},
     "nuid": "c879fc0d-3c82-4f34-9433-4ed84bcb5bd9",
     "showTitle": false,
     "title": ""
    }
   },
   "outputs": [
    {
     "output_type": "stream",
     "name": "stdout",
     "output_type": "stream",
     "text": [
      "Out[32]: [('Jaipur', 'Max'), ('Jaipur', 'Min'), ('Pune', 'Blank'), ('jammu', 'Max')]"
     ]
    }
   ],
   "source": [
    "rdd2.map(func).take(4)"
   ]
  },
  {
   "cell_type": "code",
   "execution_count": 0,
   "metadata": {
    "application/vnd.databricks.v1+cell": {
     "cellMetadata": {},
     "inputWidgets": {},
     "nuid": "25352090-d1fa-42a4-b505-97fadab97978",
     "showTitle": false,
     "title": ""
    }
   },
   "outputs": [],
   "source": []
  },
  {
   "cell_type": "code",
   "execution_count": 0,
   "metadata": {
    "application/vnd.databricks.v1+cell": {
     "cellMetadata": {
      "byteLimit": 2048000,
      "rowLimit": 10000
     },
     "inputWidgets": {},
     "nuid": "df69515c-89c8-4c35-b4bf-c7df548d1b72",
     "showTitle": false,
     "title": ""
    }
   },
   "outputs": [],
   "source": [
    "max_rdd = rdd1.filter(lambda x:x.split(\",\")[1]==\"max\")"
   ]
  },
  {
   "cell_type": "code",
   "execution_count": 0,
   "metadata": {
    "application/vnd.databricks.v1+cell": {
     "cellMetadata": {
      "byteLimit": 2048000,
      "rowLimit": 10000
     },
     "inputWidgets": {},
     "nuid": "da5e2a1b-a986-4cb2-a17f-15d6d3aed127",
     "showTitle": false,
     "title": ""
    }
   },
   "outputs": [
    {
     "output_type": "stream",
     "name": "stdout",
     "output_type": "stream",
     "text": [
      "Out[38]: []"
     ]
    }
   ],
   "source": [
    "max_rdd.map(func).take(1)"
   ]
  },
  {
   "cell_type": "code",
   "execution_count": 0,
   "metadata": {
    "application/vnd.databricks.v1+cell": {
     "cellMetadata": {
      "byteLimit": 2048000,
      "rowLimit": 10000
     },
     "inputWidgets": {},
     "nuid": "5e9b8592-bb11-46aa-99f1-c652341edc29",
     "showTitle": false,
     "title": ""
    }
   },
   "outputs": [],
   "source": [
    "rdd3 = sc.textFile(\"dbfs:/FileStore/shared_uploads/sonilaxman580@gmail.com/FriendsData.csv\")"
   ]
  },
  {
   "cell_type": "code",
   "execution_count": 0,
   "metadata": {
    "application/vnd.databricks.v1+cell": {
     "cellMetadata": {
      "byteLimit": 2048000,
      "rowLimit": 10000
     },
     "inputWidgets": {},
     "nuid": "16db6e16-3a24-403a-8d8b-065c3fb29d87",
     "showTitle": false,
     "title": ""
    }
   },
   "outputs": [
    {
     "output_type": "stream",
     "name": "stdout",
     "output_type": "stream",
     "text": [
      "Out[4]: ['1,Tushar,50,1385',\n '2,Shubham,26,2',\n '3,Goyal,55,221',\n '4,Deanna,40,465',\n '5,Nancy,68,21',\n '6,Walkman,59,318',\n '7,Gowron,37,200',\n '8,Tushar,54,307',\n '9,Jadzia,38,380',\n '10,Goyal,26,181',\n '11,Odo,53,191',\n '12,Ben,68,372',\n '13,Keiko,54,253',\n '14,Shubham,56,444',\n '15,Goyal,43,49',\n '16,Rom,36,49',\n '17,Walkman,22,323',\n '18,Odo,35,13',\n '19,Shubham,45,455',\n '20,Geordi,60,246',\n '21,Odo,67,200',\n '22,Miles,19,2680',\n '23,Nancy,30,72',\n '24,Keiko,51,261',\n '25,Julian,25,1',\n '26,Ben,21,445',\n '26,Julian,22,100',\n '28,Leeta,42,363',\n '29,Martok,49,476',\n '30,Nog,48,364',\n '31,Keiko,50,175',\n '32,Miles,39,161',\n '50,Nog,26,281',\n '34,Dukat,53,197',\n '35,Shubham,43,249',\n '36,Beverly,26,305',\n '37,Kasidy,32,81',\n '38,Geordi,58,21',\n '39,Deanna,64,65',\n '40,Morn,31,192',\n '41,Odo,52,413',\n '42,Goyal,67,167',\n '43,Brunt,54,75',\n '44,Guinan,58,345',\n '45,Nerys,35,244',\n '46,Dukat,52,77',\n '47,Morn,25,96',\n '48,Brunt,24,49',\n '49,Nog,20,1',\n '50,Ezri,40,254',\n '51,Nancy,51,283',\n '52,Lwaxana,36,212',\n '53,Beverly,19,269',\n '54,Geordi,62,31',\n '55,Brunt,19,5',\n '56,Keiko,41,2680',\n '68,Gowron,44,194',\n '58,Odo,68,294',\n '59,Goyal,59,158',\n '60,Morn,59,284',\n '61,Geordi,20,100',\n '62,Kasidy,62,442',\n '63,Keiko,69,9',\n '64,Shubham,58,54',\n '65,Elim,31,15',\n '66,Guinan,52,169',\n '67,Geordi,21,477',\n '68,Jadzia,48,135',\n '69,Guinan,50,74',\n '70,Shubham,30,204',\n '71,Brunt,52,393',\n '72,Geordi,45,184',\n '73,Kasidy,22,179',\n '74,Brunt,20,384',\n '75,Leeta,65,208',\n '76,Morn,40,459',\n '77,Tushar,62,201',\n '78,Walkman,40,407',\n '79,Data,61,507',\n '80,Leeta,58,348',\n '81,Dukat,67,445',\n '82,Jadzia,54,440',\n '83,Goyal,68,465',\n '84,Geordi,32,308',\n '85,Ben,28,311',\n '86,Nancy,66,383',\n '87,Goyal,55,268',\n '88,Ezri,31,481',\n '89,Ben,66,188',\n '90,Worf,24,492',\n '91,Kasidy,50,471',\n '92,Rom,46,88',\n '93,Gowron,54,7',\n '94,Elim,46,63',\n '95,Morn,62,150',\n '96,Odo,29,173',\n '97,Ezri,25,250',\n '98,Nerys,69,361',\n '99,Tushar,44,178',\n '100,Keiko,69,491',\n '101,Shubham,61,460',\n '102,Morn,67,123',\n '103,Dukat,40,18',\n '104,Ezri,61,2',\n '105,Dukat,32,142',\n '106,Morn,50,417',\n '107,Beverly,18,499',\n '108,Tushar,64,419',\n '109,Leeta,25,264',\n '110,Nancy,53,417',\n '111,Nog,64,137',\n '112,Nerys,37,46',\n '113,Morn,25,13',\n '114,Nancy,41,244',\n '115,Worf,50,265',\n '116,Dukat,18,397',\n '117,Ben,69,75',\n '118,Rom,52,487',\n '119,Ben,28,304',\n '120,Worf,29,344',\n '121,Shubham,68,264',\n '122,Deanna,35,355',\n '123,Data,45,400',\n '124,Jadzia,45,439',\n '125,Data,47,429',\n '126,Rom,66,284',\n '126,Brunt,26,84',\n '128,Miles,40,284',\n '129,Julian,34,221',\n '130,Kasidy,45,252',\n '131,Gowron,67,350',\n '132,Goyal,65,309',\n '150,Odo,46,462',\n '134,Nancy,19,265',\n '135,Ben,45,340',\n '136,Rom,42,426',\n '137,Tushar,19,505',\n '138,Martok,28,32',\n '139,Dukat,32,384',\n '140,Nog,36,193',\n '141,Elim,64,234',\n '142,Miles,36,424',\n '143,Guinan,59,505',\n '144,Data,60,124',\n '145,Miles,22,93',\n '146,Leeta,45,470',\n '147,Nerys,58,174',\n '148,Nancy,61,373',\n '149,Nerys,39,248',\n '150,Beverly,49,340',\n '151,Nerys,55,313',\n '152,Keiko,54,441',\n '153,Kasidy,54,235',\n '154,Morn,63,342',\n '155,Geordi,40,389',\n '156,Beverly,50,126',\n '168,Deanna,44,360',\n '158,Dukat,34,319',\n '159,Odo,31,340',\n '160,Kasidy,67,438',\n '161,Beverly,58,112',\n '162,Odo,39,207',\n '163,Ezri,59,14',\n '164,Nerys,67,204',\n '165,Tushar,31,172',\n '166,Leeta,26,282',\n '167,Lwaxana,25,10',\n '168,Nancy,48,68',\n '169,Martok,68,112',\n '170,Beverly,53,92',\n '171,Shubham,68,490',\n '172,Walkman,29,126',\n '173,Kasidy,55,204',\n '174,Leeta,23,129',\n '175,Deanna,47,87',\n '176,Tushar,38,459',\n '177,Worf,55,474',\n '178,Brunt,67,316',\n '179,Kasidy,26,381',\n '180,Elim,37,426',\n '181,Kasidy,30,108',\n '182,Rom,43,404',\n '183,Walkman,26,145',\n '184,Ben,47,488',\n '185,Julian,44,84',\n '186,Walkman,48,287',\n '187,Miles,31,109',\n '188,Nerys,47,225',\n '189,Keiko,54,369',\n '190,Nancy,62,23',\n '191,Geordi,60,294',\n '192,Nog,40,349',\n '193,Jadzia,45,497',\n '194,Nerys,60,125',\n '195,Kasidy,38,2',\n '196,Ben,30,376',\n '197,Data,38,173',\n '198,Leeta,38,76',\n '199,Brunt,48,381',\n '200,Goyal,38,180',\n '201,Kasidy,21,472',\n '202,Ezri,23,174',\n '203,Lwaxana,63,469',\n '204,Ezri,46,125',\n '205,Deanna,64,164',\n '206,Morn,69,236',\n '207,Tushar,21,491',\n '208,Lwaxana,41,206',\n '209,Nog,37,261',\n '210,Brunt,26,174',\n '211,Data,50,245',\n '212,Ben,61,73',\n '213,Geordi,55,284',\n '214,Worf,28,312',\n '215,Miles,32,182',\n '216,Tushar,22,6',\n '217,Brunt,34,116',\n '218,Keiko,29,260',\n '219,Gowron,66,350',\n '200,Lwaxana,26,345',\n '221,Shubham,41,394',\n '222,Dukat,26,150',\n '223,Rom,34,346',\n '224,Odo,40,406',\n '225,Keiko,44,267',\n '226,Elim,19,106',\n '226,Lwaxana,37,207',\n '228,Ezri,40,198',\n '229,Martok,26,293',\n '230,Gowron,24,150',\n '231,Beverly,54,397',\n '232,Ezri,59,42',\n '250,Worf,68,481',\n '234,Gowron,67,70',\n '235,Deanna,49,22',\n '236,Elim,68,8',\n '237,Brunt,62,442',\n '238,Nerys,61,469',\n '239,Deanna,25,305',\n '240,Nog,48,345',\n '241,Deanna,46,154',\n '242,Nancy,45,502',\n '243,Data,25,101',\n '244,Martok,61,68',\n '245,Dukat,21,471',\n '246,Shubham,28,174',\n '247,Leeta,41,260',\n '248,Ezri,52,508',\n '249,Dukat,21,138',\n '250,Nerys,66,41',\n '251,Goyal,36,342',\n '252,Rom,55,68',\n '253,Tushar,36,174',\n '254,Leeta,69,116',\n '255,Ezri,67,79',\n '256,Deanna,60,324',\n '268,Worf,32,412',\n '258,Data,51,161',\n '259,Worf,68,217',\n '260,Kasidy,29,11',\n '261,Brunt,38,96',\n '262,Jadzia,40,172',\n '263,Tushar,51,504',\n '264,Martok,40,50',\n '265,Julian,29,228',\n '266,Gowron,26,471',\n '267,Shubham,66,496',\n '2680,Dukat,49,106',\n '269,Ezri,26,298',\n '260,Beverly,55,289',\n '261,Data,44,353',\n '262,Morn,25,446',\n '263,Nancy,29,367',\n '264,Data,51,493',\n '265,Julian,64,244',\n '266,Tushar,47,13',\n '267,Dukat,54,462',\n '2680,Goyal,46,300',\n '269,Data,44,499',\n '280,Beverly,23,150',\n '281,Nerys,26,492',\n '282,Worf,21,89',\n '283,Geordi,32,404',\n '284,Dukat,65,443',\n '285,Nog,26,269',\n '286,Data,43,101',\n '287,Lwaxana,30,384',\n '288,Beverly,64,396',\n '289,Goyal,56,354',\n '290,Ezri,30,221',\n '291,Beverly,62,290',\n '292,Dukat,23,373',\n '293,Nog,63,380',\n '294,Deanna,23,65',\n '295,Leeta,38,410',\n '296,Nerys,40,56',\n '297,Data,38,454',\n '298,Ben,45,395',\n '299,Guinan,68,207',\n '300,Rom,68,311',\n '301,Beverly,49,147',\n '302,Walkman,28,108',\n '303,Beverly,37,263',\n '304,Deanna,46,319',\n '305,Tushar,19,404',\n '306,Nancy,29,182',\n '307,Beverly,23,323',\n '308,Keiko,41,340',\n '309,Morn,45,59',\n '310,Geordi,67,153',\n '311,Odo,68,189',\n '312,Martok,43,48',\n '313,Jadzia,61,421',\n '314,Dukat,59,169',\n '315,Geordi,36,168',\n '316,Walkman,25,208',\n '317,Goyal,64,391',\n '318,Guinan,59,439',\n '319,Deanna,35,251',\n '320,Leeta,30,476',\n '321,Worf,62,450',\n '322,Data,44,61',\n '323,Rom,58,92',\n '324,Nog,29,236',\n '325,Miles,56,343',\n '326,Keiko,51,492',\n '326,Beverly,46,407',\n '328,Julian,20,63',\n '329,Deanna,62,41',\n '500,Dukat,67,35',\n '501,Ezri,50,356',\n '502,Martok,30,17',\n '503,Julian,55,362',\n '504,Ben,29,207',\n '505,Leeta,40,7',\n '506,Odo,26,507',\n '507,Gowron,47,4',\n '508,Miles,58,10',\n '509,Tushar,28,180',\n '340,Morn,66,305',\n '341,Nerys,68,265',\n '342,Data,18,326',\n '343,Guinan,46,151',\n '344,Odo,26,254',\n '345,Data,30,487',\n '346,Ezri,31,394',\n '347,Goyal,29,329',\n '348,Geordi,32,24',\n '349,Walkman,50,460',\n '350,Kasidy,20,267',\n '351,Nog,55,464',\n '352,Keiko,54,72',\n '353,Deanna,26,53',\n '354,Julian,64,499',\n '355,Kasidy,69,15',\n '356,Keiko,46,352',\n '368,Walkman,67,149',\n '358,Brunt,26,7',\n '359,Tushar,52,266',\n '360,Nog,54,442',\n '361,Nerys,39,68',\n '362,Worf,68,206',\n '363,Ezri,39,120',\n '364,Dukat,41,397',\n '365,Lwaxana,54,115',\n '366,Brunt,65,430',\n '367,Keiko,19,119',\n '368,Data,39,106',\n '369,Elim,26,383',\n '370,Nancy,48,266',\n '371,Jadzia,53,86',\n '372,Guinan,31,435',\n '373,Brunt,62,263',\n '374,Nancy,19,262',\n '375,Nog,68,293',\n '376,Goyal,66,201',\n '377,Gowron,23,392',\n '378,Beverly,18,418',\n '379,Guinan,47,97',\n '380,Data,60,304',\n '381,Brunt,35,65',\n '382,Nog,38,95',\n '383,Worf,66,240',\n '384,Data,69,148',\n '385,Martok,67,355',\n '386,Beverly,68,436',\n '387,Data,35,428',\n '388,Tushar,43,505',\n '389,Nog,30,184',\n '390,Walkman,38,38',\n '391,Martok,22,266',\n '392,Ben,64,309',\n '393,Data,64,343',\n '394,Nancy,50,436',\n '395,Keiko,23,230',\n '396,Shubham,56,15',\n '397,Keiko,67,38',\n '398,Nancy,69,470',\n '399,Lwaxana,26,124',\n '400,Beverly,24,401',\n '401,Data,29,128',\n '402,Shubham,42,467',\n '403,Goyal,58,98',\n '404,Walkman,21,224',\n '405,Kasidy,18,24',\n '406,Nog,56,371',\n '407,Ben,68,121',\n '408,Miles,36,68',\n '409,Dukat,62,496',\n '410,Nog,19,267',\n '411,Odo,35,299',\n '412,Lwaxana,58,22',\n '413,Jadzia,53,451',\n '414,Goyal,45,147',\n '415,Martok,56,313',\n '416,Nancy,30,65',\n '417,Nerys,50,294',\n '418,Julian,37,106',\n '419,Guinan,32,212',\n '420,Kasidy,55,176',\n '421,Jadzia,26,391',\n '422,Tushar,40,261',\n '423,Ben,67,292',\n '424,Tushar,44,388',\n '425,Keiko,55,470',\n '426,Nancy,50,243',\n '426,Worf,24,77',\n '428,Brunt,28,258',\n '429,Lwaxana,68,423',\n '430,Shubham,63,345',\n '431,Geordi,36,493',\n '432,Nancy,36,343',\n '450,Brunt,45,54',\n '434,Ezri,38,203',\n '435,Deanna,68,289',\n '436,Guinan,42,265',\n '437,Geordi,68,229',\n '438,Morn,59,221',\n '439,Nog,42,95',\n '440,Data,18,417',\n '441,Elim,48,394',\n '442,Jadzia,38,143',\n '443,Nog,46,105',\n '444,Geordi,64,175',\n '445,Keiko,18,472',\n '446,Guinan,40,286',\n '447,Nancy,32,41',\n '448,Julian,38,34',\n '449,Nerys,48,439',\n '450,Data,52,419',\n '451,Walkman,37,234',\n '452,Martok,28,34',\n '453,Ezri,58,6',\n '454,Julian,44,507',\n '455,Walkman,52,456',\n '456,Elim,50,463',\n '468,Ezri,37,471',\n '458,Worf,51,81',\n '459,Elim,44,505',\n '460,Geordi,26,84',\n '461,Goyal,47,400',\n '462,Geordi,41,236',\n '463,Nerys,23,287',\n '464,Keiko,40,200',\n '465,Beverly,25,485',\n '466,Morn,53,126',\n '467,Brunt,50,228',\n '468,Walkman,42,194',\n '469,Ezri,46,226',\n '470,Brunt,55,261',\n '471,Deanna,38,160',\n '472,Brunt,52,263',\n '473,Nog,26,154',\n '474,Morn,35,38',\n '475,Keiko,34,48',\n '476,Ben,52,446',\n '477,Shubham,28,378',\n '478,Gowron,50,119',\n '479,Dukat,41,62',\n '480,Kasidy,44,320',\n '481,Geordi,43,428',\n '482,Elim,32,97',\n '483,Ben,48,146',\n '484,Goyal,68,99',\n '485,Leeta,22,478',\n '486,Rom,47,356',\n '487,Elim,49,17',\n '488,Brunt,69,431',\n '489,Nog,61,103',\n '490,Odo,50,410',\n '491,Nerys,65,101',\n '492,Rom,60,2',\n '493,Dukat,19,36',\n '494,Goyal,23,368',\n '495,Kasidy,18,194',\n '496,Data,46,155',\n '497,Gowron,39,265',\n '498,Lwaxana,34,423',\n '499,Jadzia,62,36',\n '500,Leeta,62,12']"
     ]
    }
   ],
   "source": [
    "rdd3.collect()"
   ]
  },
  {
   "cell_type": "code",
   "execution_count": 0,
   "metadata": {
    "application/vnd.databricks.v1+cell": {
     "cellMetadata": {
      "byteLimit": 2048000,
      "rowLimit": 10000
     },
     "inputWidgets": {},
     "nuid": "57f064ab-a1fe-4638-82ab-1745d330c3cd",
     "showTitle": false,
     "title": ""
    }
   },
   "outputs": [],
   "source": [
    "def splitData(line):\n",
    "    mylist= line.split(\",\")\n",
    "    #typecasting \n",
    "    cid=mylist[0]\n",
    "    name=mylist[1]\n",
    "    age =int(mylist[2])\n",
    "    friend = mylist[3]\n",
    "   \n",
    "    return (age , friend)"
   ]
  },
  {
   "cell_type": "code",
   "execution_count": 0,
   "metadata": {
    "application/vnd.databricks.v1+cell": {
     "cellMetadata": {
      "byteLimit": 2048000,
      "rowLimit": 10000
     },
     "inputWidgets": {},
     "nuid": "2b417214-ad0d-4088-9a65-503e873c407e",
     "showTitle": false,
     "title": ""
    }
   },
   "outputs": [
    {
     "output_type": "stream",
     "name": "stdout",
     "output_type": "stream",
     "text": [
      "Out[13]: [(50, '1385'), (26, '2')]"
     ]
    }
   ],
   "source": [
    "rdd3.map(splitData).take(2)"
   ]
  },
  {
   "cell_type": "code",
   "execution_count": 0,
   "metadata": {
    "application/vnd.databricks.v1+cell": {
     "cellMetadata": {
      "byteLimit": 2048000,
      "rowLimit": 10000
     },
     "inputWidgets": {},
     "nuid": "0be6e623-276b-4a02-bc67-0ad722f9bec5",
     "showTitle": false,
     "title": ""
    }
   },
   "outputs": [
    {
     "output_type": "stream",
     "name": "stdout",
     "output_type": "stream",
     "text": [
      "Out[15]: [(50, '1385'),\n (26, '2'),\n (55, '221'),\n (40, '465'),\n (68, '21'),\n (59, '318'),\n (37, '200'),\n (54, '307'),\n (38, '380'),\n (26, '181')]"
     ]
    }
   ],
   "source": [
    "rdd3.map(splitData).take(10)"
   ]
  },
  {
   "cell_type": "code",
   "execution_count": 0,
   "metadata": {
    "application/vnd.databricks.v1+cell": {
     "cellMetadata": {
      "byteLimit": 2048000,
      "rowLimit": 10000
     },
     "inputWidgets": {},
     "nuid": "f073365c-e7f0-4132-8b37-d0db261d1ed4",
     "showTitle": false,
     "title": ""
    }
   },
   "outputs": [
    {
     "output_type": "stream",
     "name": "stdout",
     "output_type": "stream",
     "text": [
      "Out[17]: [(50, '138517574471417265126245356460436294243463228119410'),\n (26, '21812813058428238114517434515029347129849226950725453738312439184154'),\n (40, '4652544594071828438934940619817250567261286200'),\n (68, '21372294465264112490481821720731118926520629343612142328922999'),\n (54, '30725375440744123536939746272442115'),\n (38, '38045921737618096410454953820314334160'),\n (56, '44435434315371313'),\n (36, '4921219342434217416868493343'),\n (22, '323100179936266478'),\n (60, '2461242941253243042'),\n (30, '722041083763842214761748718465'),\n (42, '36342646726595194'),\n (48, '36413568287381345266394439146'),\n (32, '81308142384182412404242124197'),\n (58, '2134554348174112921098226'),\n (64, '65419137234164244396391499309343175'),\n (52, '41377169393487508266419456263446'),\n (24, '4949215040177'),\n (20, '110038463267'),\n (62, '3144220115023442290450412634963612'),\n (44, '1941783608426735349961388507505320'),\n (28, '3113043231217410818025834378'),\n (66, '38318828435041496305201240'),\n (46, '8863462125154300319407151352105226155'),\n (18, '49939732641824417472194'),\n (34, '22131911634648423'),\n (55, '22126831320447428468289362464176470261'),\n (59, '3181582845051442169439221'),\n (37, '20046426261207263106234471'),\n (53, '1911974179286451126'),\n (43, '4924940410148505428'),\n (35, '132443552516542829938'),\n (45, '4551844004392523404704975023955914754'),\n (67, '20016744512335043820431670791533514935538292'),\n (19, '2680269526550510640411926226736'),\n (51, '26128316150449349281'),\n (25, '1962502641310305101446208485'),\n (21, '44547747249147113889224'),\n (49, '4763402210614717'),\n (39, '16124820768120106265'),\n (31, '19215481340172109394435'),\n (41, '268024420639426034039723662'),\n (69, '93614917523611615148470431'),\n (65, '208309443430101'),\n (61, '50746023737346968421103'),\n (29, '17334412626011228367182236207329128'),\n (47, '4298748822513497400356'),\n (63, '342469380345'),\n (23, '12917415037365323392230287368')]"
     ]
    }
   ],
   "source": [
    "#reducebykey\n",
    "\n",
    "newrdd = rdd3.map(splitData )\n",
    "\n",
    "newrdd.reduceByKey(lambda x,y : x+y).collect()"
   ]
  },
  {
   "cell_type": "code",
   "execution_count": 0,
   "metadata": {
    "application/vnd.databricks.v1+cell": {
     "cellMetadata": {
      "byteLimit": 2048000,
      "rowLimit": 10000
     },
     "inputWidgets": {},
     "nuid": "f1e45c42-d51d-45e6-a79e-ac3a2ef80fe5",
     "showTitle": false,
     "title": ""
    }
   },
   "outputs": [
    {
     "output_type": "stream",
     "name": "stdout",
     "output_type": "stream",
     "text": [
      "Out[24]: [((50, '1385'), 1),\n ((26, '2'), 1),\n ((55, '221'), 1),\n ((40, '465'), 1),\n ((68, '21'), 1),\n ((59, '318'), 1),\n ((37, '200'), 1),\n ((54, '307'), 1),\n ((38, '380'), 1),\n ((26, '181'), 1)]"
     ]
    }
   ],
   "source": [
    "rdd3.map(splitData).map(lambda x: (x,1)).take(10)"
   ]
  },
  {
   "cell_type": "code",
   "execution_count": 0,
   "metadata": {
    "application/vnd.databricks.v1+cell": {
     "cellMetadata": {
      "byteLimit": 2048000,
      "rowLimit": 10000
     },
     "inputWidgets": {},
     "nuid": "774d8169-b7b7-43c5-8904-5c5662cdc914",
     "showTitle": false,
     "title": ""
    }
   },
   "outputs": [
    {
     "output_type": "stream",
     "name": "stdout",
     "output_type": "stream",
     "text": [
      "Out[34]: [((50, '1385'), 1),\n ((26, '2'), 1),\n ((55, '221'), 1),\n ((40, '465'), 1),\n ((68, '21'), 1),\n ((59, '318'), 1),\n ((37, '200'), 1),\n ((54, '307'), 1),\n ((38, '380'), 1),\n ((26, '181'), 1),\n ((53, '191'), 1),\n ((68, '372'), 1),\n ((54, '253'), 1),\n ((56, '444'), 1),\n ((43, '49'), 1),\n ((36, '49'), 1),\n ((22, '323'), 1),\n ((35, '13'), 1),\n ((45, '455'), 1),\n ((60, '246'), 1),\n ((67, '200'), 1),\n ((19, '2680'), 1),\n ((30, '72'), 1),\n ((51, '261'), 1),\n ((25, '1'), 1),\n ((21, '445'), 1),\n ((22, '100'), 1),\n ((42, '363'), 1),\n ((49, '476'), 1),\n ((48, '364'), 1),\n ((50, '175'), 1),\n ((39, '161'), 1),\n ((26, '281'), 1),\n ((53, '197'), 1),\n ((43, '249'), 1),\n ((26, '305'), 1),\n ((32, '81'), 1),\n ((58, '21'), 1),\n ((64, '65'), 1),\n ((31, '192'), 1),\n ((52, '413'), 1),\n ((67, '167'), 1),\n ((54, '75'), 1),\n ((58, '345'), 1),\n ((35, '244'), 1),\n ((52, '77'), 1),\n ((25, '96'), 1),\n ((24, '49'), 1),\n ((20, '1'), 1),\n ((40, '254'), 1),\n ((51, '283'), 1),\n ((36, '212'), 1),\n ((19, '269'), 1),\n ((62, '31'), 1),\n ((19, '5'), 1),\n ((41, '2680'), 1),\n ((44, '194'), 1),\n ((68, '294'), 1),\n ((59, '158'), 1),\n ((59, '284'), 1),\n ((20, '100'), 1),\n ((62, '442'), 1),\n ((69, '9'), 1),\n ((58, '54'), 1),\n ((31, '15'), 1),\n ((52, '169'), 1),\n ((21, '477'), 1),\n ((48, '135'), 1),\n ((50, '74'), 1),\n ((30, '204'), 1),\n ((52, '393'), 1),\n ((45, '184'), 1),\n ((22, '179'), 1),\n ((20, '384'), 1),\n ((65, '208'), 1),\n ((40, '459'), 1),\n ((62, '201'), 1),\n ((40, '407'), 1),\n ((61, '507'), 1),\n ((58, '348'), 1),\n ((67, '445'), 1),\n ((54, '440'), 1),\n ((68, '465'), 1),\n ((32, '308'), 1),\n ((28, '311'), 1),\n ((66, '383'), 1),\n ((55, '268'), 1),\n ((31, '481'), 1),\n ((66, '188'), 1),\n ((24, '492'), 1),\n ((50, '471'), 1),\n ((46, '88'), 1),\n ((54, '7'), 1),\n ((46, '63'), 1),\n ((62, '150'), 1),\n ((29, '173'), 1),\n ((25, '250'), 1),\n ((69, '361'), 1),\n ((44, '178'), 1),\n ((69, '491'), 1),\n ((61, '460'), 1),\n ((67, '123'), 1),\n ((40, '18'), 1),\n ((61, '2'), 1),\n ((32, '142'), 1),\n ((50, '417'), 1),\n ((18, '499'), 1),\n ((64, '419'), 1),\n ((25, '264'), 1),\n ((53, '417'), 1),\n ((64, '137'), 1),\n ((37, '46'), 1),\n ((25, '13'), 1),\n ((41, '244'), 1),\n ((50, '265'), 1),\n ((18, '397'), 1),\n ((69, '75'), 1),\n ((52, '487'), 1),\n ((28, '304'), 1),\n ((29, '344'), 1),\n ((68, '264'), 1),\n ((35, '355'), 1),\n ((45, '400'), 1),\n ((45, '439'), 1),\n ((47, '429'), 1),\n ((66, '284'), 1),\n ((26, '84'), 1),\n ((40, '284'), 1),\n ((34, '221'), 1),\n ((45, '252'), 1),\n ((67, '350'), 1),\n ((65, '309'), 1),\n ((46, '462'), 1),\n ((19, '265'), 1),\n ((45, '340'), 1),\n ((42, '426'), 1),\n ((19, '505'), 1),\n ((28, '32'), 1),\n ((32, '384'), 1),\n ((36, '193'), 1),\n ((64, '234'), 1),\n ((36, '424'), 1),\n ((59, '505'), 1),\n ((60, '124'), 1),\n ((22, '93'), 1),\n ((45, '470'), 1),\n ((58, '174'), 1),\n ((61, '373'), 1),\n ((39, '248'), 1),\n ((49, '340'), 1),\n ((55, '313'), 1),\n ((54, '441'), 1),\n ((54, '235'), 1),\n ((63, '342'), 1),\n ((40, '389'), 1),\n ((50, '126'), 1),\n ((44, '360'), 1),\n ((34, '319'), 1),\n ((31, '340'), 1),\n ((67, '438'), 1),\n ((58, '112'), 1),\n ((39, '207'), 1),\n ((59, '14'), 1),\n ((67, '204'), 1),\n ((31, '172'), 1),\n ((26, '282'), 1),\n ((25, '10'), 1),\n ((48, '68'), 1),\n ((68, '112'), 1),\n ((53, '92'), 1),\n ((68, '490'), 1),\n ((29, '126'), 1),\n ((55, '204'), 1),\n ((23, '129'), 1),\n ((47, '87'), 1),\n ((38, '459'), 1),\n ((55, '474'), 1),\n ((67, '316'), 1),\n ((26, '381'), 1),\n ((37, '426'), 1),\n ((30, '108'), 1),\n ((43, '404'), 1),\n ((26, '145'), 1),\n ((47, '488'), 1),\n ((44, '84'), 1),\n ((48, '287'), 1),\n ((31, '109'), 1),\n ((47, '225'), 1),\n ((54, '369'), 1),\n ((62, '23'), 1),\n ((60, '294'), 1),\n ((40, '349'), 1),\n ((45, '497'), 1),\n ((60, '125'), 1),\n ((38, '2'), 1),\n ((30, '376'), 1),\n ((38, '173'), 1),\n ((38, '76'), 1),\n ((48, '381'), 1),\n ((38, '180'), 1),\n ((21, '472'), 1),\n ((23, '174'), 1),\n ((63, '469'), 1),\n ((46, '125'), 1),\n ((64, '164'), 1),\n ((69, '236'), 1),\n ((21, '491'), 1),\n ((41, '206'), 1),\n ((37, '261'), 1),\n ((26, '174'), 1),\n ((50, '245'), 1),\n ((61, '73'), 1),\n ((55, '284'), 1),\n ((28, '312'), 1),\n ((32, '182'), 1),\n ((22, '6'), 1),\n ((34, '116'), 1),\n ((29, '260'), 1),\n ((66, '350'), 1),\n ((26, '345'), 1),\n ((41, '394'), 1),\n ((26, '150'), 1),\n ((34, '346'), 1),\n ((40, '406'), 1),\n ((44, '267'), 1),\n ((19, '106'), 1),\n ((37, '207'), 1),\n ((40, '198'), 1),\n ((26, '293'), 1),\n ((24, '150'), 1),\n ((54, '397'), 1),\n ((59, '42'), 1),\n ((68, '481'), 1),\n ((67, '70'), 1),\n ((49, '22'), 1),\n ((68, '8'), 1),\n ((62, '442'), 1),\n ((61, '469'), 1),\n ((25, '305'), 1),\n ((48, '345'), 1),\n ((46, '154'), 1),\n ((45, '502'), 1),\n ((25, '101'), 1),\n ((61, '68'), 1),\n ((21, '471'), 1),\n ((28, '174'), 1),\n ((41, '260'), 1),\n ((52, '508'), 1),\n ((21, '138'), 1),\n ((66, '41'), 1),\n ((36, '342'), 1),\n ((55, '68'), 1),\n ((36, '174'), 1),\n ((69, '116'), 1),\n ((67, '79'), 1),\n ((60, '324'), 1),\n ((32, '412'), 1),\n ((51, '161'), 1),\n ((68, '217'), 1),\n ((29, '11'), 1),\n ((38, '96'), 1),\n ((40, '172'), 1),\n ((51, '504'), 1),\n ((40, '50'), 1),\n ((29, '228'), 1),\n ((26, '471'), 1),\n ((66, '496'), 1),\n ((49, '106'), 1),\n ((26, '298'), 1),\n ((55, '289'), 1),\n ((44, '353'), 1),\n ((25, '446'), 1),\n ((29, '367'), 1),\n ((51, '493'), 1),\n ((64, '244'), 1),\n ((47, '13'), 1),\n ((54, '462'), 1),\n ((46, '300'), 1),\n ((44, '499'), 1),\n ((23, '150'), 1),\n ((26, '492'), 1),\n ((21, '89'), 1),\n ((32, '404'), 1),\n ((65, '443'), 1),\n ((26, '269'), 1),\n ((43, '101'), 1),\n ((30, '384'), 1),\n ((64, '396'), 1),\n ((56, '354'), 1),\n ((30, '221'), 1),\n ((62, '290'), 1),\n ((23, '373'), 1),\n ((63, '380'), 1),\n ((23, '65'), 1),\n ((38, '410'), 1),\n ((40, '56'), 1),\n ((38, '454'), 1),\n ((45, '395'), 1),\n ((68, '207'), 1),\n ((68, '311'), 1),\n ((49, '147'), 1),\n ((28, '108'), 1),\n ((37, '263'), 1),\n ((46, '319'), 1),\n ((19, '404'), 1),\n ((29, '182'), 1),\n ((23, '323'), 1),\n ((41, '340'), 1),\n ((45, '59'), 1),\n ((67, '153'), 1),\n ((68, '189'), 1),\n ((43, '48'), 1),\n ((61, '421'), 1),\n ((59, '169'), 1),\n ((36, '168'), 1),\n ((25, '208'), 1),\n ((64, '391'), 1),\n ((59, '439'), 1),\n ((35, '251'), 1),\n ((30, '476'), 1),\n ((62, '450'), 1),\n ((44, '61'), 1),\n ((58, '92'), 1),\n ((29, '236'), 1),\n ((56, '343'), 1),\n ((51, '492'), 1),\n ((46, '407'), 1),\n ((20, '63'), 1),\n ((62, '41'), 1),\n ((67, '35'), 1),\n ((50, '356'), 1),\n ((30, '17'), 1),\n ((55, '362'), 1),\n ((29, '207'), 1),\n ((40, '7'), 1),\n ((26, '507'), 1),\n ((47, '4'), 1),\n ((58, '10'), 1),\n ((28, '180'), 1),\n ((66, '305'), 1),\n ((68, '265'), 1),\n ((18, '326'), 1),\n ((46, '151'), 1),\n ((26, '254'), 1),\n ((30, '487'), 1),\n ((31, '394'), 1),\n ((29, '329'), 1),\n ((32, '24'), 1),\n ((50, '460'), 1),\n ((20, '267'), 1),\n ((55, '464'), 1),\n ((54, '72'), 1),\n ((26, '53'), 1),\n ((64, '499'), 1),\n ((69, '15'), 1),\n ((46, '352'), 1),\n ((67, '149'), 1),\n ((26, '7'), 1),\n ((52, '266'), 1),\n ((54, '442'), 1),\n ((39, '68'), 1),\n ((68, '206'), 1),\n ((39, '120'), 1),\n ((41, '397'), 1),\n ((54, '115'), 1),\n ((65, '430'), 1),\n ((19, '119'), 1),\n ((39, '106'), 1),\n ((26, '383'), 1),\n ((48, '266'), 1),\n ((53, '86'), 1),\n ((31, '435'), 1),\n ((62, '263'), 1),\n ((19, '262'), 1),\n ((68, '293'), 1),\n ((66, '201'), 1),\n ((23, '392'), 1),\n ((18, '418'), 1),\n ((47, '97'), 1),\n ((60, '304'), 1),\n ((35, '65'), 1),\n ((38, '95'), 1),\n ((66, '240'), 1),\n ((69, '148'), 1),\n ((67, '355'), 1),\n ((68, '436'), 1),\n ((35, '428'), 1),\n ((43, '505'), 1),\n ((30, '184'), 1),\n ((38, '38'), 1),\n ((22, '266'), 1),\n ((64, '309'), 1),\n ((64, '343'), 1),\n ((50, '436'), 1),\n ((23, '230'), 1),\n ((56, '15'), 1),\n ((67, '38'), 1),\n ((69, '470'), 1),\n ((26, '124'), 1),\n ((24, '401'), 1),\n ((29, '128'), 1),\n ((42, '467'), 1),\n ((58, '98'), 1),\n ((21, '224'), 1),\n ((18, '24'), 1),\n ((56, '371'), 1),\n ((68, '121'), 1),\n ((36, '68'), 1),\n ((62, '496'), 1),\n ((19, '267'), 1),\n ((35, '299'), 1),\n ((58, '22'), 1),\n ((53, '451'), 1),\n ((45, '147'), 1),\n ((56, '313'), 1),\n ((30, '65'), 1),\n ((50, '294'), 1),\n ((37, '106'), 1),\n ((32, '212'), 1),\n ((55, '176'), 1),\n ((26, '391'), 1),\n ((40, '261'), 1),\n ((67, '292'), 1),\n ((44, '388'), 1),\n ((55, '470'), 1),\n ((50, '243'), 1),\n ((24, '77'), 1),\n ((28, '258'), 1),\n ((68, '423'), 1),\n ((63, '345'), 1),\n ((36, '493'), 1),\n ((36, '343'), 1),\n ((45, '54'), 1),\n ((38, '203'), 1),\n ((68, '289'), 1),\n ((42, '265'), 1),\n ((68, '229'), 1),\n ((59, '221'), 1),\n ((42, '95'), 1),\n ((18, '417'), 1),\n ((48, '394'), 1),\n ((38, '143'), 1),\n ((46, '105'), 1),\n ((64, '175'), 1),\n ((18, '472'), 1),\n ((40, '286'), 1),\n ((32, '41'), 1),\n ((38, '34'), 1),\n ((48, '439'), 1),\n ((52, '419'), 1),\n ((37, '234'), 1),\n ((28, '34'), 1),\n ((58, '6'), 1),\n ((44, '507'), 1),\n ((52, '456'), 1),\n ((50, '463'), 1),\n ((37, '471'), 1),\n ((51, '81'), 1),\n ((44, '505'), 1),\n ((26, '84'), 1),\n ((47, '400'), 1),\n ((41, '236'), 1),\n ((23, '287'), 1),\n ((40, '200'), 1),\n ((25, '485'), 1),\n ((53, '126'), 1),\n ((50, '228'), 1),\n ((42, '194'), 1),\n ((46, '226'), 1),\n ((55, '261'), 1),\n ((38, '160'), 1),\n ((52, '263'), 1),\n ((26, '154'), 1),\n ((35, '38'), 1),\n ((34, '48'), 1),\n ((52, '446'), 1),\n ((28, '378'), 1),\n ((50, '119'), 1),\n ((41, '62'), 1),\n ((44, '320'), 1),\n ((43, '428'), 1),\n ((32, '97'), 1),\n ((48, '146'), 1),\n ((68, '99'), 1),\n ((22, '478'), 1),\n ((47, '356'), 1),\n ((49, '17'), 1),\n ((69, '431'), 1),\n ((61, '103'), 1),\n ((50, '410'), 1),\n ((65, '101'), 1),\n ((60, '2'), 1),\n ((19, '36'), 1),\n ((23, '368'), 1),\n ((18, '194'), 1),\n ((46, '155'), 1),\n ((39, '265'), 1),\n ((34, '423'), 1),\n ((62, '36'), 1),\n ((62, '12'), 1)]"
     ]
    }
   ],
   "source": [
    "keyrdd = rdd3.map(splitData).map(lambda x: (x,1))\n",
    "keyrdd.collect()\n",
    "\n"
   ]
  },
  {
   "cell_type": "code",
   "execution_count": 0,
   "metadata": {
    "application/vnd.databricks.v1+cell": {
     "cellMetadata": {
      "byteLimit": 2048000,
      "rowLimit": 10000
     },
     "inputWidgets": {},
     "nuid": "c8446c2e-3157-4998-a5f2-a1b9a3974fb5",
     "showTitle": false,
     "title": ""
    }
   },
   "outputs": [
    {
     "output_type": "display_data",
     "data": {
      "text/plain": [
       "\u001B[0;31m---------------------------------------------------------------------------\u001B[0m\n",
       "\u001B[0;31mNameError\u001B[0m                                 Traceback (most recent call last)\n",
       "File \u001B[0;32m<command-3015325122668305>:3\u001B[0m\n",
       "\u001B[1;32m      1\u001B[0m \u001B[38;5;66;03m#reduebykey\u001B[39;00m\n",
       "\u001B[0;32m----> 3\u001B[0m keyrdd\u001B[38;5;241m.\u001B[39mreduceByKey(\u001B[38;5;28;01mlambda\u001B[39;00m x,y: x[\u001B[38;5;241m0\u001B[39m]\u001B[38;5;241m+\u001B[39my[\u001B[38;5;241m0\u001B[39m], \u001B[43mx\u001B[49m[\u001B[38;5;241m1\u001B[39m]\u001B[38;5;241m+\u001B[39my[\u001B[38;5;241m1\u001B[39m])\u001B[38;5;241m.\u001B[39mcollect()\n",
       "\n",
       "\u001B[0;31mNameError\u001B[0m: name 'x' is not defined"
      ]
     },
     "metadata": {
      "application/vnd.databricks.v1+output": {
       "arguments": {},
       "data": "\u001B[0;31m---------------------------------------------------------------------------\u001B[0m\n\u001B[0;31mNameError\u001B[0m                                 Traceback (most recent call last)\nFile \u001B[0;32m<command-3015325122668305>:3\u001B[0m\n\u001B[1;32m      1\u001B[0m \u001B[38;5;66;03m#reduebykey\u001B[39;00m\n\u001B[0;32m----> 3\u001B[0m keyrdd\u001B[38;5;241m.\u001B[39mreduceByKey(\u001B[38;5;28;01mlambda\u001B[39;00m x,y: x[\u001B[38;5;241m0\u001B[39m]\u001B[38;5;241m+\u001B[39my[\u001B[38;5;241m0\u001B[39m], \u001B[43mx\u001B[49m[\u001B[38;5;241m1\u001B[39m]\u001B[38;5;241m+\u001B[39my[\u001B[38;5;241m1\u001B[39m])\u001B[38;5;241m.\u001B[39mcollect()\n\n\u001B[0;31mNameError\u001B[0m: name 'x' is not defined",
       "errorSummary": "<span class='ansi-red-fg'>NameError</span>: name 'x' is not defined",
       "errorTraceType": "ansi",
       "metadata": {},
       "type": "ipynbError"
      }
     },
     "output_type": "display_data"
    }
   ],
   "source": [
    "#reduebykey\n",
    "\n",
    "keyrdd.reduceByKey(lambda x,y: x[0]+y[0], x[1]+y[1]).collect()\n",
    "\n"
   ]
  },
  {
   "cell_type": "code",
   "execution_count": 0,
   "metadata": {
    "application/vnd.databricks.v1+cell": {
     "cellMetadata": {
      "byteLimit": 2048000,
      "rowLimit": 10000
     },
     "inputWidgets": {},
     "nuid": "d8fe4d73-3ce1-4684-9ee2-7f066c722dd3",
     "showTitle": false,
     "title": ""
    }
   },
   "outputs": [
    {
     "output_type": "stream",
     "name": "stdout",
     "output_type": "stream",
     "text": [
      "Unexpected exception formatting exception. Falling back to standard exception\n"
     ]
    },
    {
     "output_type": "stream",
     "name": "stderr",
     "output_type": "stream",
     "text": [
      "Traceback (most recent call last):\n  File \"/databricks/python/lib/python3.9/site-packages/IPython/core/interactiveshell.py\", line 3378, in run_code\n    exec(code_obj, self.user_global_ns, self.user_ns)\n  File \"<command-3015325122668306>\", line 2, in <module>\n    average_rdd.collect()\n  File \"/databricks/spark/python/pyspark/instrumentation_utils.py\", line 48, in wrapper\n    res = func(*args, **kwargs)\n  File \"/databricks/spark/python/pyspark/rdd.py\", line 1825, in collect\n    sock_info = self.ctx._jvm.PythonRDD.collectAndServe(self._jrdd.rdd())\n  File \"/databricks/spark/python/lib/py4j-0.10.9.5-src.zip/py4j/java_gateway.py\", line 1321, in __call__\n    return_value = get_return_value(\n  File \"/databricks/spark/python/pyspark/errors/exceptions.py\", line 228, in deco\n    return f(*a, **kw)\n  File \"/databricks/spark/python/lib/py4j-0.10.9.5-src.zip/py4j/protocol.py\", line 326, in get_return_value\n    raise Py4JJavaError(\npy4j.protocol.Py4JJavaError: An error occurred while calling z:org.apache.spark.api.python.PythonRDD.collectAndServe.\n: org.apache.spark.SparkException: Job aborted due to stage failure: Task 0 in stage 24.0 failed 1 times, most recent failure: Lost task 0.0 in stage 24.0 (TID 37) (ip-10-172-220-181.us-west-2.compute.internal executor driver): org.apache.spark.api.python.PythonException: 'TypeError: 'int' object is not subscriptable', from <command-3015325122668306>, line 1. Full traceback below:\nTraceback (most recent call last):\n  File \"/databricks/spark/python/pyspark/worker.py\", line 1037, in main\n    process()\n  File \"/databricks/spark/python/pyspark/worker.py\", line 1029, in process\n    serializer.dump_stream(out_iter, outfile)\n  File \"/databricks/spark/python/pyspark/serializers.py\", line 325, in dump_stream\n    vs = list(itertools.islice(iterator, batch))\n  File \"/databricks/spark/python/pyspark/util.py\", line 84, in wrapper\n    return f(*args, **kwargs)\n  File \"<command-3015325122668306>\", line 1, in <lambda>\nTypeError: 'int' object is not subscriptable\n\n\tat org.apache.spark.api.python.BasePythonRunner$ReaderIterator.handlePythonException(PythonRunner.scala:685)\n\tat org.apache.spark.api.python.PythonRunner$$anon$3.read(PythonRunner.scala:894)\n\tat org.apache.spark.api.python.PythonRunner$$anon$3.read(PythonRunner.scala:876)\n\tat org.apache.spark.api.python.BasePythonRunner$ReaderIterator.hasNext(PythonRunner.scala:638)\n\tat org.apache.spark.InterruptibleIterator.hasNext(InterruptibleIterator.scala:37)\n\tat scala.collection.Iterator.foreach(Iterator.scala:943)\n\tat scala.collection.Iterator.foreach$(Iterator.scala:943)\n\tat org.apache.spark.InterruptibleIterator.foreach(InterruptibleIterator.scala:28)\n\tat scala.collection.generic.Growable.$plus$plus$eq(Growable.scala:62)\n\tat scala.collection.generic.Growable.$plus$plus$eq$(Growable.scala:53)\n\tat scala.collection.mutable.ArrayBuffer.$plus$plus$eq(ArrayBuffer.scala:105)\n\tat scala.collection.mutable.ArrayBuffer.$plus$plus$eq(ArrayBuffer.scala:49)\n\tat scala.collection.TraversableOnce.to(TraversableOnce.scala:366)\n\tat scala.collection.TraversableOnce.to$(TraversableOnce.scala:364)\n\tat org.apache.spark.InterruptibleIterator.to(InterruptibleIterator.scala:28)\n\tat scala.collection.TraversableOnce.toBuffer(TraversableOnce.scala:358)\n\tat scala.collection.TraversableOnce.toBuffer$(TraversableOnce.scala:358)\n\tat org.apache.spark.InterruptibleIterator.toBuffer(InterruptibleIterator.scala:28)\n\tat scala.collection.TraversableOnce.toArray(TraversableOnce.scala:345)\n\tat scala.collection.TraversableOnce.toArray$(TraversableOnce.scala:339)\n\tat org.apache.spark.InterruptibleIterator.toArray(InterruptibleIterator.scala:28)\n\tat org.apache.spark.rdd.RDD.$anonfun$collect$2(RDD.scala:1072)\n\tat org.apache.spark.scheduler.ResultTask.$anonfun$runTask$3(ResultTask.scala:75)\n\tat com.databricks.spark.util.ExecutorFrameProfiler$.record(ExecutorFrameProfiler.scala:110)\n\tat org.apache.spark.scheduler.ResultTask.$anonfun$runTask$1(ResultTask.scala:75)\n\tat com.databricks.spark.util.ExecutorFrameProfiler$.record(ExecutorFrameProfiler.scala:110)\n\tat org.apache.spark.scheduler.ResultTask.runTask(ResultTask.scala:55)\n\tat org.apache.spark.scheduler.Task.doRunTask(Task.scala:179)\n\tat org.apache.spark.scheduler.Task.$anonfun$run$5(Task.scala:142)\n\tat com.databricks.unity.EmptyHandle$.runWithAndClose(UCSHandle.scala:126)\n\tat org.apache.spark.scheduler.Task.$anonfun$run$1(Task.scala:142)\n\tat com.databricks.spark.util.ExecutorFrameProfiler$.record(ExecutorFrameProfiler.scala:110)\n\tat org.apache.spark.scheduler.Task.run(Task.scala:97)\n\tat org.apache.spark.executor.Executor$TaskRunner.$anonfun$run$13(Executor.scala:904)\n\tat org.apache.spark.util.Utils$.tryWithSafeFinally(Utils.scala:1740)\n\tat org.apache.spark.executor.Executor$TaskRunner.$anonfun$run$4(Executor.scala:907)\n\tat scala.runtime.java8.JFunction0$mcV$sp.apply(JFunction0$mcV$sp.java:23)\n\tat com.databricks.spark.util.ExecutorFrameProfiler$.record(ExecutorFrameProfiler.scala:110)\n\tat org.apache.spark.executor.Executor$TaskRunner.run(Executor.scala:761)\n\tat java.util.concurrent.ThreadPoolExecutor.runWorker(ThreadPoolExecutor.java:1149)\n\tat java.util.concurrent.ThreadPoolExecutor$Worker.run(ThreadPoolExecutor.java:624)\n\tat java.lang.Thread.run(Thread.java:750)\n\nDriver stacktrace:\n\tat org.apache.spark.scheduler.DAGScheduler.failJobAndIndependentStages(DAGScheduler.scala:3424)\n\tat org.apache.spark.scheduler.DAGScheduler.$anonfun$abortStage$2(DAGScheduler.scala:3346)\n\tat org.apache.spark.scheduler.DAGScheduler.$anonfun$abortStage$2$adapted(DAGScheduler.scala:3335)\n\tat scala.collection.mutable.ResizableArray.foreach(ResizableArray.scala:62)\n\tat scala.collection.mutable.ResizableArray.foreach$(ResizableArray.scala:55)\n\tat scala.collection.mutable.ArrayBuffer.foreach(ArrayBuffer.scala:49)\n\tat org.apache.spark.scheduler.DAGScheduler.abortStage(DAGScheduler.scala:3335)\n\tat org.apache.spark.scheduler.DAGScheduler.$anonfun$handleTaskSetFailed$1(DAGScheduler.scala:1444)\n\tat org.apache.spark.scheduler.DAGScheduler.$anonfun$handleTaskSetFailed$1$adapted(DAGScheduler.scala:1444)\n\tat scala.Option.foreach(Option.scala:407)\n\tat org.apache.spark.scheduler.DAGScheduler.handleTaskSetFailed(DAGScheduler.scala:1444)\n\tat org.apache.spark.scheduler.DAGSchedulerEventProcessLoop.doOnReceive(DAGScheduler.scala:3635)\n\tat org.apache.spark.scheduler.DAGSchedulerEventProcessLoop.onReceive(DAGScheduler.scala:3573)\n\tat org.apache.spark.scheduler.DAGSchedulerEventProcessLoop.onReceive(DAGScheduler.scala:3561)\n\tat org.apache.spark.util.EventLoop$$anon$1.run(EventLoop.scala:51)\n\tat org.apache.spark.scheduler.DAGScheduler.$anonfun$runJob$1(DAGScheduler.scala:1193)\n\tat scala.runtime.java8.JFunction0$mcV$sp.apply(JFunction0$mcV$sp.java:23)\n\tat com.databricks.spark.util.FrameProfiler$.record(FrameProfiler.scala:80)\n\tat org.apache.spark.scheduler.DAGScheduler.runJob(DAGScheduler.scala:1181)\n\tat org.apache.spark.SparkContext.runJobInternal(SparkContext.scala:2750)\n\tat org.apache.spark.rdd.RDD.$anonfun$collect$1(RDD.scala:1070)\n\tat org.apache.spark.rdd.RDDOperationScope$.withScope(RDDOperationScope.scala:165)\n\tat org.apache.spark.rdd.RDDOperationScope$.withScope(RDDOperationScope.scala:125)\n\tat org.apache.spark.rdd.RDDOperationScope$.withScope(RDDOperationScope.scala:112)\n\tat org.apache.spark.rdd.RDD.withScope(RDD.scala:445)\n\tat org.apache.spark.rdd.RDD.collect(RDD.scala:1068)\n\tat org.apache.spark.api.python.PythonRDD$.collectAndServe(PythonRDD.scala:282)\n\tat org.apache.spark.api.python.PythonRDD.collectAndServe(PythonRDD.scala)\n\tat sun.reflect.NativeMethodAccessorImpl.invoke0(Native Method)\n\tat sun.reflect.NativeMethodAccessorImpl.invoke(NativeMethodAccessorImpl.java:62)\n\tat sun.reflect.DelegatingMethodAccessorImpl.invoke(DelegatingMethodAccessorImpl.java:43)\n\tat java.lang.reflect.Method.invoke(Method.java:498)\n\tat py4j.reflection.MethodInvoker.invoke(MethodInvoker.java:244)\n\tat py4j.reflection.ReflectionEngine.invoke(ReflectionEngine.java:380)\n\tat py4j.Gateway.invoke(Gateway.java:306)\n\tat py4j.commands.AbstractCommand.invokeMethod(AbstractCommand.java:132)\n\tat py4j.commands.CallCommand.execute(CallCommand.java:79)\n\tat py4j.ClientServerConnection.waitForCommands(ClientServerConnection.java:195)\n\tat py4j.ClientServerConnection.run(ClientServerConnection.java:115)\n\tat java.lang.Thread.run(Thread.java:750)\nCaused by: org.apache.spark.api.python.PythonException: 'TypeError: 'int' object is not subscriptable', from <command-3015325122668306>, line 1. Full traceback below:\nTraceback (most recent call last):\n  File \"/databricks/spark/python/pyspark/worker.py\", line 1037, in main\n    process()\n  File \"/databricks/spark/python/pyspark/worker.py\", line 1029, in process\n    serializer.dump_stream(out_iter, outfile)\n  File \"/databricks/spark/python/pyspark/serializers.py\", line 325, in dump_stream\n    vs = list(itertools.islice(iterator, batch))\n  File \"/databricks/spark/python/pyspark/util.py\", line 84, in wrapper\n    return f(*args, **kwargs)\n  File \"<command-3015325122668306>\", line 1, in <lambda>\nTypeError: 'int' object is not subscriptable\n\n\tat org.apache.spark.api.python.BasePythonRunner$ReaderIterator.handlePythonException(PythonRunner.scala:685)\n\tat org.apache.spark.api.python.PythonRunner$$anon$3.read(PythonRunner.scala:894)\n\tat org.apache.spark.api.python.PythonRunner$$anon$3.read(PythonRunner.scala:876)\n\tat org.apache.spark.api.python.BasePythonRunner$ReaderIterator.hasNext(PythonRunner.scala:638)\n\tat org.apache.spark.InterruptibleIterator.hasNext(InterruptibleIterator.scala:37)\n\tat scala.collection.Iterator.foreach(Iterator.scala:943)\n\tat scala.collection.Iterator.foreach$(Iterator.scala:943)\n\tat org.apache.spark.InterruptibleIterator.foreach(InterruptibleIterator.scala:28)\n\tat scala.collection.generic.Growable.$plus$plus$eq(Growable.scala:62)\n\tat scala.collection.generic.Growable.$plus$plus$eq$(Growable.scala:53)\n\tat scala.collection.mutable.ArrayBuffer.$plus$plus$eq(ArrayBuffer.scala:105)\n\tat scala.collection.mutable.ArrayBuffer.$plus$plus$eq(ArrayBuffer.scala:49)\n\tat scala.collection.TraversableOnce.to(TraversableOnce.scala:366)\n\tat scala.collection.TraversableOnce.to$(TraversableOnce.scala:364)\n\tat org.apache.spark.InterruptibleIterator.to(InterruptibleIterator.scala:28)\n\tat scala.collection.TraversableOnce.toBuffer(TraversableOnce.scala:358)\n\tat scala.collection.TraversableOnce.toBuffer$(TraversableOnce.scala:358)\n\tat org.apache.spark.InterruptibleIterator.toBuffer(InterruptibleIterator.scala:28)\n\tat scala.collection.TraversableOnce.toArray(TraversableOnce.scala:345)\n\tat scala.collection.TraversableOnce.toArray$(TraversableOnce.scala:339)\n\tat org.apache.spark.InterruptibleIterator.toArray(InterruptibleIterator.scala:28)\n\tat org.apache.spark.rdd.RDD.$anonfun$collect$2(RDD.scala:1072)\n\tat org.apache.spark.scheduler.ResultTask.$anonfun$runTask$3(ResultTask.scala:75)\n\tat com.databricks.spark.util.ExecutorFrameProfiler$.record(ExecutorFrameProfiler.scala:110)\n\tat org.apache.spark.scheduler.ResultTask.$anonfun$runTask$1(ResultTask.scala:75)\n\tat com.databricks.spark.util.ExecutorFrameProfiler$.record(ExecutorFrameProfiler.scala:110)\n\tat org.apache.spark.scheduler.ResultTask.runTask(ResultTask.scala:55)\n\tat org.apache.spark.scheduler.Task.doRunTask(Task.scala:179)\n\tat org.apache.spark.scheduler.Task.$anonfun$run$5(Task.scala:142)\n\tat com.databricks.unity.EmptyHandle$.runWithAndClose(UCSHandle.scala:126)\n\tat org.apache.spark.scheduler.Task.$anonfun$run$1(Task.scala:142)\n\tat com.databricks.spark.util.ExecutorFrameProfiler$.record(ExecutorFrameProfiler.scala:110)\n\tat org.apache.spark.scheduler.Task.run(Task.scala:97)\n\tat org.apache.spark.executor.Executor$TaskRunner.$anonfun$run$13(Executor.scala:904)\n\tat org.apache.spark.util.Utils$.tryWithSafeFinally(Utils.scala:1740)\n\tat org.apache.spark.executor.Executor$TaskRunner.$anonfun$run$4(Executor.scala:907)\n\tat scala.runtime.java8.JFunction0$mcV$sp.apply(JFunction0$mcV$sp.java:23)\n\tat com.databricks.spark.util.ExecutorFrameProfiler$.record(ExecutorFrameProfiler.scala:110)\n\tat org.apache.spark.executor.Executor$TaskRunner.run(Executor.scala:761)\n\tat java.util.concurrent.ThreadPoolExecutor.runWorker(ThreadPoolExecutor.java:1149)\n\tat java.util.concurrent.ThreadPoolExecutor$Worker.run(ThreadPoolExecutor.java:624)\n\t... 1 more\n\n\nDuring handling of the above exception, another exception occurred:\n\nTraceback (most recent call last):\n  File \"/databricks/python/lib/python3.9/site-packages/IPython/core/interactiveshell.py\", line 1997, in showtraceback\n    stb = self.InteractiveTB.structured_traceback(\n  File \"/databricks/python/lib/python3.9/site-packages/IPython/core/ultratb.py\", line 1112, in structured_traceback\n    return FormattedTB.structured_traceback(\n  File \"/databricks/python/lib/python3.9/site-packages/IPython/core/ultratb.py\", line 1006, in structured_traceback\n    return VerboseTB.structured_traceback(\n  File \"/databricks/python/lib/python3.9/site-packages/IPython/core/ultratb.py\", line 859, in structured_traceback\n    formatted_exception = self.format_exception_as_a_whole(etype, evalue, etb, number_of_lines_of_context,\n  File \"/databricks/python/lib/python3.9/site-packages/IPython/core/ultratb.py\", line 812, in format_exception_as_a_whole\n    frames.append(self.format_record(r))\n  File \"/databricks/python/lib/python3.9/site-packages/IPython/core/ultratb.py\", line 730, in format_record\n    result += ''.join(_format_traceback_lines(frame_info.lines, Colors, self.has_colors, lvals))\n  File \"/databricks/python/lib/python3.9/site-packages/stack_data/utils.py\", line 145, in cached_property_wrapper\n    value = obj.__dict__[self.func.__name__] = self.func(obj)\n  File \"/databricks/python/lib/python3.9/site-packages/stack_data/core.py\", line 698, in lines\n    pieces = self.included_pieces\n  File \"/databricks/python/lib/python3.9/site-packages/stack_data/utils.py\", line 145, in cached_property_wrapper\n    value = obj.__dict__[self.func.__name__] = self.func(obj)\n  File \"/databricks/python/lib/python3.9/site-packages/stack_data/core.py\", line 649, in included_pieces\n    pos = scope_pieces.index(self.executing_piece)\n  File \"/databricks/python/lib/python3.9/site-packages/stack_data/utils.py\", line 145, in cached_property_wrapper\n    value = obj.__dict__[self.func.__name__] = self.func(obj)\n  File \"/databricks/python/lib/python3.9/site-packages/stack_data/core.py\", line 628, in executing_piece\n    return only(\n  File \"/databricks/python/lib/python3.9/site-packages/executing/executing.py\", line 164, in only\n    raise NotOneValueFound('Expected one value, found 0')\nexecuting.executing.NotOneValueFound: Expected one value, found 0\n"
     ]
    },
    {
     "output_type": "display_data",
     "data": {
      "text/plain": [
       ""
      ]
     },
     "metadata": {
      "application/vnd.databricks.v1+output": {
       "arguments": {},
       "data": "",
       "errorSummary": "<span class='ansi-red-fg'>Py4JJavaError</span>: An error occurred while calling z:org.apache.spark.api.python.PythonRDD.collectAndServe.\n: org.apache.spark.SparkException: Job aborted due to stage failure: Task 0 in stage 24.0 failed 1 times, most recent failure: Lost task 0.0 in stage 24.0 (TID 37) (ip-10-172-220-181.us-west-2.compute.internal executor driver): org.apache.spark.api.python.PythonException: 'TypeError: 'int' object is not subscriptable', from <command-3015325122668306>, line 1. Full traceback below:\nTraceback (most recent call last):\n  File \"/databricks/spark/python/pyspark/worker.py\", line 1037, in main\n    process()\n  File \"/databricks/spark/python/pyspark/worker.py\", line 1029, in process\n    serializer.dump_stream(out_iter, outfile)\n  File \"/databricks/spark/python/pyspark/serializers.py\", line 325, in dump_stream\n    vs = list(itertools.islice(iterator, batch))\n  File \"/databricks/spark/python/pyspark/util.py\", line 84, in wrapper\n    return f(*args, **kwargs)\n  File \"<command-3015325122668306>\", line 1, in <lambda>\nTypeError: 'int' object is not subscriptable\n\n\tat org.apache.spark.api.python.BasePythonRunner$ReaderIterator.handlePythonException(PythonRunner.scala:685)\n\tat org.apache.spark.api.python.PythonRunner$$anon$3.read(PythonRunner.scala:894)\n\tat org.apache.spark.api.python.PythonRunner$$anon$3.read(PythonRunner.scala:876)\n\tat org.apache.spark.api.python.BasePythonRunner$ReaderIterator.hasNext(PythonRunner.scala:638)\n\tat org.apache.spark.InterruptibleIterator.hasNext(InterruptibleIterator.scala:37)\n\tat scala.collection.Iterator.foreach(Iterator.scala:943)\n\tat scala.collection.Iterator.foreach$(Iterator.scala:943)\n\tat org.apache.spark.InterruptibleIterator.foreach(InterruptibleIterator.scala:28)\n\tat scala.collection.generic.Growable.$plus$plus$eq(Growable.scala:62)\n\tat scala.collection.generic.Growable.$plus$plus$eq$(Growable.scala:53)\n\tat scala.collection.mutable.ArrayBuffer.$plus$plus$eq(ArrayBuffer.scala:105)\n\tat scala.collection.mutable.ArrayBuffer.$plus$plus$eq(ArrayBuffer.scala:49)\n\tat scala.collection.TraversableOnce.to(TraversableOnce.scala:366)\n\tat scala.collection.TraversableOnce.to$(TraversableOnce.scala:364)\n\tat org.apache.spark.InterruptibleIterator.to(InterruptibleIterator.scala:28)\n\tat scala.collection.TraversableOnce.toBuffer(TraversableOnce.scala:358)\n\tat scala.collection.TraversableOnce.toBuffer$(TraversableOnce.scala:358)\n\tat org.apache.spark.InterruptibleIterator.toBuffer(InterruptibleIterator.scala:28)\n\tat scala.collection.TraversableOnce.toArray(TraversableOnce.scala:345)\n\tat scala.collection.TraversableOnce.toArray$(TraversableOnce.scala:339)\n\tat org.apache.spark.InterruptibleIterator.toArray(InterruptibleIterator.scala:28)\n\tat org.apache.spark.rdd.RDD.$anonfun$collect$2(RDD.scala:1072)\n\tat org.apache.spark.scheduler.ResultTask.$anonfun$runTask$3(ResultTask.scala:75)\n\tat com.databricks.spark.util.ExecutorFrameProfiler$.record(ExecutorFrameProfiler.scala:110)\n\tat org.apache.spark.scheduler.ResultTask.$anonfun$runTask$1(ResultTask.scala:75)\n\tat com.databricks.spark.util.ExecutorFrameProfiler$.record(ExecutorFrameProfiler.scala:110)\n\tat org.apache.spark.scheduler.ResultTask.runTask(ResultTask.scala:55)\n\tat org.apache.spark.scheduler.Task.doRunTask(Task.scala:179)\n\tat org.apache.spark.scheduler.Task.$anonfun$run$5(Task.scala:142)\n\tat com.databricks.unity.EmptyHandle$.runWithAndClose(UCSHandle.scala:126)\n\tat org.apache.spark.scheduler.Task.$anonfun$run$1(Task.scala:142)\n\tat com.databricks.spark.util.ExecutorFrameProfiler$.record(ExecutorFrameProfiler.scala:110)\n\tat org.apache.spark.scheduler.Task.run(Task.scala:97)\n\tat org.apache.spark.executor.Executor$TaskRunner.$anonfun$run$13(Executor.scala:904)\n\tat org.apache.spark.util.Utils$.tryWithSafeFinally(Utils.scala:1740)\n\tat org.apache.spark.executor.Executor$TaskRunner.$anonfun$run$4(Executor.scala:907)\n\tat scala.runtime.java8.JFunction0$mcV$sp.apply(JFunction0$mcV$sp.java:23)\n\tat com.databricks.spark.util.ExecutorFrameProfiler$.record(ExecutorFrameProfiler.scala:110)\n\tat org.apache.spark.executor.Executor$TaskRunner.run(Executor.scala:761)\n\tat java.util.concurrent.ThreadPoolExecutor.runWorker(ThreadPoolExecutor.java:1149)\n\tat java.util.concurrent.ThreadPoolExecutor$Worker.run(ThreadPoolExecutor.java:624)\n\tat java.lang.Thread.run(Thread.java:750)\n\nDriver stacktrace:\n\tat org.apache.spark.scheduler.DAGScheduler.failJobAndIndependentStages(DAGScheduler.scala:3424)\n\tat org.apache.spark.scheduler.DAGScheduler.$anonfun$abortStage$2(DAGScheduler.scala:3346)\n\tat org.apache.spark.scheduler.DAGScheduler.$anonfun$abortStage$2$adapted(DAGScheduler.scala:3335)\n\tat scala.collection.mutable.ResizableArray.foreach(ResizableArray.scala:62)\n\tat scala.collection.mutable.ResizableArray.foreach$(ResizableArray.scala:55)\n\tat scala.collection.mutable.ArrayBuffer.foreach(ArrayBuffer.scala:49)\n\tat org.apache.spark.scheduler.DAGScheduler.abortStage(DAGScheduler.scala:3335)\n\tat org.apache.spark.scheduler.DAGScheduler.$anonfun$handleTaskSetFailed$1(DAGScheduler.scala:1444)\n\tat org.apache.spark.scheduler.DAGScheduler.$anonfun$handleTaskSetFailed$1$adapted(DAGScheduler.scala:1444)\n\tat scala.Option.foreach(Option.scala:407)\n\tat org.apache.spark.scheduler.DAGScheduler.handleTaskSetFailed(DAGScheduler.scala:1444)\n\tat org.apache.spark.scheduler.DAGSchedulerEventProcessLoop.doOnReceive(DAGScheduler.scala:3635)\n\tat org.apache.spark.scheduler.DAGSchedulerEventProcessLoop.onReceive(DAGScheduler.scala:3573)\n\tat org.apache.spark.scheduler.DAGSchedulerEventProcessLoop.onReceive(DAGScheduler.scala:3561)\n\tat org.apache.spark.util.EventLoop$$anon$1.run(EventLoop.scala:51)\n\tat org.apache.spark.scheduler.DAGScheduler.$anonfun$runJob$1(DAGScheduler.scala:1193)\n\tat scala.runtime.java8.JFunction0$mcV$sp.apply(JFunction0$mcV$sp.java:23)\n\tat com.databricks.spark.util.FrameProfiler$.record(FrameProfiler.scala:80)\n\tat org.apache.spark.scheduler.DAGScheduler.runJob(DAGScheduler.scala:1181)\n\tat org.apache.spark.SparkContext.runJobInternal(SparkContext.scala:2750)\n\tat org.apache.spark.rdd.RDD.$anonfun$collect$1(RDD.scala:1070)\n\tat org.apache.spark.rdd.RDDOperationScope$.withScope(RDDOperationScope.scala:165)\n\tat org.apache.spark.rdd.RDDOperationScope$.withScope(RDDOperationScope.scala:125)\n\tat org.apache.spark.rdd.RDDOperationScope$.withScope(RDDOperationScope.scala:112)\n\tat org.apache.spark.rdd.RDD.withScope(RDD.scala:445)\n\tat org.apache.spark.rdd.RDD.collect(RDD.scala:1068)\n\tat org.apache.spark.api.python.PythonRDD$.collectAndServe(PythonRDD.scala:282)\n\tat org.apache.spark.api.python.PythonRDD.collectAndServe(PythonRDD.scala)\n\tat sun.reflect.NativeMethodAccessorImpl.invoke0(Native Method)\n\tat sun.reflect.NativeMethodAccessorImpl.invoke(NativeMethodAccessorImpl.java:62)\n\tat sun.reflect.DelegatingMethodAccessorImpl.invoke(DelegatingMethodAccessorImpl.java:43)\n\tat java.lang.reflect.Method.invoke(Method.java:498)\n\tat py4j.reflection.MethodInvoker.invoke(MethodInvoker.java:244)\n\tat py4j.reflection.ReflectionEngine.invoke(ReflectionEngine.java:380)\n\tat py4j.Gateway.invoke(Gateway.java:306)\n\tat py4j.commands.AbstractCommand.invokeMethod(AbstractCommand.java:132)\n\tat py4j.commands.CallCommand.execute(CallCommand.java:79)\n\tat py4j.ClientServerConnection.waitForCommands(ClientServerConnection.java:195)\n\tat py4j.ClientServerConnection.run(ClientServerConnection.java:115)\n\tat java.lang.Thread.run(Thread.java:750)\nCaused by: org.apache.spark.api.python.PythonException: 'TypeError: 'int' object is not subscriptable', from <command-3015325122668306>, line 1. Full traceback below:\nTraceback (most recent call last):\n  File \"/databricks/spark/python/pyspark/worker.py\", line 1037, in main\n    process()\n  File \"/databricks/spark/python/pyspark/worker.py\", line 1029, in process\n    serializer.dump_stream(out_iter, outfile)\n  File \"/databricks/spark/python/pyspark/serializers.py\", line 325, in dump_stream\n    vs = list(itertools.islice(iterator, batch))\n  File \"/databricks/spark/python/pyspark/util.py\", line 84, in wrapper\n    return f(*args, **kwargs)\n  File \"<command-3015325122668306>\", line 1, in <lambda>\nTypeError: 'int' object is not subscriptable\n\n\tat org.apache.spark.api.python.BasePythonRunner$ReaderIterator.handlePythonException(PythonRunner.scala:685)\n\tat org.apache.spark.api.python.PythonRunner$$anon$3.read(PythonRunner.scala:894)\n\tat org.apache.spark.api.python.PythonRunner$$anon$3.read(PythonRunner.scala:876)\n\tat org.apache.spark.api.python.BasePythonRunner$ReaderIterator.hasNext(PythonRunner.scala:638)\n\tat org.apache.spark.InterruptibleIterator.hasNext(InterruptibleIterator.scala:37)\n\tat scala.collection.Iterator.foreach(Iterator.scala:943)\n\tat scala.collection.Iterator.foreach$(Iterator.scala:943)\n\tat org.apache.spark.InterruptibleIterator.foreach(InterruptibleIterator.scala:28)\n\tat scala.collection.generic.Growable.$plus$plus$eq(Growable.scala:62)\n\tat scala.collection.generic.Growable.$plus$plus$eq$(Growable.scala:53)\n\tat scala.collection.mutable.ArrayBuffer.$plus$plus$eq(ArrayBuffer.scala:105)\n\tat scala.collection.mutable.ArrayBuffer.$plus$plus$eq(ArrayBuffer.scala:49)\n\tat scala.collection.TraversableOnce.to(TraversableOnce.scala:366)\n\tat scala.collection.TraversableOnce.to$(TraversableOnce.scala:364)\n\tat org.apache.spark.InterruptibleIterator.to(InterruptibleIterator.scala:28)\n\tat scala.collection.TraversableOnce.toBuffer(TraversableOnce.scala:358)\n\tat scala.collection.TraversableOnce.toBuffer$(TraversableOnce.scala:358)\n\tat org.apache.spark.InterruptibleIterator.toBuffer(InterruptibleIterator.scala:28)\n\tat scala.collection.TraversableOnce.toArray(TraversableOnce.scala:345)\n\tat scala.collection.TraversableOnce.toArray$(TraversableOnce.scala:339)\n\tat org.apache.spark.InterruptibleIterator.toArray(InterruptibleIterator.scala:28)\n\tat org.apache.spark.rdd.RDD.$anonfun$collect$2(RDD.scala:1072)\n\tat org.apache.spark.scheduler.ResultTask.$anonfun$runTask$3(ResultTask.scala:75)\n\tat com.databricks.spark.util.ExecutorFrameProfiler$.record(ExecutorFrameProfiler.scala:110)\n\tat org.apache.spark.scheduler.ResultTask.$anonfun$runTask$1(ResultTask.scala:75)\n\tat com.databricks.spark.util.ExecutorFrameProfiler$.record(ExecutorFrameProfiler.scala:110)\n\tat org.apache.spark.scheduler.ResultTask.runTask(ResultTask.scala:55)\n\tat org.apache.spark.scheduler.Task.doRunTask(Task.scala:179)\n\tat org.apache.spark.scheduler.Task.$anonfun$run$5(Task.scala:142)\n\tat com.databricks.unity.EmptyHandle$.runWithAndClose(UCSHandle.scala:126)\n\tat org.apache.spark.scheduler.Task.$anonfun$run$1(Task.scala:142)\n\tat com.databricks.spark.util.ExecutorFrameProfiler$.record(ExecutorFrameProfiler.scala:110)\n\tat org.apache.spark.scheduler.Task.run(Task.scala:97)\n\tat org.apache.spark.executor.Executor$TaskRunner.$anonfun$run$13(Executor.scala:904)\n\tat org.apache.spark.util.Utils$.tryWithSafeFinally(Utils.scala:1740)\n\tat org.apache.spark.executor.Executor$TaskRunner.$anonfun$run$4(Executor.scala:907)\n\tat scala.runtime.java8.JFunction0$mcV$sp.apply(JFunction0$mcV$sp.java:23)\n\tat com.databricks.spark.util.ExecutorFrameProfiler$.record(ExecutorFrameProfiler.scala:110)\n\tat org.apache.spark.executor.Executor$TaskRunner.run(Executor.scala:761)\n\tat java.util.concurrent.ThreadPoolExecutor.runWorker(ThreadPoolExecutor.java:1149)\n\tat java.util.concurrent.ThreadPoolExecutor$Worker.run(ThreadPoolExecutor.java:624)\n\t... 1 more\n",
       "errorTraceType": "ansi",
       "metadata": {},
       "type": "ipynbError"
      }
     },
     "output_type": "display_data"
    }
   ],
   "source": [
    "average_rdd = keyrdd.map(lambda x: (x[0], x[1][0] / x[1][1]))\n",
    "average_rdd.collect()\n"
   ]
  },
  {
   "cell_type": "code",
   "execution_count": 0,
   "metadata": {
    "application/vnd.databricks.v1+cell": {
     "cellMetadata": {
      "byteLimit": 2048000,
      "rowLimit": 10000
     },
     "inputWidgets": {},
     "nuid": "9474bf33-993a-4f18-970e-d57dc9827515",
     "showTitle": false,
     "title": ""
    }
   },
   "outputs": [
    {
     "output_type": "display_data",
     "data": {
      "text/plain": [
       "\u001B[0;36m  File \u001B[0;32m<command-3015325122668307>:1\u001B[0;36m\u001B[0m\n",
       "\u001B[0;31m    average_rdd = keyrdd.reduceByKey(lambda x,y: (x[0]+y[0], x[1]+x[1]))\\.mapValues(lambda x : x[0]/x[1])\u001B[0m\n",
       "\u001B[0m                                                                                                        ^\u001B[0m\n",
       "\u001B[0;31mSyntaxError\u001B[0m\u001B[0;31m:\u001B[0m unexpected character after line continuation character\n"
      ]
     },
     "metadata": {
      "application/vnd.databricks.v1+output": {
       "arguments": {},
       "data": "\u001B[0;36m  File \u001B[0;32m<command-3015325122668307>:1\u001B[0;36m\u001B[0m\n\u001B[0;31m    average_rdd = keyrdd.reduceByKey(lambda x,y: (x[0]+y[0], x[1]+x[1]))\\.mapValues(lambda x : x[0]/x[1])\u001B[0m\n\u001B[0m                                                                                                        ^\u001B[0m\n\u001B[0;31mSyntaxError\u001B[0m\u001B[0;31m:\u001B[0m unexpected character after line continuation character\n",
       "errorSummary": "<span class='ansi-red-fg'>SyntaxError</span>: unexpected character after line continuation character (<command-3015325122668307>, line 1)",
       "errorTraceType": "ansi",
       "metadata": {},
       "type": "ipynbError"
      }
     },
     "output_type": "display_data"
    }
   ],
   "source": [
    "average_rdd = keyrdd.reduceByKey(lambda x,y: (x[0]+y[0], x[1]+x[1]))\\.mapValues(lambda x : x[0]/x[1])\n",
    "average_rdd.collect()"
   ]
  }
 ],
 "metadata": {
  "application/vnd.databricks.v1+notebook": {
   "dashboards": [],
   "environmentMetadata": null,
   "language": "python",
   "notebookMetadata": {
    "pythonIndentUnit": 4
   },
   "notebookName": "rdd_2",
   "widgets": {}
  }
 },
 "nbformat": 4,
 "nbformat_minor": 0
}
